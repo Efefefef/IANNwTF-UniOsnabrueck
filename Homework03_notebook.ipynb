{
  "nbformat": 4,
  "nbformat_minor": 0,
  "metadata": {
    "colab": {
      "provenance": [],
      "authorship_tag": "ABX9TyNNJ+AmxMFJ3eGPs4Gy0tii",
      "include_colab_link": true
    },
    "kernelspec": {
      "name": "python3",
      "display_name": "Python 3"
    },
    "language_info": {
      "name": "python"
    }
  },
  "cells": [
    {
      "cell_type": "markdown",
      "metadata": {
        "id": "view-in-github",
        "colab_type": "text"
      },
      "source": [
        "<a href=\"https://colab.research.google.com/github/Efefefef/IANNwTF-UniOsnabrueck/blob/main/Homework03_notebook.ipynb\" target=\"_parent\"><img src=\"https://colab.research.google.com/assets/colab-badge.svg\" alt=\"Open In Colab\"/></a>"
      ]
    },
    {
      "cell_type": "code",
      "source": [
        "import numpy as np\n",
        "import tensorflow_datasets as tfds\n",
        "import tensorflow as tf\n",
        "import matplotlib.pyplot as plt"
      ],
      "metadata": {
        "id": "sovInNoxNKZY"
      },
      "execution_count": 32,
      "outputs": []
    },
    {
      "cell_type": "code",
      "source": [
        "# Visualization function\n",
        "def visualization(train_losses , train_accuracies , test_losses , test_accuracies):\n",
        "    plt.figure()\n",
        "    #testing takes place every 1875th (no of samples/batch size = 60000/32) steps. So we plot them there. \n",
        "    #we test once more than we train, so we need one data boint more\n",
        "    #xtest = np.arange(0,len(train_losses)+1875,1875)\n",
        "    plt.plot(train_losses , \"b-\", label = 'training loss')\n",
        "    line2 , = plt.plot(test_losses , \"r-\", label = 'test loss') \n",
        "    line3 , = plt.plot(train_accuracies , \"b:\", label = 'train_accuracies')\n",
        "    line4 , = plt.plot(test_accuracies , \"r:\", label= 'test_accuracies') \n",
        "    plt.xlabel(\"Training steps\")\n",
        "    plt.ylabel(\"Loss/Accuracy\")\n",
        "    plt.legend()\n",
        "    plt.show()"
      ],
      "metadata": {
        "id": "D2GXjYbINn1F"
      },
      "execution_count": 33,
      "outputs": []
    },
    {
      "cell_type": "code",
      "source": [
        "def visualization(train_losses , train_accuracies , test_losses , test_accuracies):\n",
        "    plt.figure()\n",
        "    #testing takes place every 1875th (no of samples/batch size = 60000/32) steps. So we plot them there. \n",
        "    #we test once more than we train, so we need one data boint more\n",
        "    xtest = np.arange(0,len(train_losses)+1875,1875)\n",
        "    line1 , = plt.plot(train_losses , \"b-\")\n",
        "    line2 , = plt.plot(xtest, test_losses , \"r-\") \n",
        "    line3 , = plt.plot(train_accuracies , \"b:\")\n",
        "    line4 , = plt.plot(xtest, test_accuracies , \"r:\") \n",
        "    plt.xlabel(\"Training steps\")\n",
        "    plt.ylabel(\"Loss/Accuracy\")\n",
        "    plt.legend((line1, line2, line3, line4), (\"training loss\", \"test loss\", \"train accuracy\", \"test accuracy\"))\n",
        "    plt.show()"
      ],
      "metadata": {
        "id": "BpLAlXFsNwoB"
      },
      "execution_count": 34,
      "outputs": []
    },
    {
      "cell_type": "code",
      "source": [
        "def prepare_mnist_data(mnist_data, batch_size):\n",
        "    mnist_data = mnist_data.map(lambda image, target: (tf.cast(image, tf.float32) / 128. - 1, target))\n",
        "    mnist_data = mnist_data.map(lambda image, target: (tf.reshape(image, (-1,)), target))\n",
        "    mnist_data = mnist_data.map(lambda image, target: (image, tf.one_hot(target, 10)))\n",
        "    mnist_data.cache()\n",
        "    mnist_data = mnist_data.shuffle(1000)\n",
        "    mnist_data = mnist_data.batch(batch_size)\n",
        "    mnist_data = mnist_data.prefetch(tf.data.AUTOTUNE)\n",
        "\n",
        "    return mnist_data"
      ],
      "metadata": {
        "id": "PxMpu336PJSU"
      },
      "execution_count": 35,
      "outputs": []
    },
    {
      "cell_type": "code",
      "source": [
        "class MyModel(tf.keras.Model):\n",
        "\n",
        "    def __init__(self, n_unit):\n",
        "        super(MyModel, self).__init__()\n",
        "        self.dense1 = tf.keras.layers.Dense(n_unit, activation=tf.nn.relu)\n",
        "        self.dense2 = tf.keras.layers.Dense(n_unit, activation=tf.nn.relu)\n",
        "        self.out = tf.keras.layers.Dense(10, activation=tf.nn.softmax)\n",
        "\n",
        "    @tf.function\n",
        "    def call(self, inputs):\n",
        "        x = self.dense1(inputs)\n",
        "        x = self.dense2(x)\n",
        "        x = self.out(x)\n",
        "        return x"
      ],
      "metadata": {
        "id": "XYTC0Y6aPMTp"
      },
      "execution_count": 36,
      "outputs": []
    },
    {
      "cell_type": "code",
      "source": [
        "def train_step(model, input, target, loss_function, optimizer):\n",
        "    with tf.GradientTape() as tape:\n",
        "        predictions = model(input)\n",
        "        loss = loss_function(target, predictions)\n",
        "    gradients = tape.gradient(loss, model.trainable_variables)\n",
        "    optimizer.apply_gradients(zip(gradients, model.trainable_variables))\n",
        "    return loss, predictions\n",
        "\n",
        "def test(model, image, target, loss_function):\n",
        "    \n",
        "    predictions = model(image)\n",
        "    loss = loss_function(target, predictions)\n",
        "\n",
        "    return loss, predictions"
      ],
      "metadata": {
        "id": "37pH-CuoPWJT"
      },
      "execution_count": 37,
      "outputs": []
    },
    {
      "cell_type": "code",
      "execution_count": 38,
      "metadata": {
        "id": "CWvsEOaALZo_"
      },
      "outputs": [],
      "source": [
        "def train(model, train_ds, test_ds, epochs, loss_function, optimizer, train_losses, train_accuracies, test_losses, test_accuracies):\n",
        "    \n",
        "    for epoch in range(epochs):\n",
        "        train_accuracy_aggregator = []\n",
        "        test_accuracy_aggregator = []\n",
        "        #perform a testing step\n",
        "        #we do one testing step before training to see how good the network is by chance\n",
        "        losses = []\n",
        "        for image, target in test_ds:\n",
        "            loss, test_predictions = test(model, image, target, loss_function)\n",
        "            losses.append(loss)\n",
        "            \n",
        "            sample_test_accuracy = np.mean(np.argmax(test_predictions, axis=1) == np.argmax(target, axis=1))\n",
        "            test_accuracy_aggregator.append(sample_test_accuracy)\n",
        "            \n",
        "        #perform training\n",
        "        losses = []\n",
        "        for image, target in train_ds:\n",
        "            loss, predictions = train_step(model, image, target, loss_function, optimizer)\n",
        "            losses.append(loss)\n",
        "            sample_train_accuracy = np.mean(np.argmax(predictions, axis=1) == np.argmax(target, axis=1))\n",
        "            train_losses.append(tf.reduce_mean(losses))\n",
        "            train_accuracy_aggregator.append(np.mean(sample_train_accuracy))\n",
        "            train_accuracies.append(tf.reduce_mean(train_accuracy_aggregator))\n",
        "       \n",
        "        \n",
        "        #only store mean of loss and accuracy for test steps\n",
        "        test_losses.append(tf.reduce_mean(losses))         \n",
        "        test_accuracies.append(tf.reduce_mean(test_accuracy_aggregator))\n",
        "\n",
        "\n",
        "    #perform one extra test step because we can\n",
        "    losses = []\n",
        "    test_accuracy_aggregator = []\n",
        "\n",
        "    for image, target in test_ds:\n",
        "        loss, test_predictions = test(model, image, target, loss_function)\n",
        "        losses.append(loss)\n",
        "            \n",
        "        sample_test_accuracy = np.mean(np.argmax(test_predictions, axis=1) == np.argmax(target, axis=1))\n",
        "        test_accuracy_aggregator.append(sample_test_accuracy)\n",
        "    test_losses.append(tf.reduce_mean(losses))         \n",
        "    test_accuracies.append(tf.reduce_mean(test_accuracy_aggregator))\n",
        "\n",
        "    return train_losses, train_accuracies, test_losses, test_accuracies"
      ]
    },
    {
      "cell_type": "code",
      "source": [
        "num_epochs = 10\n",
        "learning_rate = 0.1\n",
        "n_unit = 256\n",
        "batch_size = 32\n",
        "\n",
        "model = MyModel(n_unit = n_unit)\n",
        "\n",
        "(train_ds, test_ds), ds_info = tfds.load(\n",
        "    'mnist',\n",
        "    split=['train', 'test'],\n",
        "    as_supervised=True,\n",
        "    with_info=True,\n",
        ")\n",
        "\n",
        "train_losses , train_accuracies , test_losses , test_accuracies = [], [], [], []\n",
        "\n",
        "train_losses, train_accuracies, test_losses ,test_accuracies = train(\n",
        "    model = model, \n",
        "    train_ds= prepare_mnist_data(train_ds, batch_size), \n",
        "    test_ds= prepare_mnist_data(test_ds, batch_size), \n",
        "    epochs= num_epochs, \n",
        "    loss_function= tf.keras.losses.CategoricalCrossentropy(), \n",
        "    optimizer = tf.keras.optimizers.SGD(learning_rate),\n",
        "    train_losses=train_losses,\n",
        "    train_accuracies=train_accuracies,\n",
        "    test_losses=test_losses,\n",
        "    test_accuracies=test_accuracies\n",
        ")"
      ],
      "metadata": {
        "id": "u5vYW4PYPD1h"
      },
      "execution_count": 39,
      "outputs": []
    },
    {
      "cell_type": "code",
      "source": [
        "visualization(train_losses, train_accuracies, test_losses, test_accuracies)"
      ],
      "metadata": {
        "colab": {
          "base_uri": "https://localhost:8080/",
          "height": 279
        },
        "id": "dgfEqgUDNsTC",
        "outputId": "7471cfea-74d2-42bb-f000-804e01724aa3"
      },
      "execution_count": 40,
      "outputs": [
        {
          "output_type": "display_data",
          "data": {
            "text/plain": [
              "<Figure size 432x288 with 1 Axes>"
            ],
            "image/png": "[encoded data removed]"
          },
          "metadata": {
            "needs_background": "light"
          }
        }
      ]
    },
    {
      "cell_type": "markdown",
      "source": [
        "## ADJUSTING HYPERPARAMETERS\n",
        "\n",
        "Observation is done by changing only one particular parameter, and having the remaining parameters the same as followings:\n",
        "\n",
        "```\n",
        "learning_rate = 0.1\n",
        "n_unit = 256\n",
        "batch_size = 32\n",
        "momentum=0.0\n",
        "\n",
        "```\n",
        "\n"
      ],
      "metadata": {
        "id": "isnKw0M_L8Qo"
      }
    },
    {
      "cell_type": "markdown",
      "source": [
        "### 1. Increasing learning rate to 0.8 "
      ],
      "metadata": {
        "id": "SOnf4-yxOuuw"
      }
    },
    {
      "cell_type": "code",
      "source": [
        "learning_rate = 0.8\n",
        "\n",
        "train_losses , train_accuracies , test_losses , test_accuracies = [], [], [], []\n",
        "\n",
        "train_losses, train_accuracies, test_losses ,test_accuracies = train(\n",
        "    model = model, \n",
        "    train_ds= prepare_mnist_data(train_ds, batch_size), \n",
        "    test_ds= prepare_mnist_data(test_ds, batch_size), \n",
        "    epochs= num_epochs, \n",
        "    loss_function= tf.keras.losses.CategoricalCrossentropy(), \n",
        "    optimizer = tf.keras.optimizers.SGD(learning_rate),\n",
        "    train_losses=train_losses,\n",
        "    train_accuracies=train_accuracies,\n",
        "    test_losses=test_losses,\n",
        "    test_accuracies=test_accuracies\n",
        ")\n",
        "\n",
        "visualization(train_losses, train_accuracies, test_losses, test_accuracies)"
      ],
      "metadata": {
        "id": "O1-qDYjDOtzE"
      },
      "execution_count": null,
      "outputs": []
    },
    {
      "cell_type": "markdown",
      "source": [
        "### 2. Increasing and decreasing batch size"
      ],
      "metadata": {
        "id": "dC1ZZgTCQJ5p"
      }
    },
    {
      "cell_type": "code",
      "source": [
        "# Increasing batch size\n",
        "learning_rate = 0.1\n",
        "batch_size = 64\n",
        "\n",
        "train_losses , train_accuracies , test_losses , test_accuracies = [], [], [], []\n",
        "\n",
        "train_losses, train_accuracies, test_losses ,test_accuracies = train(\n",
        "    model = model, \n",
        "    train_ds= prepare_mnist_data(train_ds, batch_size), \n",
        "    test_ds= prepare_mnist_data(test_ds, batch_size), \n",
        "    epochs= num_epochs, \n",
        "    loss_function= tf.keras.losses.CategoricalCrossentropy(), \n",
        "    optimizer = tf.keras.optimizers.SGD(learning_rate),\n",
        "    train_losses=train_losses,\n",
        "    train_accuracies=train_accuracies,\n",
        "    test_losses=test_losses,\n",
        "    test_accuracies=test_accuracies\n",
        ")\n",
        "\n",
        "visualization(train_losses, train_accuracies, test_losses, test_accuracies)"
      ],
      "metadata": {
        "id": "vCTowECrQP5Y"
      },
      "execution_count": 40,
      "outputs": []
    },
    {
      "cell_type": "code",
      "source": [
        "# Decreasing batch size\n",
        "learning_rate = 0.1\n",
        "batch_size = 8\n",
        "\n",
        "train_losses , train_accuracies , test_losses , test_accuracies = [], [], [], []\n",
        "\n",
        "train_losses, train_accuracies, test_losses ,test_accuracies = train(\n",
        "    model = model, \n",
        "    train_ds= prepare_mnist_data(train_ds, batch_size), \n",
        "    test_ds= prepare_mnist_data(test_ds, batch_size), \n",
        "    epochs= num_epochs, \n",
        "    loss_function= tf.keras.losses.CategoricalCrossentropy(), \n",
        "    optimizer = tf.keras.optimizers.SGD(learning_rate),\n",
        "    train_losses=train_losses,\n",
        "    train_accuracies=train_accuracies,\n",
        "    test_losses=test_losses,\n",
        "    test_accuracies=test_accuracies\n",
        ")\n",
        "\n",
        "visualization(train_losses, train_accuracies, test_losses, test_accuracies)"
      ],
      "metadata": {
        "id": "7WA8lIsDSKb2"
      },
      "execution_count": 41,
      "outputs": []
    },
    {
      "cell_type": "markdown",
      "source": [
        "### 3. Increasing n-unit in layer"
      ],
      "metadata": {
        "id": "SiQOa9cMSaYr"
      }
    },
    {
      "cell_type": "code",
      "source": [
        "learning_rate = 0.1\n",
        "n_unit = 512\n",
        "batch_size = 32\n",
        "\n",
        "train_losses , train_accuracies , test_losses , test_accuracies = [], [], [], []\n",
        "\n",
        "train_losses, train_accuracies, test_losses ,test_accuracies = train(\n",
        "    model = model, \n",
        "    train_ds= prepare_mnist_data(train_ds, batch_size), \n",
        "    test_ds= prepare_mnist_data(test_ds, batch_size), \n",
        "    epochs= num_epochs, \n",
        "    loss_function= tf.keras.losses.CategoricalCrossentropy(), \n",
        "    optimizer = tf.keras.optimizers.SGD(learning_rate),\n",
        "    train_losses=train_losses,\n",
        "    train_accuracies=train_accuracies,\n",
        "    test_losses=test_losses,\n",
        "    test_accuracies=test_accuracies\n",
        ")\n",
        "\n",
        "visualization(train_losses, train_accuracies, test_losses, test_accuracies)"
      ],
      "metadata": {
        "id": "8iHUWLqxSaYt"
      },
      "execution_count": null,
      "outputs": []
    },
    {
      "cell_type": "markdown",
      "source": [
        "### Increasing momentum"
      ],
      "metadata": {
        "id": "x_q-ieXaTfHa"
      }
    },
    {
      "cell_type": "code",
      "source": [
        "learning_rate = 0.1\n",
        "n_unit = 512\n",
        "batch_size = 32\n",
        "momentum = 0.9\n",
        "\n",
        "train_losses , train_accuracies , test_losses , test_accuracies = [], [], [], []\n",
        "\n",
        "train_losses, train_accuracies, test_losses ,test_accuracies = train(\n",
        "    model = model, \n",
        "    train_ds= prepare_mnist_data(train_ds, batch_size), \n",
        "    test_ds= prepare_mnist_data(test_ds, batch_size), \n",
        "    epochs= num_epochs, \n",
        "    loss_function= tf.keras.losses.CategoricalCrossentropy(), \n",
        "    optimizer = tf.keras.optimizers.SGD(learning_rate),\n",
        "    train_losses=train_losses,\n",
        "    train_accuracies=train_accuracies,\n",
        "    test_losses=test_losses,\n",
        "    test_accuracies=test_accuracies\n",
        ")\n",
        "\n",
        "visualization(train_losses, train_accuracies, test_losses, test_accuracies)"
      ],
      "metadata": {
        "id": "rqbGyB9_TdSJ"
      },
      "execution_count": null,
      "outputs": []
    }
  ]
}