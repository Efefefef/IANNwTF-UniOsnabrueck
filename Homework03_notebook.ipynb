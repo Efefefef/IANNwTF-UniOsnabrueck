{
  "nbformat": 4,
  "nbformat_minor": 0,
  "metadata": {
    "colab": {
      "provenance": [],
      "include_colab_link": true
    },
    "kernelspec": {
      "name": "python3",
      "display_name": "Python 3"
    },
    "language_info": {
      "name": "python"
    }
  },
  "cells": [
    {
      "cell_type": "markdown",
      "metadata": {
        "id": "view-in-github",
        "colab_type": "text"
      },
      "source": [
        "<a href=\"https://colab.research.google.com/github/Efefefef/IANNwTF-UniOsnabrueck/blob/main/Homework03_notebook.ipynb\" target=\"_parent\"><img src=\"https://colab.research.google.com/assets/colab-badge.svg\" alt=\"Open In Colab\"/></a>"
      ]
    },
    {
      "cell_type": "code",
      "source": [
        "import numpy as np\n",
        "import tensorflow_datasets as tfds\n",
        "import tensorflow as tf\n",
        "import matplotlib.pyplot as plt"
      ],
      "metadata": {
        "id": "sovInNoxNKZY"
      },
      "execution_count": 10,
      "outputs": []
    },
    {
      "cell_type": "code",
      "source": [
        "# Visualization function\n",
        "def visualization(train_losses , train_accuracies , test_losses , test_accuracies):\n",
        "    plt.figure()\n",
        "    line1 , = plt.plot(train_losses , \"b-\")\n",
        "    line2 , = plt.plot(test_losses , \"r-\") \n",
        "    line3 , = plt.plot(train_accuracies , \"b:\")\n",
        "    line4 , = plt.plot(test_accuracies , \"r:\") \n",
        "    plt.xlabel(\"Epochs\")\n",
        "    plt.ylabel(\"Loss/Accuracy\")\n",
        "    plt.legend((line1, line2, line3, line4), (\"training loss\", \"test loss\", \"train accuracy\", \"test accuracy\"))\n",
        "    plt.show()"
      ],
      "metadata": {
        "id": "D2GXjYbINn1F"
      },
      "execution_count": 11,
      "outputs": []
    },
    {
      "cell_type": "code",
      "source": [
        "# Prepare the data\n",
        "def prepare_mnist_data(mnist_data, batch_size):\n",
        "    mnist_data = mnist_data.map(lambda image, target: (tf.cast(image, tf.float32) / 128. - 1, target))\n",
        "    mnist_data = mnist_data.map(lambda image, target: (tf.reshape(image, (-1,)), target))\n",
        "    mnist_data = mnist_data.map(lambda image, target: (image, tf.one_hot(target, 10)))\n",
        "    mnist_data.cache()\n",
        "    mnist_data = mnist_data.shuffle(1000)\n",
        "    mnist_data = mnist_data.batch(batch_size)\n",
        "    mnist_data = mnist_data.prefetch(tf.data.AUTOTUNE)\n",
        "    return mnist_data"
      ],
      "metadata": {
        "id": "BpLAlXFsNwoB"
      },
      "execution_count": 12,
      "outputs": []
    },
    {
      "cell_type": "code",
      "source": [
        "class MyModel(tf.keras.Model):\n",
        "    # Define the layers of the model\n",
        "    def __init__(self, n_unit):\n",
        "        super(MyModel, self).__init__()\n",
        "        self.dense1 = tf.keras.layers.Dense(n_unit, activation=tf.nn.relu)\n",
        "        self.dense2 = tf.keras.layers.Dense(n_unit, activation=tf.nn.relu)\n",
        "        self.out = tf.keras.layers.Dense(10, activation=tf.nn.softmax)\n",
        "\n",
        "    # Forward pass\n",
        "    @tf.function\n",
        "    def call(self, inputs):\n",
        "        x = self.dense1(inputs)\n",
        "        x = self.dense2(x)\n",
        "        x = self.out(x)\n",
        "        return x"
      ],
      "metadata": {
        "id": "PxMpu336PJSU"
      },
      "execution_count": 13,
      "outputs": []
    },
    {
      "cell_type": "code",
      "source": [
        "# Define the training step\n",
        "def train_step(model, input, target, loss_function, optimizer):\n",
        "    with tf.GradientTape() as tape:\n",
        "        predictions = model(input)\n",
        "        loss = loss_function(target, predictions)\n",
        "    gradients = tape.gradient(loss, model.trainable_variables)\n",
        "    optimizer.apply_gradients(zip(gradients, model.trainable_variables))\n",
        "    return loss, predictions\n",
        "\n",
        "# Define the test step\n",
        "def test_step(model, image, target, loss_function):\n",
        "    predictions = model(image)\n",
        "    loss = loss_function(target, predictions)\n",
        "    return loss, predictions"
      ],
      "metadata": {
        "id": "XYTC0Y6aPMTp"
      },
      "execution_count": 14,
      "outputs": []
    },
    {
      "cell_type": "code",
      "source": [
        "# Test the model\n",
        "def test(model, test_ds, loss_function):\n",
        "    losses = []\n",
        "    accuracy_aggregator = []\n",
        "    for image, target in test_ds:\n",
        "        loss, predictions = test_step(model, image, target, loss_function)\n",
        "        losses.append(loss)\n",
        "        accuracy_aggregator.append(np.mean(np.argmax(predictions, axis=1) == np.argmax(target, axis=1)))\n",
        "    return tf.reduce_mean(losses), tf.reduce_mean(accuracy_aggregator)"
      ],
      "metadata": {
        "id": "37pH-CuoPWJT"
      },
      "execution_count": 15,
      "outputs": []
    },
    {
      "cell_type": "code",
      "execution_count": 16,
      "metadata": {
        "id": "CWvsEOaALZo_"
      },
      "outputs": [],
      "source": [
        "# Define the complete training function\n",
        "def train(model, train_ds, test_ds, epochs, loss_function, optimizer, train_losses, train_accuracies, test_losses, test_accuracies):\n",
        "\n",
        "    # Estimate the loss and accuracy on the train set before training\n",
        "    loss, accuracy = test(model, train_ds, loss_function)\n",
        "    train_losses.append(loss)       \n",
        "    train_accuracies.append(accuracy)\n",
        "\n",
        "    # Estimate the loss and accuracy on the test set before training\n",
        "    loss, accuracy = test(model, test_ds, loss_function)\n",
        "    test_losses.append(loss)      \n",
        "    test_accuracies.append(accuracy)\n",
        "\n",
        "    print(\"Pretraining, Loss: {}, Accuracy: {}, (Train)\".format(train_losses[-1], train_accuracies[-1])) \n",
        "    print(\"Pretraining, Loss: {}, Accuracy: {}, (Test)\".format(test_losses[-1], test_accuracies[-1])) \n",
        "    \n",
        "    # Train the model\n",
        "    for epoch in range(epochs):\n",
        "        train_accuracy_aggregator = []\n",
        "        losses = []\n",
        "        for image, target in train_ds:\n",
        "            loss, predictions = train_step(model, image, target, loss_function, optimizer)\n",
        "            losses.append(loss)\n",
        "            train_accuracy_aggregator.append(np.mean(np.argmax(predictions, axis=1) == np.argmax(target, axis=1)))\n",
        "\n",
        "        # Estimate the loss and accuracy on the train set after training    \n",
        "        train_losses.append(tf.reduce_mean(losses))\n",
        "        train_accuracies.append(tf.reduce_mean(train_accuracy_aggregator))\n",
        "\n",
        "        # Estimate the loss and accuracy on the test set after each epoch\n",
        "        loss, accuracy = test(model, train_ds, loss_function)\n",
        "        test_losses.append(loss)         \n",
        "        test_accuracies.append(accuracy)\n",
        "\n",
        "        print(\"Epoch: {}, Loss: {}, Accuracy: {}, (Train)\".format(epoch + 1, train_losses[-1], train_accuracies[-1])) \n",
        "        print(\"Epoch: {}, Loss: {}, Accuracy: {}, (Test)\".format(epoch + 1, test_losses[-1], test_accuracies[-1])) \n",
        "\n",
        "    return train_losses, train_accuracies, test_losses, test_accuracies"
      ]
    },
    {
      "cell_type": "code",
      "source": [
        "num_epochs = 10\n",
        "learning_rate = 0.1\n",
        "batch_size = 32\n",
        "n_unit = 256\n",
        "\n",
        "model = MyModel(n_unit)\n",
        "(train_ds, test_ds), ds_info = tfds.load(\n",
        "    'mnist',\n",
        "    split=['train', 'test'],\n",
        "    as_supervised=True,\n",
        "    with_info=True,\n",
        ")\n",
        "\n",
        "train_losses , train_accuracies , test_losses , test_accuracies = [], [], [], []\n",
        "\n",
        "train_losses, train_accuracies, test_losses ,test_accuracies = train(\n",
        "    model = model, \n",
        "    train_ds= prepare_mnist_data(train_ds, batch_size), \n",
        "    test_ds= prepare_mnist_data(test_ds, batch_size), \n",
        "    epochs= num_epochs, \n",
        "    loss_function= tf.keras.losses.CategoricalCrossentropy(), \n",
        "    optimizer = tf.keras.optimizers.SGD(learning_rate),\n",
        "    train_losses=train_losses,\n",
        "    train_accuracies=train_accuracies,\n",
        "    test_losses=test_losses,\n",
        "    test_accuracies=test_accuracies\n",
        ")"
      ],
      "metadata": {
        "id": "u5vYW4PYPD1h",
        "colab": {
          "base_uri": "https://localhost:8080/"
        },
        "outputId": "e811d98c-2790-41b8-f3cf-2b523ca1bec8"
      },
      "execution_count": null,
      "outputs": [
        {
          "output_type": "stream",
          "name": "stdout",
          "text": [
            "Pretraining, Loss: 2.5931396484375, Accuracy: 0.06551666666666667, (Train)\n",
            "Pretraining, Loss: 2.5919454097747803, Accuracy: 0.06569488817891374, (Test)\n",
            "Epoch: 1, Loss: 0.31933099031448364, Accuracy: 0.8993, (Train)\n",
            "Epoch: 1, Loss: 0.13202603161334991, Accuracy: 0.9596833333333333, (Test)\n",
            "Epoch: 2, Loss: 0.13078464567661285, Accuracy: 0.959, (Train)\n",
            "Epoch: 2, Loss: 0.09678088873624802, Accuracy: 0.9689666666666666, (Test)\n",
            "Epoch: 3, Loss: 0.09322050213813782, Accuracy: 0.9700833333333333, (Train)\n",
            "Epoch: 3, Loss: 0.06571328639984131, Accuracy: 0.9790166666666666, (Test)\n",
            "Epoch: 4, Loss: 0.07358229160308838, Accuracy: 0.9767166666666667, (Train)\n",
            "Epoch: 4, Loss: 0.05188214033842087, Accuracy: 0.9834166666666667, (Test)\n",
            "Epoch: 5, Loss: 0.05970402806997299, Accuracy: 0.9806833333333334, (Train)\n",
            "Epoch: 5, Loss: 0.047122322022914886, Accuracy: 0.9848333333333333, (Test)\n"
          ]
        }
      ]
    },
    {
      "cell_type": "code",
      "source": [
        "visualization(train_losses, train_accuracies, test_losses, test_accuracies)"
      ],
      "metadata": {
        "colab": {
          "base_uri": "https://localhost:8080/",
          "height": 279
        },
        "id": "dgfEqgUDNsTC",
        "outputId": "4eb8fd48-51ee-40bd-c232-f2e632a4e7d4"
      },
      "execution_count": 18,
      "outputs": [
        {
          "output_type": "display_data",
          "data": {
            "text/plain": [
              "<Figure size 432x288 with 1 Axes>"
            ],
            "image/png": "[encoded data removed]"
          },
          "metadata": {
            "needs_background": "light"
          }
        }
      ]
    },
    {
      "cell_type": "markdown",
      "source": [
        "## ADJUSTING HYPERPARAMETERS\n",
        "\n",
        "Observation is done by changing only one particular parameter, and having the remaining parameters the same as followings:\n",
        "\n",
        "```\n",
        "learning_rate = 0.1\n",
        "n_unit = 256\n",
        "batch_size = 32\n",
        "```\n",
        "\n"
      ],
      "metadata": {
        "id": "isnKw0M_L8Qo"
      }
    },
    {
      "cell_type": "markdown",
      "source": [
        "### 1) Reducing layer size to from 256 to 32 neurons"
      ],
      "metadata": {
        "id": "4j5DjznzUcMq"
      }
    },
    {
      "cell_type": "code",
      "source": [
        "num_epochs = 10\n",
        "learning_rate = 0.1\n",
        "batch_size = 32\n",
        "n_unit = 32 # from 256 to 32 units\n",
        "\n",
        "model = MyModel(n_unit)\n",
        "(train_ds, test_ds), ds_info = tfds.load(\n",
        "    'mnist',\n",
        "    split=['train', 'test'],\n",
        "    as_supervised=True,\n",
        "    with_info=True,\n",
        ")\n",
        "\n",
        "train_losses , train_accuracies , test_losses , test_accuracies = [], [], [], []\n",
        "\n",
        "train_losses, train_accuracies, test_losses ,test_accuracies = train(\n",
        "    model = model, \n",
        "    train_ds= prepare_mnist_data(train_ds, batch_size), \n",
        "    test_ds= prepare_mnist_data(test_ds, batch_size), \n",
        "    epochs= num_epochs, \n",
        "    loss_function= tf.keras.losses.CategoricalCrossentropy(), \n",
        "    optimizer = tf.keras.optimizers.SGD(learning_rate),\n",
        "    train_losses=train_losses,\n",
        "    train_accuracies=train_accuracies,\n",
        "    test_losses=test_losses,\n",
        "    test_accuracies=test_accuracies\n",
        ")\n",
        "visualization(train_losses, train_accuracies, test_losses, test_accuracies)"
      ],
      "metadata": {
        "id": "yA85ylH4CNWT"
      },
      "execution_count": null,
      "outputs": []
    },
    {
      "cell_type": "markdown",
      "source": [
        "**Observation:**\n",
        "\n"
      ],
      "metadata": {
        "id": "zGJSbvPPGMZ_"
      }
    },
    {
      "cell_type": "markdown",
      "source": [
        "### 2) Increasing batch size from 32 to 64"
      ],
      "metadata": {
        "id": "GF-IuGGBYYhq"
      }
    },
    {
      "cell_type": "code",
      "source": [
        "num_epochs = 10\n",
        "learning_rate = 0.1\n",
        "batch_size = 64 # from 32 to 64 units\n",
        "n_unit = 256 \n",
        "\n",
        "model = MyModel(n_unit)\n",
        "(train_ds, test_ds), ds_info = tfds.load(\n",
        "    'mnist',\n",
        "    split=['train', 'test'],\n",
        "    as_supervised=True,\n",
        "    with_info=True,\n",
        ")\n",
        "\n",
        "train_losses , train_accuracies , test_losses , test_accuracies = [], [], [], []\n",
        "\n",
        "train_losses, train_accuracies, test_losses ,test_accuracies = train(\n",
        "    model = model, \n",
        "    train_ds= prepare_mnist_data(train_ds, batch_size), \n",
        "    test_ds= prepare_mnist_data(test_ds, batch_size), \n",
        "    epochs= num_epochs, \n",
        "    loss_function= tf.keras.losses.CategoricalCrossentropy(), \n",
        "    optimizer = tf.keras.optimizers.SGD(learning_rate),\n",
        "    train_losses=train_losses,\n",
        "    train_accuracies=train_accuracies,\n",
        "    test_losses=test_losses,\n",
        "    test_accuracies=test_accuracies\n",
        ")\n",
        "visualization(train_losses, train_accuracies, test_losses, test_accuracies)"
      ],
      "metadata": {
        "id": "OiDbxqAlCbwV"
      },
      "execution_count": null,
      "outputs": []
    },
    {
      "cell_type": "markdown",
      "source": [
        "**Observation:**\n",
        "\n"
      ],
      "metadata": {
        "id": "-AGI5h_uGRVZ"
      }
    },
    {
      "cell_type": "markdown",
      "source": [
        "### 3) Increasing learning rate from 0.1 to 0.2"
      ],
      "metadata": {
        "id": "q0flFnNHYQ7S"
      }
    },
    {
      "cell_type": "code",
      "source": [
        "num_epochs = 10\n",
        "learning_rate = 0.2  # from 0.1 to 0.2\n",
        "batch_size = 32\n",
        "n_unit = 256\n",
        "\n",
        "model = MyModel(n_unit)\n",
        "(train_ds, test_ds), ds_info = tfds.load(\n",
        "    'mnist',\n",
        "    split=['train', 'test'],\n",
        "    as_supervised=True,\n",
        "    with_info=True,\n",
        ")\n",
        "\n",
        "train_losses , train_accuracies , test_losses , test_accuracies = [], [], [], []\n",
        "\n",
        "train_losses, train_accuracies, test_losses ,test_accuracies = train(\n",
        "    model = model, \n",
        "    train_ds= prepare_mnist_data(train_ds, batch_size), \n",
        "    test_ds= prepare_mnist_data(test_ds, batch_size), \n",
        "    epochs= num_epochs, \n",
        "    loss_function= tf.keras.losses.CategoricalCrossentropy(), \n",
        "    optimizer = tf.keras.optimizers.SGD(learning_rate),\n",
        "    train_losses=train_losses,\n",
        "    train_accuracies=train_accuracies,\n",
        "    test_losses=test_losses,\n",
        "    test_accuracies=test_accuracies\n",
        ")"
      ],
      "metadata": {
        "id": "CfnsFDm3CkCY"
      },
      "execution_count": null,
      "outputs": []
    },
    {
      "cell_type": "markdown",
      "source": [
        "**Observation:**\n",
        "\n"
      ],
      "metadata": {
        "id": "AdbxpT74GYU_"
      }
    },
    {
      "cell_type": "markdown",
      "source": [
        "### 4) Reducing 2 layers to 1 hidden layer (256 neurons)"
      ],
      "metadata": {
        "id": "r5yUYwwqYHcw"
      }
    },
    {
      "cell_type": "code",
      "source": [
        "# Updating model to only 1 hidden layer\n",
        "\n",
        "class MyModel(tf.keras.Model):\n",
        "    # Define the layers of the model\n",
        "    def __init__(self, n_unit):\n",
        "        super(MyModel, self).__init__()\n",
        "        self.dense1 = tf.keras.layers.Dense(n_unit, activation=tf.nn.relu)\n",
        "        # self.dense2 = tf.keras.layers.Dense(n_unit, activation=tf.nn.relu)\n",
        "        self.out = tf.keras.layers.Dense(10, activation=tf.nn.softmax)\n",
        "\n",
        "    # Forward pass\n",
        "    @tf.function\n",
        "    def call(self, inputs):\n",
        "        x = self.dense1(inputs)\n",
        "        # x = self.dense2(x)\n",
        "        x = self.out(x)\n",
        "        return x"
      ],
      "metadata": {
        "id": "VfqpUP3DCrLA"
      },
      "execution_count": null,
      "outputs": []
    },
    {
      "cell_type": "code",
      "source": [
        "num_epochs = 10\n",
        "learning_rate = 0.1\n",
        "batch_size = 32\n",
        "n_unit = 32 # from 256 to 32 units\n",
        "\n",
        "model = MyModel(n_unit)\n",
        "(train_ds, test_ds), ds_info = tfds.load(\n",
        "    'mnist',\n",
        "    split=['train', 'test'],\n",
        "    as_supervised=True,\n",
        "    with_info=True,\n",
        ")\n",
        "\n",
        "train_losses , train_accuracies , test_losses , test_accuracies = [], [], [], []\n",
        "\n",
        "train_losses, train_accuracies, test_losses ,test_accuracies = train(\n",
        "    model = model, \n",
        "    train_ds= prepare_mnist_data(train_ds, batch_size), \n",
        "    test_ds= prepare_mnist_data(test_ds, batch_size), \n",
        "    epochs= num_epochs, \n",
        "    loss_function= tf.keras.losses.CategoricalCrossentropy(), \n",
        "    optimizer = tf.keras.optimizers.SGD(learning_rate),\n",
        "    train_losses=train_losses,\n",
        "    train_accuracies=train_accuracies,\n",
        "    test_losses=test_losses,\n",
        "    test_accuracies=test_accuracies\n",
        ")\n",
        "visualization(train_losses, train_accuracies, test_losses, test_accuracies)"
      ],
      "metadata": {
        "id": "10QRZZ3iC6pk"
      },
      "execution_count": null,
      "outputs": []
    },
    {
      "cell_type": "markdown",
      "source": [
        "**Observation:**\n",
        "\n"
      ],
      "metadata": {
        "id": "nMiJ8ilCGZS3"
      }
    }
  ]
}