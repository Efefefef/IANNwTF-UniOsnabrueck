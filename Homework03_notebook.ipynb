{
  "nbformat": 4,
  "nbformat_minor": 0,
  "metadata": {
    "colab": {
      "provenance": [],
      "include_colab_link": true
    },
    "kernelspec": {
      "name": "python3",
      "display_name": "Python 3"
    },
    "language_info": {
      "name": "python"
    }
  },
  "cells": [
    {
      "cell_type": "markdown",
      "metadata": {
        "id": "view-in-github",
        "colab_type": "text"
      },
      "source": [
        "<a href=\"https://colab.research.google.com/github/Efefefef/IANNwTF-UniOsnabrueck/blob/main/Homework03_notebook.ipynb\" target=\"_parent\"><img src=\"https://colab.research.google.com/assets/colab-badge.svg\" alt=\"Open In Colab\"/></a>"
      ]
    },
    {
      "cell_type": "code",
      "source": [
        "import numpy as np\n",
        "import tensorflow_datasets as tfds\n",
        "import tensorflow as tf\n",
        "import matplotlib.pyplot as plt"
      ],
      "metadata": {
        "id": "sovInNoxNKZY"
      },
      "execution_count": null,
      "outputs": []
    },
    {
      "cell_type": "code",
      "source": [
        "# Visualization function\n",
        "def visualization(train_losses , train_accuracies , test_losses , test_accuracies):\n",
        "    plt.figure()\n",
        "    line1 , = plt.plot(train_losses , \"b-\")\n",
        "    line2 , = plt.plot(test_losses , \"r-\") \n",
        "    line3 , = plt.plot(train_accuracies , \"b:\")\n",
        "    line4 , = plt.plot(test_accuracies , \"r:\") \n",
        "    plt.xlabel(\"Epochs\")\n",
        "    plt.ylabel(\"Loss/Accuracy\")\n",
        "    plt.legend((line1, line2, line3, line4), (\"training loss\", \"test loss\", \"train accuracy\", \"test accuracy\"))\n",
        "    plt.show()"
      ],
      "metadata": {
        "id": "D2GXjYbINn1F"
      },
      "execution_count": null,
      "outputs": []
    },
    {
      "cell_type": "code",
      "source": [
        "# Prepare the data\n",
        "def prepare_mnist_data(mnist_data, batch_size):\n",
        "    mnist_data = mnist_data.map(lambda image, target: (tf.cast(image, tf.float32) / 128. - 1, target))\n",
        "    mnist_data = mnist_data.map(lambda image, target: (tf.reshape(image, (-1,)), target))\n",
        "    mnist_data = mnist_data.map(lambda image, target: (image, tf.one_hot(target, 10)))\n",
        "    mnist_data.cache()\n",
        "    mnist_data = mnist_data.shuffle(1000)\n",
        "    mnist_data = mnist_data.batch(batch_size)\n",
        "    mnist_data = mnist_data.prefetch(tf.data.AUTOTUNE)\n",
        "    return mnist_data"
      ],
      "metadata": {
        "id": "BpLAlXFsNwoB"
      },
      "execution_count": null,
      "outputs": []
    },
    {
      "cell_type": "code",
      "source": [
        "class MyModel(tf.keras.Model):\n",
        "    # Define the layers of the model\n",
        "    def __init__(self, n_unit):\n",
        "        super(MyModel, self).__init__()\n",
        "        self.dense1 = tf.keras.layers.Dense(n_unit, activation=tf.nn.relu)\n",
        "        self.dense2 = tf.keras.layers.Dense(n_unit, activation=tf.nn.relu)\n",
        "        self.out = tf.keras.layers.Dense(10, activation=tf.nn.softmax)\n",
        "\n",
        "    # Forward pass\n",
        "    @tf.function\n",
        "    def call(self, inputs):\n",
        "        x = self.dense1(inputs)\n",
        "        x = self.dense2(x)\n",
        "        x = self.out(x)\n",
        "        return x"
      ],
      "metadata": {
        "id": "PxMpu336PJSU"
      },
      "execution_count": null,
      "outputs": []
    },
    {
      "cell_type": "code",
      "source": [
        "# Define the training step\n",
        "def train_step(model, input, target, loss_function, optimizer):\n",
        "    with tf.GradientTape() as tape:\n",
        "        predictions = model(input)\n",
        "        loss = loss_function(target, predictions)\n",
        "    gradients = tape.gradient(loss, model.trainable_variables)\n",
        "    optimizer.apply_gradients(zip(gradients, model.trainable_variables))\n",
        "    return loss, predictions\n",
        "\n",
        "# Define the test step\n",
        "def test_step(model, image, target, loss_function):\n",
        "    predictions = model(image)\n",
        "    loss = loss_function(target, predictions)\n",
        "    return loss, predictions"
      ],
      "metadata": {
        "id": "XYTC0Y6aPMTp"
      },
      "execution_count": null,
      "outputs": []
    },
    {
      "cell_type": "code",
      "source": [
        "# Test the model\n",
        "def test(model, test_ds, loss_function):\n",
        "    losses = []\n",
        "    accuracy_aggregator = []\n",
        "    for image, target in test_ds:\n",
        "        loss, predictions = test_step(model, image, target, loss_function)\n",
        "        losses.append(loss)\n",
        "        accuracy_aggregator.append(np.mean(np.argmax(predictions, axis=1) == np.argmax(target, axis=1)))\n",
        "    return tf.reduce_mean(losses), tf.reduce_mean(accuracy_aggregator)"
      ],
      "metadata": {
        "id": "37pH-CuoPWJT"
      },
      "execution_count": null,
      "outputs": []
    },
    {
      "cell_type": "code",
      "execution_count": null,
      "metadata": {
        "id": "CWvsEOaALZo_"
      },
      "outputs": [],
      "source": [
        "# Define the complete training function\n",
        "def train(model, train_ds, test_ds, epochs, loss_function, optimizer, train_losses, train_accuracies, test_losses, test_accuracies):\n",
        "\n",
        "    # Estimate the loss and accuracy on the train set before training\n",
        "    loss, accuracy = test(model, train_ds, loss_function)\n",
        "    train_losses.append(loss)       \n",
        "    train_accuracies.append(accuracy)\n",
        "\n",
        "    # Estimate the loss and accuracy on the test set before training\n",
        "    loss, accuracy = test(model, test_ds, loss_function)\n",
        "    test_losses.append(loss)      \n",
        "    test_accuracies.append(accuracy)\n",
        "\n",
        "    print(\"Pretraining, Loss: {}, Accuracy: {}, (Train)\".format(train_losses[-1], train_accuracies[-1])) \n",
        "    print(\"Pretraining, Loss: {}, Accuracy: {}, (Test)\".format(test_losses[-1], test_accuracies[-1])) \n",
        "    \n",
        "    # Train the model\n",
        "    for epoch in range(epochs):\n",
        "        train_accuracy_aggregator = []\n",
        "        losses = []\n",
        "        for image, target in train_ds:\n",
        "            loss, predictions = train_step(model, image, target, loss_function, optimizer)\n",
        "            losses.append(loss)\n",
        "            train_accuracy_aggregator.append(np.mean(np.argmax(predictions, axis=1) == np.argmax(target, axis=1)))\n",
        "\n",
        "        # Estimate the loss and accuracy on the train set after training    \n",
        "        train_losses.append(tf.reduce_mean(losses))\n",
        "        train_accuracies.append(tf.reduce_mean(train_accuracy_aggregator))\n",
        "\n",
        "        # Estimate the loss and accuracy on the test set after each epoch\n",
        "        loss, accuracy = test(model, train_ds, loss_function)\n",
        "        test_losses.append(loss)         \n",
        "        test_accuracies.append(accuracy)\n",
        "\n",
        "        print(\"Epoch: {}, Loss: {}, Accuracy: {}, (Train)\".format(epoch + 1, train_losses[-1], train_accuracies[-1])) \n",
        "        print(\"Epoch: {}, Loss: {}, Accuracy: {}, (Test)\".format(epoch + 1, test_losses[-1], test_accuracies[-1])) \n",
        "\n",
        "    return train_losses, train_accuracies, test_losses, test_accuracies"
      ]
    },
    {
      "cell_type": "code",
      "source": [
        "num_epochs = 10\n",
        "learning_rate = 0.1\n",
        "batch_size = 32\n",
        "n_unit = 256\n",
        "\n",
        "model = MyModel(n_unit)\n",
        "(train_ds, test_ds), ds_info = tfds.load(\n",
        "    'mnist',\n",
        "    split=['train', 'test'],\n",
        "    as_supervised=True,\n",
        "    with_info=True,\n",
        ")\n",
        "\n",
        "train_losses , train_accuracies , test_losses , test_accuracies = [], [], [], []\n",
        "\n",
        "train_losses, train_accuracies, test_losses ,test_accuracies = train(\n",
        "    model = model, \n",
        "    train_ds= prepare_mnist_data(train_ds, batch_size), \n",
        "    test_ds= prepare_mnist_data(test_ds, batch_size), \n",
        "    epochs= num_epochs, \n",
        "    loss_function= tf.keras.losses.CategoricalCrossentropy(), \n",
        "    optimizer = tf.keras.optimizers.SGD(learning_rate),\n",
        "    train_losses=train_losses,\n",
        "    train_accuracies=train_accuracies,\n",
        "    test_losses=test_losses,\n",
        "    test_accuracies=test_accuracies\n",
        ")"
      ],
      "metadata": {
        "id": "u5vYW4PYPD1h",
        "colab": {
          "base_uri": "https://localhost:8080/"
        },
        "outputId": "03135638-bab4-47b3-d429-be6c860adf35"
      },
      "execution_count": 45,
      "outputs": [
        {
          "output_type": "stream",
          "name": "stdout",
          "text": [
            "Pretraining, Loss: 3.428236961364746, Accuracy: 0.10238333333333334, (Train)\n",
            "Pretraining, Loss: 3.435230255126953, Accuracy: 0.10123801916932908, (Test)\n",
            "Epoch: 1, Loss: 0.3431757390499115, Accuracy: 0.8965, (Train)\n",
            "Epoch: 1, Loss: 0.1648102104663849, Accuracy: 0.9488, (Test)\n",
            "Epoch: 2, Loss: 0.15016420185565948, Accuracy: 0.9541166666666666, (Train)\n",
            "Epoch: 2, Loss: 0.10366424173116684, Accuracy: 0.9692333333333333, (Test)\n",
            "Epoch: 3, Loss: 0.1126386895775795, Accuracy: 0.9655166666666667, (Train)\n",
            "Epoch: 3, Loss: 0.07869868725538254, Accuracy: 0.9755333333333334, (Test)\n",
            "Epoch: 4, Loss: 0.09274271875619888, Accuracy: 0.9708666666666667, (Train)\n",
            "Epoch: 4, Loss: 0.06337035447359085, Accuracy: 0.9809166666666667, (Test)\n",
            "Epoch: 5, Loss: 0.07931424677371979, Accuracy: 0.97525, (Train)\n",
            "Epoch: 5, Loss: 0.05517011135816574, Accuracy: 0.9828833333333333, (Test)\n",
            "Epoch: 6, Loss: 0.06686540693044662, Accuracy: 0.9791833333333333, (Train)\n",
            "Epoch: 6, Loss: 0.05925342068076134, Accuracy: 0.98135, (Test)\n",
            "Epoch: 7, Loss: 0.05760473385453224, Accuracy: 0.9815833333333334, (Train)\n",
            "Epoch: 7, Loss: 0.054268497973680496, Accuracy: 0.9820833333333333, (Test)\n",
            "Epoch: 8, Loss: 0.051049795001745224, Accuracy: 0.9838333333333333, (Train)\n",
            "Epoch: 8, Loss: 0.03912005200982094, Accuracy: 0.9873833333333333, (Test)\n",
            "Epoch: 9, Loss: 0.04587602615356445, Accuracy: 0.9852666666666666, (Train)\n",
            "Epoch: 9, Loss: 0.033690195530653, Accuracy: 0.9894166666666667, (Test)\n",
            "Epoch: 10, Loss: 0.040356602519750595, Accuracy: 0.98745, (Train)\n",
            "Epoch: 10, Loss: 0.03304147720336914, Accuracy: 0.9894, (Test)\n"
          ]
        }
      ]
    },
    {
      "cell_type": "code",
      "source": [
        "visualization(train_losses, train_accuracies, test_losses, test_accuracies)"
      ],
      "metadata": {
        "colab": {
          "base_uri": "https://localhost:8080/",
          "height": 279
        },
        "id": "dgfEqgUDNsTC",
        "outputId": "8fe6b593-64d3-4a7c-fe1a-f32e0085a4d3"
      },
      "execution_count": 46,
      "outputs": [
        {
          "output_type": "display_data",
          "data": {
            "text/plain": [
              "<Figure size 432x288 with 1 Axes>"
            ],
            "image/png": "[encoded data removed]"
          },
          "metadata": {
            "needs_background": "light"
          }
        }
      ]
    },
    {
      "cell_type": "markdown",
      "source": [
        "## ADJUSTING HYPERPARAMETERS\n",
        "\n",
        "Observation is done by changing only one particular parameter, and having the remaining parameters the same as followings:\n",
        "\n",
        "```\n",
        "learning_rate = 0.1\n",
        "n_unit = 256\n",
        "batch_size = 32\n",
        "```\n",
        "\n"
      ],
      "metadata": {
        "id": "isnKw0M_L8Qo"
      }
    },
    {
      "cell_type": "markdown",
      "source": [
        "### 1) Reducing layer size to from 256 to 32 neurons"
      ],
      "metadata": {
        "id": "4j5DjznzUcMq"
      }
    },
    {
      "cell_type": "code",
      "source": [
        "num_epochs = 10\n",
        "learning_rate = 0.1\n",
        "batch_size = 32\n",
        "n_unit = 32 # from 256 to 32 units\n",
        "\n",
        "model = MyModel(n_unit)\n",
        "(train_ds, test_ds), ds_info = tfds.load(\n",
        "    'mnist',\n",
        "    split=['train', 'test'],\n",
        "    as_supervised=True,\n",
        "    with_info=True,\n",
        ")\n",
        "\n",
        "train_losses , train_accuracies , test_losses , test_accuracies = [], [], [], []\n",
        "\n",
        "train_losses, train_accuracies, test_losses ,test_accuracies = train(\n",
        "    model = model, \n",
        "    train_ds= prepare_mnist_data(train_ds, batch_size), \n",
        "    test_ds= prepare_mnist_data(test_ds, batch_size), \n",
        "    epochs= num_epochs, \n",
        "    loss_function= tf.keras.losses.CategoricalCrossentropy(), \n",
        "    optimizer = tf.keras.optimizers.SGD(learning_rate),\n",
        "    train_losses=train_losses,\n",
        "    train_accuracies=train_accuracies,\n",
        "    test_losses=test_losses,\n",
        "    test_accuracies=test_accuracies\n",
        ")\n",
        "visualization(train_losses, train_accuracies, test_losses, test_accuracies)"
      ],
      "metadata": {
        "id": "yA85ylH4CNWT",
        "outputId": "28fd607d-c9d7-4693-d1e2-809b2c745029",
        "colab": {
          "base_uri": "https://localhost:8080/",
          "height": 661
        }
      },
      "execution_count": null,
      "outputs": [
        {
          "output_type": "stream",
          "name": "stdout",
          "text": [
            "Pretraining, Loss: 2.5646488666534424, Accuracy: 0.0983, (Train)\n",
            "Pretraining, Loss: 2.56738543510437, Accuracy: 0.09554712460063898, (Test)\n",
            "Epoch: 1, Loss: 0.6374214291572571, Accuracy: 0.7903333333333333, (Train)\n",
            "Epoch: 1, Loss: 0.34630656242370605, Accuracy: 0.8962833333333333, (Test)\n",
            "Epoch: 2, Loss: 0.361100971698761, Accuracy: 0.88845, (Train)\n",
            "Epoch: 2, Loss: 0.29369503259658813, Accuracy: 0.9094, (Test)\n",
            "Epoch: 3, Loss: 0.32193195819854736, Accuracy: 0.9009, (Train)\n",
            "Epoch: 3, Loss: 0.2813875377178192, Accuracy: 0.9109, (Test)\n",
            "Epoch: 4, Loss: 0.2975057065486908, Accuracy: 0.90975, (Train)\n",
            "Epoch: 4, Loss: 0.2605935037136078, Accuracy: 0.9214833333333333, (Test)\n",
            "Epoch: 5, Loss: 0.2799217998981476, Accuracy: 0.9146166666666666, (Train)\n",
            "Epoch: 5, Loss: 0.26049619913101196, Accuracy: 0.9183333333333333, (Test)\n",
            "Epoch: 6, Loss: 0.2641645073890686, Accuracy: 0.9195166666666666, (Train)\n",
            "Epoch: 6, Loss: 0.24586394429206848, Accuracy: 0.92645, (Test)\n",
            "Epoch: 7, Loss: 0.2535034120082855, Accuracy: 0.9236, (Train)\n",
            "Epoch: 7, Loss: 0.20809012651443481, Accuracy: 0.9378166666666666, (Test)\n",
            "Epoch: 8, Loss: 0.24927188456058502, Accuracy: 0.92465, (Train)\n",
            "Epoch: 8, Loss: 0.25606054067611694, Accuracy: 0.9203333333333333, (Test)\n",
            "Epoch: 9, Loss: 0.24534477293491364, Accuracy: 0.9264166666666667, (Train)\n",
            "Epoch: 9, Loss: 0.22519952058792114, Accuracy: 0.9312, (Test)\n",
            "Epoch: 10, Loss: 0.23915432393550873, Accuracy: 0.9276, (Train)\n",
            "Epoch: 10, Loss: 0.2141420990228653, Accuracy: 0.93285, (Test)\n"
          ]
        },
        {
          "output_type": "display_data",
          "data": {
            "text/plain": [
              "<Figure size 432x288 with 1 Axes>"
            ],
            "image/png": "[encoded data removed]"
          },
          "metadata": {
            "needs_background": "light"
          }
        }
      ]
    },
    {
      "cell_type": "markdown",
      "source": [
        "**Observation:**\n",
        "\n"
      ],
      "metadata": {
        "id": "zGJSbvPPGMZ_"
      }
    },
    {
      "cell_type": "markdown",
      "source": [
        "### 2) Increasing batch size from 32 to 64"
      ],
      "metadata": {
        "id": "GF-IuGGBYYhq"
      }
    },
    {
      "cell_type": "code",
      "source": [
        "num_epochs = 10\n",
        "learning_rate = 0.1\n",
        "batch_size = 64 # from 32 to 64 units\n",
        "n_unit = 256 \n",
        "\n",
        "model = MyModel(n_unit)\n",
        "(train_ds, test_ds), ds_info = tfds.load(\n",
        "    'mnist',\n",
        "    split=['train', 'test'],\n",
        "    as_supervised=True,\n",
        "    with_info=True,\n",
        ")\n",
        "\n",
        "train_losses , train_accuracies , test_losses , test_accuracies = [], [], [], []\n",
        "\n",
        "train_losses, train_accuracies, test_losses ,test_accuracies = train(\n",
        "    model = model, \n",
        "    train_ds= prepare_mnist_data(train_ds, batch_size), \n",
        "    test_ds= prepare_mnist_data(test_ds, batch_size), \n",
        "    epochs= num_epochs, \n",
        "    loss_function= tf.keras.losses.CategoricalCrossentropy(), \n",
        "    optimizer = tf.keras.optimizers.SGD(learning_rate),\n",
        "    train_losses=train_losses,\n",
        "    train_accuracies=train_accuracies,\n",
        "    test_losses=test_losses,\n",
        "    test_accuracies=test_accuracies\n",
        ")\n",
        "visualization(train_losses, train_accuracies, test_losses, test_accuracies)"
      ],
      "metadata": {
        "id": "OiDbxqAlCbwV",
        "outputId": "c2ec7ca2-90c3-40fd-c29b-be6b9647e96e",
        "colab": {
          "base_uri": "https://localhost:8080/",
          "height": 661
        }
      },
      "execution_count": null,
      "outputs": [
        {
          "output_type": "stream",
          "name": "stdout",
          "text": [
            "Pretraining, Loss: 2.608119487762451, Accuracy: 0.08851945628997868, (Train)\n",
            "Pretraining, Loss: 2.6045608520507812, Accuracy: 0.08917197452229299, (Test)\n",
            "Epoch: 1, Loss: 0.3538638949394226, Accuracy: 0.8897254797441365, (Train)\n",
            "Epoch: 1, Loss: 0.15892276167869568, Accuracy: 0.9523420842217484, (Test)\n",
            "Epoch: 2, Loss: 0.13896438479423523, Accuracy: 0.956956289978678, (Train)\n",
            "Epoch: 2, Loss: 0.130630761384964, Accuracy: 0.9585887526652452, (Test)\n",
            "Epoch: 3, Loss: 0.10091110318899155, Accuracy: 0.9685501066098081, (Train)\n",
            "Epoch: 3, Loss: 0.10703783482313156, Accuracy: 0.9665345149253731, (Test)\n",
            "Epoch: 4, Loss: 0.07976659387350082, Accuracy: 0.9748467484008528, (Train)\n",
            "Epoch: 4, Loss: 0.08801666647195816, Accuracy: 0.972547974413646, (Test)\n",
            "Epoch: 5, Loss: 0.06457675248384476, Accuracy: 0.9800606343283582, (Train)\n",
            "Epoch: 5, Loss: 0.062467366456985474, Accuracy: 0.980577025586354, (Test)\n",
            "Epoch: 6, Loss: 0.054077137261629105, Accuracy: 0.982476012793177, (Train)\n",
            "Epoch: 6, Loss: 0.0418521910905838, Accuracy: 0.9874733475479744, (Test)\n",
            "Epoch: 7, Loss: 0.04481784254312515, Accuracy: 0.9859408315565032, (Train)\n",
            "Epoch: 7, Loss: 0.03284499794244766, Accuracy: 0.990188566098081, (Test)\n",
            "Epoch: 8, Loss: 0.0373629592359066, Accuracy: 0.988106343283582, (Train)\n",
            "Epoch: 8, Loss: 0.06913527846336365, Accuracy: 0.9759128464818764, (Test)\n",
            "Epoch: 9, Loss: 0.031349290162324905, Accuracy: 0.9903218283582089, (Train)\n",
            "Epoch: 9, Loss: 0.0363357774913311, Accuracy: 0.9879897388059702, (Test)\n",
            "Epoch: 10, Loss: 0.02674797922372818, Accuracy: 0.9915211886993603, (Train)\n",
            "Epoch: 10, Loss: 0.03721068799495697, Accuracy: 0.9879897388059702, (Test)\n"
          ]
        },
        {
          "output_type": "display_data",
          "data": {
            "text/plain": [
              "<Figure size 432x288 with 1 Axes>"
            ],
            "image/png": "[encoded data removed]"
          },
          "metadata": {
            "needs_background": "light"
          }
        }
      ]
    },
    {
      "cell_type": "markdown",
      "source": [
        "**Observation:**\n",
        "\n"
      ],
      "metadata": {
        "id": "-AGI5h_uGRVZ"
      }
    },
    {
      "cell_type": "markdown",
      "source": [
        "### 3) Increasing learning rate from 0.1 to 0.2"
      ],
      "metadata": {
        "id": "q0flFnNHYQ7S"
      }
    },
    {
      "cell_type": "code",
      "source": [
        "num_epochs = 10\n",
        "learning_rate = 0.2  # from 0.1 to 0.2\n",
        "batch_size = 32\n",
        "n_unit = 256\n",
        "\n",
        "model = MyModel(n_unit)\n",
        "(train_ds, test_ds), ds_info = tfds.load(\n",
        "    'mnist',\n",
        "    split=['train', 'test'],\n",
        "    as_supervised=True,\n",
        "    with_info=True,\n",
        ")\n",
        "\n",
        "train_losses , train_accuracies , test_losses , test_accuracies = [], [], [], []\n",
        "\n",
        "train_losses, train_accuracies, test_losses ,test_accuracies = train(\n",
        "    model = model, \n",
        "    train_ds= prepare_mnist_data(train_ds, batch_size), \n",
        "    test_ds= prepare_mnist_data(test_ds, batch_size), \n",
        "    epochs= num_epochs, \n",
        "    loss_function= tf.keras.losses.CategoricalCrossentropy(), \n",
        "    optimizer = tf.keras.optimizers.SGD(learning_rate),\n",
        "    train_losses=train_losses,\n",
        "    train_accuracies=train_accuracies,\n",
        "    test_losses=test_losses,\n",
        "    test_accuracies=test_accuracies\n",
        ")\n",
        "\n",
        "visualization(train_losses, train_accuracies, test_losses, test_accuracies)"
      ],
      "metadata": {
        "id": "CfnsFDm3CkCY",
        "outputId": "02a11306-9eb9-440e-a899-bced5f8a9642",
        "colab": {
          "base_uri": "https://localhost:8080/",
          "height": 661
        }
      },
      "execution_count": null,
      "outputs": [
        {
          "output_type": "stream",
          "name": "stdout",
          "text": [
            "Pretraining, Loss: 2.620771646499634, Accuracy: 0.1021, (Train)\n",
            "Pretraining, Loss: 2.6207985877990723, Accuracy: 0.1042332268370607, (Test)\n",
            "Epoch: 1, Loss: 1.9617648124694824, Accuracy: 0.22988333333333333, (Train)\n",
            "Epoch: 1, Loss: 1.7062016725540161, Accuracy: 0.23606666666666667, (Test)\n",
            "Epoch: 2, Loss: 1.8333525657653809, Accuracy: 0.22946666666666668, (Train)\n",
            "Epoch: 2, Loss: 1.5503777265548706, Accuracy: 0.3675, (Test)\n",
            "Epoch: 3, Loss: 1.8131091594696045, Accuracy: 0.24701666666666666, (Train)\n",
            "Epoch: 3, Loss: 1.8445121049880981, Accuracy: 0.18906666666666666, (Test)\n",
            "Epoch: 4, Loss: 1.883575439453125, Accuracy: 0.20293333333333333, (Train)\n",
            "Epoch: 4, Loss: 1.8907986879348755, Accuracy: 0.19756666666666667, (Test)\n",
            "Epoch: 5, Loss: 1.7828809022903442, Accuracy: 0.24146666666666666, (Train)\n",
            "Epoch: 5, Loss: 1.6452810764312744, Accuracy: 0.2684166666666667, (Test)\n",
            "Epoch: 6, Loss: 1.6676523685455322, Accuracy: 0.28505, (Train)\n",
            "Epoch: 6, Loss: 1.681351661682129, Accuracy: 0.2946, (Test)\n",
            "Epoch: 7, Loss: 1.5683817863464355, Accuracy: 0.3421166666666667, (Train)\n",
            "Epoch: 7, Loss: 1.439453125, Accuracy: 0.42028333333333334, (Test)\n",
            "Epoch: 8, Loss: 1.484569787979126, Accuracy: 0.4199833333333333, (Train)\n",
            "Epoch: 8, Loss: 1.3995492458343506, Accuracy: 0.4386833333333333, (Test)\n",
            "Epoch: 9, Loss: 1.437015175819397, Accuracy: 0.43546666666666667, (Train)\n",
            "Epoch: 9, Loss: 1.4489009380340576, Accuracy: 0.46255, (Test)\n",
            "Epoch: 10, Loss: 1.3907071352005005, Accuracy: 0.45226666666666665, (Train)\n",
            "Epoch: 10, Loss: 1.2739311456680298, Accuracy: 0.47563333333333335, (Test)\n"
          ]
        },
        {
          "output_type": "display_data",
          "data": {
            "text/plain": [
              "<Figure size 432x288 with 1 Axes>"
            ],
            "image/png": "[encoded data removed]"
          },
          "metadata": {
            "needs_background": "light"
          }
        }
      ]
    },
    {
      "cell_type": "markdown",
      "source": [
        "**Observation:**\n",
        "\n",
        "Higher learning rate causing fluctuation in the performance. Learning rate is the step size while finding the minimum loss in gradient descent. Higher learning rate means the model might skip the optimal value for the minimum loss, thus makes the model has a slower performance in reaching the convergence."
      ],
      "metadata": {
        "id": "AdbxpT74GYU_"
      }
    },
    {
      "cell_type": "markdown",
      "source": [
        "### 4) Reducing 2 layers to 1 hidden layer (256 neurons)"
      ],
      "metadata": {
        "id": "r5yUYwwqYHcw"
      }
    },
    {
      "cell_type": "code",
      "source": [
        "# Updating model to only 1 hidden layer\n",
        "\n",
        "class MyModel(tf.keras.Model):\n",
        "    # Define the layers of the model\n",
        "    def __init__(self, n_unit):\n",
        "        super(MyModel, self).__init__()\n",
        "        self.dense1 = tf.keras.layers.Dense(n_unit, activation=tf.nn.relu)\n",
        "        # self.dense2 = tf.keras.layers.Dense(n_unit, activation=tf.nn.relu)\n",
        "        self.out = tf.keras.layers.Dense(10, activation=tf.nn.softmax)\n",
        "\n",
        "    # Forward pass\n",
        "    @tf.function\n",
        "    def call(self, inputs):\n",
        "        x = self.dense1(inputs)\n",
        "        # x = self.dense2(x)\n",
        "        x = self.out(x)\n",
        "        return x"
      ],
      "metadata": {
        "id": "VfqpUP3DCrLA"
      },
      "execution_count": null,
      "outputs": []
    },
    {
      "cell_type": "code",
      "source": [
        "num_epochs = 10\n",
        "learning_rate = 0.1\n",
        "batch_size = 32\n",
        "n_unit = 256 \n",
        "\n",
        "model = MyModel(n_unit)\n",
        "(train_ds, test_ds), ds_info = tfds.load(\n",
        "    'mnist',\n",
        "    split=['train', 'test'],\n",
        "    as_supervised=True,\n",
        "    with_info=True,\n",
        ")\n",
        "\n",
        "train_losses , train_accuracies , test_losses , test_accuracies = [], [], [], []\n",
        "\n",
        "train_losses, train_accuracies, test_losses ,test_accuracies = train(\n",
        "    model = model, \n",
        "    train_ds= prepare_mnist_data(train_ds, batch_size), \n",
        "    test_ds= prepare_mnist_data(test_ds, batch_size), \n",
        "    epochs= num_epochs, \n",
        "    loss_function= tf.keras.losses.CategoricalCrossentropy(), \n",
        "    optimizer = tf.keras.optimizers.SGD(learning_rate),\n",
        "    train_losses=train_losses,\n",
        "    train_accuracies=train_accuracies,\n",
        "    test_losses=test_losses,\n",
        "    test_accuracies=test_accuracies\n",
        ")\n",
        "visualization(train_losses, train_accuracies, test_losses, test_accuracies)"
      ],
      "metadata": {
        "id": "10QRZZ3iC6pk",
        "outputId": "8f20a018-84c7-4916-ec81-af758e721c2a",
        "colab": {
          "base_uri": "https://localhost:8080/",
          "height": 661
        }
      },
      "execution_count": null,
      "outputs": [
        {
          "output_type": "stream",
          "name": "stdout",
          "text": [
            "Pretraining, Loss: 3.1000752449035645, Accuracy: 0.07768333333333333, (Train)\n",
            "Pretraining, Loss: 3.088195323944092, Accuracy: 0.07607827476038338, (Test)\n",
            "Epoch: 1, Loss: 0.35209330916404724, Accuracy: 0.8957333333333334, (Train)\n",
            "Epoch: 1, Loss: 0.14790496230125427, Accuracy: 0.95515, (Test)\n",
            "Epoch: 2, Loss: 0.14843273162841797, Accuracy: 0.9548833333333333, (Train)\n",
            "Epoch: 2, Loss: 0.11176656931638718, Accuracy: 0.9662166666666666, (Test)\n",
            "Epoch: 3, Loss: 0.11362758278846741, Accuracy: 0.9652166666666666, (Train)\n",
            "Epoch: 3, Loss: 0.07530330866575241, Accuracy: 0.9776333333333334, (Test)\n",
            "Epoch: 4, Loss: 0.09285830706357956, Accuracy: 0.9711666666666666, (Train)\n",
            "Epoch: 4, Loss: 0.06727126240730286, Accuracy: 0.9793333333333333, (Test)\n",
            "Epoch: 5, Loss: 0.07956559956073761, Accuracy: 0.9752, (Train)\n",
            "Epoch: 5, Loss: 0.06755644083023071, Accuracy: 0.9783333333333334, (Test)\n",
            "Epoch: 6, Loss: 0.07002735882997513, Accuracy: 0.9772166666666666, (Train)\n",
            "Epoch: 6, Loss: 0.07047361880540848, Accuracy: 0.97695, (Test)\n",
            "Epoch: 7, Loss: 0.058813851326704025, Accuracy: 0.981, (Train)\n",
            "Epoch: 7, Loss: 0.057371120899915695, Accuracy: 0.9816833333333334, (Test)\n",
            "Epoch: 8, Loss: 0.05436202883720398, Accuracy: 0.9821, (Train)\n",
            "Epoch: 8, Loss: 0.043243639171123505, Accuracy: 0.9859833333333333, (Test)\n",
            "Epoch: 9, Loss: 0.048626162111759186, Accuracy: 0.9841666666666666, (Train)\n",
            "Epoch: 9, Loss: 0.05858204513788223, Accuracy: 0.98005, (Test)\n",
            "Epoch: 10, Loss: 0.04142118990421295, Accuracy: 0.9868333333333333, (Train)\n",
            "Epoch: 10, Loss: 0.03985162451863289, Accuracy: 0.9872166666666666, (Test)\n"
          ]
        },
        {
          "output_type": "display_data",
          "data": {
            "text/plain": [
              "<Figure size 432x288 with 1 Axes>"
            ],
            "image/png": "[encoded data removed]"
          },
          "metadata": {
            "needs_background": "light"
          }
        }
      ]
    },
    {
      "cell_type": "markdown",
      "source": [
        "**Observation:**\n",
        "\n"
      ],
      "metadata": {
        "id": "nMiJ8ilCGZS3"
      }
    }
  ]
}