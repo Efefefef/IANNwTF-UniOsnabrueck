{
  "cells": [
    {
      "cell_type": "markdown",
      "metadata": {
        "id": "view-in-github",
        "colab_type": "text"
      },
      "source": [
        "<a href=\"https://colab.research.google.com/github/Efefefef/IANNwTF-UniOsnabrueck/blob/main/homework07/homework07.ipynb\" target=\"_parent\"><img src=\"https://colab.research.google.com/assets/colab-badge.svg\" alt=\"Open In Colab\"/></a>"
      ]
    },
    {
      "cell_type": "markdown",
      "metadata": {
        "id": "AWg14xyOL2OG"
      },
      "source": [
        "# HOMEWORK 07"
      ]
    },
    {
      "cell_type": "code",
      "execution_count": 19,
      "metadata": {
        "id": "9R9hKeIHyZDX"
      },
      "outputs": [],
      "source": [
        "import tensorflow_datasets as tfds\n",
        "import tensorflow as tf\n",
        "from keras.layers import Dense, Conv2D, AveragePooling2D, TimeDistributed, LSTM, GlobalAvgPool2D, AbstractRNNCell, MaxPooling2D\n",
        "from keras.initializers import Orthogonal\n",
        "from tqdm import tqdm\n",
        "import datetime\n",
        "import matplotlib.pyplot as plt"
      ]
    },
    {
      "cell_type": "markdown",
      "metadata": {
        "id": "rVk0oUzwEgBx"
      },
      "source": [
        "## Prepare Dataset"
      ]
    },
    {
      "cell_type": "code",
      "execution_count": 2,
      "metadata": {
        "id": "0_1MRMKDHb6f"
      },
      "outputs": [],
      "source": [
        "# Load MNIST dataset\n",
        "def load_data():\n",
        "    (train_ds, test_ds), ds_info = tfds.load('mnist', split=['train', 'test'], as_supervised=True, with_info=True)\n",
        "    return (train_ds, test_ds), ds_info"
      ]
    },
    {
      "cell_type": "code",
      "execution_count": 3,
      "metadata": {
        "id": "FAd7Erb2EQBN"
      },
      "outputs": [],
      "source": [
        "# Creating new target\n",
        "def new_target_fnc(ds, window_size):\n",
        "  l = list()\n",
        "  for i, elem in enumerate(ds):\n",
        "    if (i % window_size) == 0:\n",
        "      l.append(int(elem[1]))\n",
        "    else:\n",
        "      if (i % 2) == 0:\n",
        "        l.append(int(l[i-1] + elem[1]))\n",
        "      else:\n",
        "        l.append(int(l[i-1] - elem[1]))\n",
        "  return l\n",
        "\n",
        "# Preprocessing data\n",
        "def preprocess(data, batch_size, window_size):\n",
        "  new_targets = new_target_fnc(data, window_size)\n",
        "  new_targets = tf.data.Dataset.from_tensor_slices(new_targets)\n",
        "\n",
        "  data = tf.data.Dataset.zip((data, new_targets))\n",
        "  data = data.map(lambda img, new_target: (img[0], new_target))\n",
        "  data = data.map(lambda img, target: (img, tf.one_hot(target, depth=37)))\n",
        "\n",
        "  data = data.map(lambda img, target: (img, tf.cast(target, tf.float32)))\n",
        "\n",
        "  data = data.map(lambda img, target: (img,target))\n",
        "\n",
        "  data = data.map(lambda img, target: (tf.cast(img, tf.float32), target))\n",
        "  data = data.map(lambda img, target: ((img/128.)-1., target))\n",
        "\n",
        "  data = data.batch(window_size, drop_remainder=True)\n",
        "  data = data.batch(batch_size, drop_remainder=True)\n",
        "  data = data.cache().shuffle(1000).prefetch(tf.data.AUTOTUNE)\n",
        "  return data"
      ]
    },
    {
      "cell_type": "code",
      "execution_count": 4,
      "metadata": {
        "id": "53uMJkYzFl4K"
      },
      "outputs": [],
      "source": [
        "# CNN Model\n",
        "class CNN(tf.keras.Model):\n",
        "  def __init__(self, input_shape):\n",
        "    super().__init__()\n",
        "    # input conv1 = 28x28x1\n",
        "    self.conv1 = TimeDistributed(Conv2D(24, 3, activation='relu', padding='valid'), input_shape=input_shape)\n",
        "    # output conv1 = 28x28x24\n",
        "    self.conv2 = TimeDistributed(Conv2D(24, 3, activation='relu', padding='valid'))\n",
        "    # output conv2 = 28x28x24\n",
        "    self.pooling1 = TimeDistributed(MaxPooling2D())\n",
        "    # output pooling1 = 14x14x24\n",
        "    self.conv3 = TimeDistributed(Conv2D(24, 3, activation='relu', padding='valid'))\n",
        "    # output conv3 = 14x14x24\n",
        "    self.conv4 = TimeDistributed(Conv2D(24, 3, activation='relu', padding='valid'))\n",
        "    # output conv3 = 14x14x24\n",
        "    self.globalpooling = TimeDistributed(GlobalAvgPool2D())\n",
        "    # output globalpooling = 7x7x24\n",
        "    self.out = TimeDistributed(Dense(10, activation=\"softmax\"))\n",
        "\n",
        "\n",
        "  @tf.function\n",
        "  def __call__(self, x, training=False):\n",
        "    x = self.conv1(x)\n",
        "    x = self.conv2(x)\n",
        "    x = self.pooling1(x)\n",
        "    x = self.conv3(x)\n",
        "    x = self.conv4(x)\n",
        "\n",
        "    x = self.globalpooling(x)\n",
        "    x = self.out(x)\n",
        "    return x"
      ]
    },
    {
      "cell_type": "code",
      "execution_count": 5,
      "metadata": {
        "id": "bAN9IuIlFl4L"
      },
      "outputs": [],
      "source": [
        "class LSTMCell(AbstractRNNCell):\n",
        "    def __init__(self, trainable=True, name=None, dtype=None, dynamic=False, **kwargs):\n",
        "        super().__init__(trainable, name, dtype, dynamic, **kwargs)\n",
        "\n",
        "        self.hidden_state_units = 50\n",
        "        self.cell_state_units = 50\n",
        "        self.input_size = 1\n",
        "\n",
        "        self.forget_gate = Dense(self.cell_state_units, activation=\"sigmoid\", kernel_initializer=tf.keras.initializers.Orthogonal(gain=1.0, seed=None))\n",
        "        self.input_gate = Dense(self.cell_state_units, activation=\"sigmoid\", kernel_initializer=tf.keras.initializers.Orthogonal(gain=1.0, seed=None))\n",
        "        self.cell_state_candidates = Dense(self.cell_state_units, activation=\"tanh\", kernel_initializer=tf.keras.initializers.Orthogonal(gain=1.0, seed=None))\n",
        "        self.output_gate = Dense(self.hidden_state_units, activation=\"sigmoid\", kernel_initializer=tf.keras.initializers.Orthogonal(gain=1.0, seed=None))\n",
        "\n",
        "    @property\n",
        "    def state_size(self):\n",
        "        return [tf.TensorShape([self.hidden_state_units]), \n",
        "                tf.TensorShape([self.cell_state_units])]\n",
        "\n",
        "    @property\n",
        "    def output_size(self):\n",
        "        return [tf.TensorShape([self.hidden_state_units])]\n",
        "\n",
        "    def get_initial_state(self, inputs=None, batch_size=None, dtype=None):\n",
        "        return [tf.zeros(shape=[32,self.hidden_state_units]), \n",
        "                tf.zeros(shape=[32,self.cell_state_units])]\n",
        "\n",
        "    def call(self, inputs, states):\n",
        "\n",
        "        hidden_state = states[0]\n",
        "        cell_state = states[1]\n",
        "\n",
        "        hidden_and_input_concat = tf.concat([hidden_state, tf.convert_to_tensor(inputs)], axis=-1)\n",
        "        hidden_and_input_concat = tf.convert_to_tensor(hidden_and_input_concat)\n",
        "\n",
        "        forget_filter = self.forget_gate(hidden_and_input_concat)\n",
        "        input_filter = self.input_gate(hidden_and_input_concat)\n",
        "        candidate_vector = self.cell_state_candidates(hidden_and_input_concat)\n",
        "\n",
        "        cell_state_with_forgetting = cell_state * forget_filter\n",
        "        cell_state = cell_state_with_forgetting + input_filter * candidate_vector\n",
        "\n",
        "        output_filter = self.output_gate(hidden_and_input_concat)\n",
        "\n",
        "        tanh_of_cell_state = tf.math.tanh(cell_state)\n",
        "        hidden_state = output_filter * tanh_of_cell_state\n",
        "        \n",
        "        return hidden_state, [hidden_state, cell_state]"
      ]
    },
    {
      "cell_type": "code",
      "execution_count": 6,
      "metadata": {
        "id": "Hn6VmxR5Fl4M"
      },
      "outputs": [],
      "source": [
        "class OverallModel(tf.keras.Model):\n",
        "  def __init__(self, cnn, lstm, optimizer, loss_function):\n",
        "    super().__init__()\n",
        "\n",
        "    self.cnn = cnn\n",
        "    self.lstm = lstm\n",
        "    self.output_layer = Dense(37,activation='softmax')\n",
        "\n",
        "    self.metrics_list = [\n",
        "      tf.keras.metrics.CategoricalAccuracy(name=\"accuracy\"),\n",
        "      tf.keras.metrics.Mean(name=\"loss\")]\n",
        "\n",
        "    self.optimizer = optimizer\n",
        "    self.loss_function = loss_function\n",
        "\n",
        "  @property\n",
        "  def metrics(self):\n",
        "    return self.metrics_list\n",
        "    \n",
        "  def reset_metrics(self):\n",
        "     for metric in self.metrics:\n",
        "        metric.reset_state()\n",
        "\n",
        "  def call(self, sequence, training = False):\n",
        "    cnn_output = self.cnn(sequence)\n",
        "    cnn_number = tf.argmax(cnn_output, axis=-1)\n",
        "    lstm_output = self.lstm(cnn_output)\n",
        "    output = self.output_layer(lstm_output)\n",
        "    return output\n",
        "\n",
        "  @tf.function\n",
        "  def training_step(self, image, label):\n",
        "\n",
        "    with tf.GradientTape() as tape: \n",
        "      prediction = self(image, training = True)\n",
        "\n",
        "      loss = self.loss_function(label, prediction)\n",
        "\n",
        "    gradients = tape.gradient(loss, self.trainable_variables)\n",
        "    self.optimizer.apply_gradients(zip(gradients,self.trainable_variables))\n",
        "    self.metrics[0].update_state(label, prediction)\n",
        "    self.metrics[1].update_state(loss)  \n",
        "\n",
        "  @tf.function\n",
        "  def test_step(self, data):\n",
        "    image, label = data\n",
        "    prediction = self(image, training = False)\n",
        "    loss = self.loss_function(label, prediction)\n",
        "    self.metrics[0].update_state(label, prediction)\n",
        "    self.metrics[1].update_state(loss)\n",
        "\n"
      ]
    },
    {
      "cell_type": "code",
      "execution_count": 17,
      "metadata": {
        "id": "ND-GV9JHFl4N"
      },
      "outputs": [],
      "source": [
        "# Training Loop\n",
        "def training_loop(model, train_ds, test_ds, epochs, train_summary_writer, test_summary_writer, save_path):\n",
        "    # list for plotting\n",
        "    train_loss = []\n",
        "    train_accuracy = []\n",
        "    test_loss = []\n",
        "    test_accuracy = []\n",
        "    \n",
        "    # looping over epoch\n",
        "    for epoch in range (epochs):\n",
        "        model.reset_metrics()\n",
        "        for data in tqdm(train_ds, position=0, leave=True):\n",
        "\n",
        "            model.training_step(image=data[0], label=data[1])      \n",
        "\n",
        "        with train_summary_writer.as_default():\n",
        "            tf.summary.scalar(model.metrics[0].name, model.metrics[0].result(), step=epoch)\n",
        "            tf.summary.scalar(model.metrics[1].name, model.metrics[1].result(), step=epoch)\n",
        "        \n",
        "        print(\"Epoch: \", epoch+1)\n",
        "        print(\"Loss: \", model.metrics[1].result().numpy(), \"Accuracy: \", model.metrics[0].result().numpy(), \"(Train)\")\n",
        "\n",
        "        # updating loss and accuracy result to list\n",
        "        train_loss.append(model.metrics[1].result().numpy())\n",
        "        train_accuracy.append(model.metrics[0].result().numpy())\n",
        "\n",
        "        model.reset_metrics()\n",
        "\n",
        "        for data in test_ds:\n",
        "            model.test_step(data)\n",
        "\n",
        "        with test_summary_writer.as_default():\n",
        "            tf.summary.scalar(model.metrics[0].name, model.metrics[0].result(), step=epoch)\n",
        "            tf.summary.scalar(model.metrics[1].name, model.metrics[1].result(), step=epoch)\n",
        "\n",
        "        print(\"Loss: \", model.metrics[1].result().numpy(), \"Accuracy: \", model.metrics[0].result().numpy(), \"(Test)\")\n",
        "        \n",
        "        # updating loss and accuracy result to list\n",
        "        test_loss.append(model.metrics[1].result().numpy())\n",
        "        test_accuracy.append(model.metrics[0].result().numpy())\n",
        "    \n",
        "    model.save_weights(save_path) \n",
        "    return (train_loss, train_accuracy, test_loss, test_accuracy)"
      ]
    },
    {
      "cell_type": "code",
      "execution_count": 8,
      "metadata": {
        "id": "rzlGaz_bFl4O",
        "colab": {
          "base_uri": "https://localhost:8080/",
          "height": 84,
          "referenced_widgets": [
            "679568d6a39743d29bef3e8440caea86",
            "b57c72e90a4948d894d1f5eb550a6f9e",
            "a016bbf8cc6143c69cf3ce8c7d592cc8",
            "ca689650b39f4c95b155e3a3a00ef205",
            "001efceee6194df9bce06281ca30dd4e",
            "11705c4301fe45d2abef31e89b23b8ef",
            "220acb3c8f144805ba701ae86c203975",
            "b67608ed110d4b7597bca0b7162ac316",
            "c1e4cd6509834729a40604b22e21b761",
            "8c52d029de86400486635961bb36d14f",
            "d671e88eb92c42859de3cdb960f01786"
          ]
        },
        "outputId": "9da93913-138b-41fb-8d76-30fc5aa5784c"
      },
      "outputs": [
        {
          "output_type": "stream",
          "name": "stdout",
          "text": [
            "Downloading and preparing dataset 11.06 MiB (download: 11.06 MiB, generated: 21.00 MiB, total: 32.06 MiB) to ~/tensorflow_datasets/mnist/3.0.1...\n"
          ]
        },
        {
          "output_type": "display_data",
          "data": {
            "text/plain": [
              "Dl Completed...:   0%|          | 0/5 [00:00<?, ? file/s]"
            ],
            "application/vnd.jupyter.widget-view+json": {
              "version_major": 2,
              "version_minor": 0,
              "model_id": "679568d6a39743d29bef3e8440caea86"
            }
          },
          "metadata": {}
        },
        {
          "output_type": "stream",
          "name": "stdout",
          "text": [
            "Dataset mnist downloaded and prepared to ~/tensorflow_datasets/mnist/3.0.1. Subsequent calls will reuse this data.\n"
          ]
        }
      ],
      "source": [
        "# train the model\n",
        "\n",
        "batch_size = 32\n",
        "window_size = 4\n",
        "(train_ds,test_ds), ds_info = load_data()\n",
        "train_ds = preprocess(train_ds, batch_size, window_size)\n",
        "test_ds = preprocess(test_ds, batch_size, window_size)\n"
      ]
    },
    {
      "cell_type": "code",
      "execution_count": 21,
      "metadata": {
        "id": "sEotUi0iFl4O",
        "outputId": "b3e0bbdf-e437-4f2c-bea2-45938e584143",
        "colab": {
          "base_uri": "https://localhost:8080/"
        }
      },
      "outputs": [
        {
          "output_type": "stream",
          "name": "stderr",
          "text": [
            "100%|██████████| 468/468 [01:31<00:00,  5.14it/s]\n"
          ]
        },
        {
          "output_type": "stream",
          "name": "stdout",
          "text": [
            "Epoch:  1\n",
            "Loss:  2.0227046 Accuracy:  0.118022166 (Train)\n",
            "Loss:  1.8662698 Accuracy:  0.083834134 (Test)\n"
          ]
        },
        {
          "output_type": "stream",
          "name": "stderr",
          "text": [
            "100%|██████████| 468/468 [01:28<00:00,  5.29it/s]\n"
          ]
        },
        {
          "output_type": "stream",
          "name": "stdout",
          "text": [
            "Epoch:  2\n",
            "Loss:  1.8431312 Accuracy:  0.14671808 (Train)\n",
            "Loss:  1.8358082 Accuracy:  0.07491987 (Test)\n"
          ]
        },
        {
          "output_type": "stream",
          "name": "stderr",
          "text": [
            "100%|██████████| 468/468 [01:29<00:00,  5.26it/s]\n"
          ]
        },
        {
          "output_type": "stream",
          "name": "stdout",
          "text": [
            "Epoch:  3\n",
            "Loss:  1.8267418 Accuracy:  0.17280982 (Train)\n",
            "Loss:  1.8288107 Accuracy:  0.07972757 (Test)\n"
          ]
        },
        {
          "output_type": "stream",
          "name": "stderr",
          "text": [
            "100%|██████████| 468/468 [01:25<00:00,  5.46it/s]\n"
          ]
        },
        {
          "output_type": "stream",
          "name": "stdout",
          "text": [
            "Epoch:  4\n",
            "Loss:  1.8210468 Accuracy:  0.1708734 (Train)\n",
            "Loss:  1.8246778 Accuracy:  0.07892628 (Test)\n"
          ]
        },
        {
          "output_type": "stream",
          "name": "stderr",
          "text": [
            "100%|██████████| 468/468 [01:28<00:00,  5.31it/s]\n"
          ]
        },
        {
          "output_type": "stream",
          "name": "stdout",
          "text": [
            "Epoch:  5\n",
            "Loss:  1.8168719 Accuracy:  0.1562834 (Train)\n",
            "Loss:  1.8197821 Accuracy:  0.35667068 (Test)\n"
          ]
        },
        {
          "output_type": "stream",
          "name": "stderr",
          "text": [
            "100%|██████████| 468/468 [01:23<00:00,  5.61it/s]\n"
          ]
        },
        {
          "output_type": "stream",
          "name": "stdout",
          "text": [
            "Epoch:  6\n",
            "Loss:  1.8145943 Accuracy:  0.1822082 (Train)\n",
            "Loss:  1.8186166 Accuracy:  0.07652243 (Test)\n"
          ]
        },
        {
          "output_type": "stream",
          "name": "stderr",
          "text": [
            "100%|██████████| 468/468 [01:26<00:00,  5.44it/s]\n"
          ]
        },
        {
          "output_type": "stream",
          "name": "stdout",
          "text": [
            "Epoch:  7\n",
            "Loss:  1.8127812 Accuracy:  0.16751803 (Train)\n",
            "Loss:  1.8148861 Accuracy:  0.07972757 (Test)\n"
          ]
        },
        {
          "output_type": "stream",
          "name": "stderr",
          "text": [
            "100%|██████████| 468/468 [01:23<00:00,  5.61it/s]\n"
          ]
        },
        {
          "output_type": "stream",
          "name": "stdout",
          "text": [
            "Epoch:  8\n",
            "Loss:  1.8106555 Accuracy:  0.17788461 (Train)\n",
            "Loss:  1.8150132 Accuracy:  0.07652243 (Test)\n"
          ]
        },
        {
          "output_type": "stream",
          "name": "stderr",
          "text": [
            "100%|██████████| 468/468 [01:26<00:00,  5.44it/s]\n"
          ]
        },
        {
          "output_type": "stream",
          "name": "stdout",
          "text": [
            "Epoch:  9\n",
            "Loss:  1.8095709 Accuracy:  0.17371127 (Train)\n",
            "Loss:  1.8140997 Accuracy:  0.35346556 (Test)\n"
          ]
        },
        {
          "output_type": "stream",
          "name": "stderr",
          "text": [
            "100%|██████████| 468/468 [01:22<00:00,  5.66it/s]\n"
          ]
        },
        {
          "output_type": "stream",
          "name": "stdout",
          "text": [
            "Epoch:  10\n",
            "Loss:  1.8084644 Accuracy:  0.16266026 (Train)\n",
            "Loss:  1.8119802 Accuracy:  0.35346556 (Test)\n"
          ]
        },
        {
          "output_type": "stream",
          "name": "stderr",
          "text": [
            "100%|██████████| 468/468 [01:25<00:00,  5.50it/s]\n"
          ]
        },
        {
          "output_type": "stream",
          "name": "stdout",
          "text": [
            "Epoch:  11\n",
            "Loss:  1.8075663 Accuracy:  0.17374466 (Train)\n",
            "Loss:  1.8121848 Accuracy:  0.080629006 (Test)\n"
          ]
        },
        {
          "output_type": "stream",
          "name": "stderr",
          "text": [
            "100%|██████████| 468/468 [01:22<00:00,  5.67it/s]\n"
          ]
        },
        {
          "output_type": "stream",
          "name": "stdout",
          "text": [
            "Epoch:  12\n",
            "Loss:  1.806292 Accuracy:  0.17369458 (Train)\n",
            "Loss:  1.8122271 Accuracy:  0.35346556 (Test)\n"
          ]
        },
        {
          "output_type": "stream",
          "name": "stderr",
          "text": [
            "100%|██████████| 468/468 [01:25<00:00,  5.48it/s]\n"
          ]
        },
        {
          "output_type": "stream",
          "name": "stdout",
          "text": [
            "Epoch:  13\n",
            "Loss:  1.8054917 Accuracy:  0.16877003 (Train)\n",
            "Loss:  1.8143722 Accuracy:  0.19541267 (Test)\n"
          ]
        },
        {
          "output_type": "stream",
          "name": "stderr",
          "text": [
            "100%|██████████| 468/468 [01:22<00:00,  5.69it/s]\n"
          ]
        },
        {
          "output_type": "stream",
          "name": "stdout",
          "text": [
            "Epoch:  14\n",
            "Loss:  1.8049232 Accuracy:  0.2048611 (Train)\n",
            "Loss:  1.8128834 Accuracy:  0.07491987 (Test)\n"
          ]
        },
        {
          "output_type": "stream",
          "name": "stderr",
          "text": [
            "100%|██████████| 468/468 [01:26<00:00,  5.43it/s]\n"
          ]
        },
        {
          "output_type": "stream",
          "name": "stdout",
          "text": [
            "Epoch:  15\n",
            "Loss:  1.8043841 Accuracy:  0.17234242 (Train)\n",
            "Loss:  1.8092501 Accuracy:  0.35346556 (Test)\n"
          ]
        },
        {
          "output_type": "stream",
          "name": "stderr",
          "text": [
            "100%|██████████| 468/468 [01:22<00:00,  5.67it/s]\n"
          ]
        },
        {
          "output_type": "stream",
          "name": "stdout",
          "text": [
            "Epoch:  16\n",
            "Loss:  1.8035915 Accuracy:  0.17015558 (Train)\n",
            "Loss:  1.8105298 Accuracy:  0.07652243 (Test)\n"
          ]
        },
        {
          "output_type": "stream",
          "name": "stderr",
          "text": [
            "100%|██████████| 468/468 [01:24<00:00,  5.53it/s]\n"
          ]
        },
        {
          "output_type": "stream",
          "name": "stdout",
          "text": [
            "Epoch:  17\n",
            "Loss:  1.8030226 Accuracy:  0.15319511 (Train)\n",
            "Loss:  1.8084909 Accuracy:  0.19741586 (Test)\n"
          ]
        },
        {
          "output_type": "stream",
          "name": "stderr",
          "text": [
            "100%|██████████| 468/468 [01:21<00:00,  5.77it/s]\n"
          ]
        },
        {
          "output_type": "stream",
          "name": "stdout",
          "text": [
            "Epoch:  18\n",
            "Loss:  1.8025559 Accuracy:  0.1787026 (Train)\n",
            "Loss:  1.8058045 Accuracy:  0.20082131 (Test)\n"
          ]
        },
        {
          "output_type": "stream",
          "name": "stderr",
          "text": [
            "100%|██████████| 468/468 [01:23<00:00,  5.62it/s]\n"
          ]
        },
        {
          "output_type": "stream",
          "name": "stdout",
          "text": [
            "Epoch:  19\n",
            "Loss:  1.8018909 Accuracy:  0.15406317 (Train)\n",
            "Loss:  1.8088318 Accuracy:  0.083834134 (Test)\n"
          ]
        },
        {
          "output_type": "stream",
          "name": "stderr",
          "text": [
            "100%|██████████| 468/468 [01:20<00:00,  5.81it/s]\n"
          ]
        },
        {
          "output_type": "stream",
          "name": "stdout",
          "text": [
            "Epoch:  20\n",
            "Loss:  1.8014941 Accuracy:  0.17501335 (Train)\n",
            "Loss:  1.8060751 Accuracy:  0.07822516 (Test)\n"
          ]
        },
        {
          "output_type": "stream",
          "name": "stderr",
          "text": [
            "100%|██████████| 468/468 [01:23<00:00,  5.61it/s]\n"
          ]
        },
        {
          "output_type": "stream",
          "name": "stdout",
          "text": [
            "Epoch:  21\n",
            "Loss:  1.8015028 Accuracy:  0.19148971 (Train)\n",
            "Loss:  1.8049494 Accuracy:  0.080629006 (Test)\n"
          ]
        },
        {
          "output_type": "stream",
          "name": "stderr",
          "text": [
            "100%|██████████| 468/468 [01:20<00:00,  5.81it/s]\n"
          ]
        },
        {
          "output_type": "stream",
          "name": "stdout",
          "text": [
            "Epoch:  22\n",
            "Loss:  1.8011533 Accuracy:  0.16319445 (Train)\n",
            "Loss:  1.8053399 Accuracy:  0.08042868 (Test)\n"
          ]
        },
        {
          "output_type": "stream",
          "name": "stderr",
          "text": [
            "100%|██████████| 468/468 [01:23<00:00,  5.62it/s]\n"
          ]
        },
        {
          "output_type": "stream",
          "name": "stdout",
          "text": [
            "Epoch:  23\n",
            "Loss:  1.8007842 Accuracy:  0.18394431 (Train)\n",
            "Loss:  1.8054407 Accuracy:  0.07371795 (Test)\n"
          ]
        },
        {
          "output_type": "stream",
          "name": "stderr",
          "text": [
            "100%|██████████| 468/468 [01:20<00:00,  5.83it/s]\n"
          ]
        },
        {
          "output_type": "stream",
          "name": "stdout",
          "text": [
            "Epoch:  24\n",
            "Loss:  1.8004159 Accuracy:  0.17669939 (Train)\n",
            "Loss:  1.808091 Accuracy:  0.23587741 (Test)\n"
          ]
        },
        {
          "output_type": "stream",
          "name": "stderr",
          "text": [
            "100%|██████████| 468/468 [01:22<00:00,  5.65it/s]\n"
          ]
        },
        {
          "output_type": "stream",
          "name": "stdout",
          "text": [
            "Epoch:  25\n",
            "Loss:  1.7998738 Accuracy:  0.17391159 (Train)\n",
            "Loss:  1.8038129 Accuracy:  0.07972757 (Test)\n"
          ]
        },
        {
          "output_type": "stream",
          "name": "stderr",
          "text": [
            "100%|██████████| 468/468 [01:22<00:00,  5.70it/s]\n"
          ]
        },
        {
          "output_type": "stream",
          "name": "stdout",
          "text": [
            "Epoch:  26\n",
            "Loss:  1.7995892 Accuracy:  0.1630776 (Train)\n",
            "Loss:  1.8073214 Accuracy:  0.083834134 (Test)\n"
          ]
        },
        {
          "output_type": "stream",
          "name": "stderr",
          "text": [
            "100%|██████████| 468/468 [01:22<00:00,  5.69it/s]\n"
          ]
        },
        {
          "output_type": "stream",
          "name": "stdout",
          "text": [
            "Epoch:  27\n",
            "Loss:  1.7996293 Accuracy:  0.17755075 (Train)\n",
            "Loss:  1.8082333 Accuracy:  0.35667068 (Test)\n"
          ]
        },
        {
          "output_type": "stream",
          "name": "stderr",
          "text": [
            "100%|██████████| 468/468 [01:22<00:00,  5.69it/s]\n"
          ]
        },
        {
          "output_type": "stream",
          "name": "stdout",
          "text": [
            "Epoch:  28\n",
            "Loss:  1.7990476 Accuracy:  0.17811832 (Train)\n",
            "Loss:  1.8050083 Accuracy:  0.07652243 (Test)\n"
          ]
        },
        {
          "output_type": "stream",
          "name": "stderr",
          "text": [
            "100%|██████████| 468/468 [01:21<00:00,  5.71it/s]\n"
          ]
        },
        {
          "output_type": "stream",
          "name": "stdout",
          "text": [
            "Epoch:  29\n",
            "Loss:  1.799333 Accuracy:  0.16614917 (Train)\n",
            "Loss:  1.8046519 Accuracy:  0.080629006 (Test)\n"
          ]
        },
        {
          "output_type": "stream",
          "name": "stderr",
          "text": [
            "100%|██████████| 468/468 [02:21<00:00,  3.30it/s]\n"
          ]
        },
        {
          "output_type": "stream",
          "name": "stdout",
          "text": [
            "Epoch:  30\n",
            "Loss:  1.7989459 Accuracy:  0.19626403 (Train)\n",
            "Loss:  1.8039697 Accuracy:  0.081430286 (Test)\n"
          ]
        },
        {
          "output_type": "stream",
          "name": "stderr",
          "text": [
            "100%|██████████| 468/468 [01:20<00:00,  5.82it/s]\n"
          ]
        },
        {
          "output_type": "stream",
          "name": "stdout",
          "text": [
            "Epoch:  31\n",
            "Loss:  1.7990766 Accuracy:  0.1796875 (Train)\n",
            "Loss:  1.8028469 Accuracy:  0.23527645 (Test)\n"
          ]
        },
        {
          "output_type": "stream",
          "name": "stderr",
          "text": [
            "100%|██████████| 468/468 [01:23<00:00,  5.63it/s]\n"
          ]
        },
        {
          "output_type": "stream",
          "name": "stdout",
          "text": [
            "Epoch:  32\n",
            "Loss:  1.7984738 Accuracy:  0.16214277 (Train)\n",
            "Loss:  1.8040087 Accuracy:  0.083834134 (Test)\n"
          ]
        },
        {
          "output_type": "stream",
          "name": "stderr",
          "text": [
            "100%|██████████| 468/468 [01:20<00:00,  5.81it/s]\n"
          ]
        },
        {
          "output_type": "stream",
          "name": "stdout",
          "text": [
            "Epoch:  33\n",
            "Loss:  1.7983929 Accuracy:  0.15706797 (Train)\n",
            "Loss:  1.8039138 Accuracy:  0.08042868 (Test)\n"
          ]
        },
        {
          "output_type": "stream",
          "name": "stderr",
          "text": [
            "100%|██████████| 468/468 [01:23<00:00,  5.63it/s]\n"
          ]
        },
        {
          "output_type": "stream",
          "name": "stdout",
          "text": [
            "Epoch:  34\n",
            "Loss:  1.7983127 Accuracy:  0.15873732 (Train)\n",
            "Loss:  1.8052503 Accuracy:  0.08042868 (Test)\n"
          ]
        },
        {
          "output_type": "stream",
          "name": "stderr",
          "text": [
            "100%|██████████| 468/468 [01:20<00:00,  5.82it/s]\n"
          ]
        },
        {
          "output_type": "stream",
          "name": "stdout",
          "text": [
            "Epoch:  35\n",
            "Loss:  1.7984049 Accuracy:  0.18875201 (Train)\n",
            "Loss:  1.8045946 Accuracy:  0.08042868 (Test)\n"
          ]
        },
        {
          "output_type": "stream",
          "name": "stderr",
          "text": [
            "100%|██████████| 468/468 [01:23<00:00,  5.61it/s]\n"
          ]
        },
        {
          "output_type": "stream",
          "name": "stdout",
          "text": [
            "Epoch:  36\n",
            "Loss:  1.7981777 Accuracy:  0.15329528 (Train)\n",
            "Loss:  1.8023071 Accuracy:  0.23677884 (Test)\n"
          ]
        },
        {
          "output_type": "stream",
          "name": "stderr",
          "text": [
            "100%|██████████| 468/468 [01:21<00:00,  5.78it/s]\n"
          ]
        },
        {
          "output_type": "stream",
          "name": "stdout",
          "text": [
            "Epoch:  37\n",
            "Loss:  1.7977384 Accuracy:  0.17124066 (Train)\n",
            "Loss:  1.8044013 Accuracy:  0.083834134 (Test)\n"
          ]
        },
        {
          "output_type": "stream",
          "name": "stderr",
          "text": [
            "100%|██████████| 468/468 [01:23<00:00,  5.60it/s]\n"
          ]
        },
        {
          "output_type": "stream",
          "name": "stdout",
          "text": [
            "Epoch:  38\n",
            "Loss:  1.797591 Accuracy:  0.17674947 (Train)\n",
            "Loss:  1.802298 Accuracy:  0.35667068 (Test)\n"
          ]
        },
        {
          "output_type": "stream",
          "name": "stderr",
          "text": [
            "100%|██████████| 468/468 [01:20<00:00,  5.79it/s]\n"
          ]
        },
        {
          "output_type": "stream",
          "name": "stdout",
          "text": [
            "Epoch:  39\n",
            "Loss:  1.7975489 Accuracy:  0.17326055 (Train)\n",
            "Loss:  1.8025937 Accuracy:  0.23287259 (Test)\n"
          ]
        },
        {
          "output_type": "stream",
          "name": "stderr",
          "text": [
            "100%|██████████| 468/468 [01:23<00:00,  5.60it/s]\n"
          ]
        },
        {
          "output_type": "stream",
          "name": "stdout",
          "text": [
            "Epoch:  40\n",
            "Loss:  1.7974174 Accuracy:  0.16638288 (Train)\n",
            "Loss:  1.806206 Accuracy:  0.35667068 (Test)\n"
          ]
        },
        {
          "output_type": "stream",
          "name": "stderr",
          "text": [
            "100%|██████████| 468/468 [01:20<00:00,  5.81it/s]\n"
          ]
        },
        {
          "output_type": "stream",
          "name": "stdout",
          "text": [
            "Epoch:  41\n",
            "Loss:  1.7972081 Accuracy:  0.1701055 (Train)\n",
            "Loss:  1.8035098 Accuracy:  0.080629006 (Test)\n"
          ]
        },
        {
          "output_type": "stream",
          "name": "stderr",
          "text": [
            "100%|██████████| 468/468 [01:23<00:00,  5.62it/s]\n"
          ]
        },
        {
          "output_type": "stream",
          "name": "stdout",
          "text": [
            "Epoch:  42\n",
            "Loss:  1.7971288 Accuracy:  0.18202457 (Train)\n",
            "Loss:  1.804024 Accuracy:  0.081430286 (Test)\n"
          ]
        },
        {
          "output_type": "stream",
          "name": "stderr",
          "text": [
            "100%|██████████| 468/468 [01:20<00:00,  5.80it/s]\n"
          ]
        },
        {
          "output_type": "stream",
          "name": "stdout",
          "text": [
            "Epoch:  43\n",
            "Loss:  1.797249 Accuracy:  0.15344551 (Train)\n",
            "Loss:  1.8024076 Accuracy:  0.083834134 (Test)\n"
          ]
        },
        {
          "output_type": "stream",
          "name": "stderr",
          "text": [
            "100%|██████████| 468/468 [01:23<00:00,  5.61it/s]\n"
          ]
        },
        {
          "output_type": "stream",
          "name": "stdout",
          "text": [
            "Epoch:  44\n",
            "Loss:  1.797007 Accuracy:  0.17247596 (Train)\n",
            "Loss:  1.8024173 Accuracy:  0.35667068 (Test)\n"
          ]
        },
        {
          "output_type": "stream",
          "name": "stderr",
          "text": [
            "100%|██████████| 468/468 [01:20<00:00,  5.79it/s]\n"
          ]
        },
        {
          "output_type": "stream",
          "name": "stdout",
          "text": [
            "Epoch:  45\n",
            "Loss:  1.7970308 Accuracy:  0.16825254 (Train)\n",
            "Loss:  1.800314 Accuracy:  0.23287259 (Test)\n"
          ]
        },
        {
          "output_type": "stream",
          "name": "stderr",
          "text": [
            "100%|██████████| 468/468 [01:23<00:00,  5.60it/s]\n"
          ]
        },
        {
          "output_type": "stream",
          "name": "stdout",
          "text": [
            "Epoch:  46\n",
            "Loss:  1.7965105 Accuracy:  0.15619992 (Train)\n",
            "Loss:  1.8011956 Accuracy:  0.081430286 (Test)\n"
          ]
        },
        {
          "output_type": "stream",
          "name": "stderr",
          "text": [
            "100%|██████████| 468/468 [01:21<00:00,  5.77it/s]\n"
          ]
        },
        {
          "output_type": "stream",
          "name": "stdout",
          "text": [
            "Epoch:  47\n",
            "Loss:  1.7965693 Accuracy:  0.18132345 (Train)\n",
            "Loss:  1.8016577 Accuracy:  0.23287259 (Test)\n"
          ]
        },
        {
          "output_type": "stream",
          "name": "stderr",
          "text": [
            "100%|██████████| 468/468 [01:22<00:00,  5.69it/s]\n"
          ]
        },
        {
          "output_type": "stream",
          "name": "stdout",
          "text": [
            "Epoch:  48\n",
            "Loss:  1.7965692 Accuracy:  0.1706063 (Train)\n",
            "Loss:  1.8033915 Accuracy:  0.23287259 (Test)\n"
          ]
        },
        {
          "output_type": "stream",
          "name": "stderr",
          "text": [
            "100%|██████████| 468/468 [01:20<00:00,  5.79it/s]\n"
          ]
        },
        {
          "output_type": "stream",
          "name": "stdout",
          "text": [
            "Epoch:  49\n",
            "Loss:  1.7965615 Accuracy:  0.17621528 (Train)\n",
            "Loss:  1.8016827 Accuracy:  0.079527244 (Test)\n"
          ]
        },
        {
          "output_type": "stream",
          "name": "stderr",
          "text": [
            "100%|██████████| 468/468 [01:20<00:00,  5.79it/s]\n"
          ]
        },
        {
          "output_type": "stream",
          "name": "stdout",
          "text": [
            "Epoch:  50\n",
            "Loss:  1.7961439 Accuracy:  0.17546408 (Train)\n",
            "Loss:  1.8031341 Accuracy:  0.23607773 (Test)\n"
          ]
        }
      ],
      "source": [
        "\n",
        "optimizer = tf.keras.optimizers.Adam()\n",
        "loss_function = tf.keras.losses.CategoricalCrossentropy()\n",
        "cnn = CNN(input_shape=(window_size, 28, 28, 1))\n",
        "lstm_cell = LSTMCell()\n",
        "lstm_layer = tf.keras.layers.RNN(lstm_cell, return_sequences=True, unroll=True)\n",
        "model = OverallModel(cnn=cnn, lstm=lstm_layer, optimizer=optimizer, loss_function=loss_function)\n",
        "epochs = 50\n",
        "\n",
        "current_time = datetime.datetime.now().strftime(\"%Y%m%d-%H%M%S\")\n",
        "save_path = f\"models/{current_time}\"\n",
        "train_log_path = f\"logs/{current_time}/train\"\n",
        "test_log_path = f\"logs/{current_time}/test\"\n",
        "train_summary_writer = tf.summary.create_file_writer(train_log_path)\n",
        "test_summary_writer = tf.summary.create_file_writer(test_log_path)\n",
        "\n",
        "\n",
        "(train_loss, train_accuracy, test_loss, test_accuracy) = training_loop(\n",
        "    model, train_ds, test_ds, epochs, train_summary_writer, test_summary_writer, save_path)"
      ]
    },
    {
      "cell_type": "markdown",
      "metadata": {
        "id": "TYCvZHtHxUgj"
      },
      "source": [
        "## Plotting the result"
      ]
    },
    {
      "cell_type": "code",
      "source": [
        "plt.figure()\n",
        "line1 , = plt.plot(train_loss , \"b-\")\n",
        "line2 , = plt.plot(test_loss , \"r-\") \n",
        "line3 , = plt.plot(train_accuracy , \"b:\")\n",
        "line4 , = plt.plot(test_accuracy , \"r:\") \n",
        "plt.xlabel(\"Epochs\")\n",
        "plt.ylabel(\"Loss/Accuracy\")\n",
        "plt.legend((line1, line2, line3, line4), (\"training loss\", \"test loss\", \"train accuracy\", \"test accuracy\"))\n",
        "plt.show()"
      ],
      "metadata": {
        "colab": {
          "base_uri": "https://localhost:8080/",
          "height": 279
        },
        "id": "qLMHZz86KO74",
        "outputId": "58a7014d-fd3e-43c4-e9ac-4a28c7e4bd99"
      },
      "execution_count": 22,
      "outputs": [
        {
          "output_type": "display_data",
          "data": {
            "text/plain": [
              "<Figure size 432x288 with 1 Axes>"
            ],
            "image/png": "[encoded data removed]"
          },
          "metadata": {
            "needs_background": "light"
          }
        }
      ]
    }
  ],
  "metadata": {
    "colab": {
      "provenance": [],
      "include_colab_link": true
    },
    "kernelspec": {
      "display_name": "Python 3",
      "language": "python",
      "name": "python3"
    },
    "language_info": {
      "codemirror_mode": {
        "name": "ipython",
        "version": 3
      },
      "file_extension": ".py",
      "mimetype": "text/x-python",
      "name": "python",
      "nbconvert_exporter": "python",
      "pygments_lexer": "ipython3",
      "version": "3.9.13"
    },
    "orig_nbformat": 4,
    "vscode": {
      "interpreter": {
        "hash": "0f0d69c8c30e9dd8d5d9993603a334207417236334c8e6fdf3cd2ae360d39f34"
      }
    },
    "widgets": {
      "application/vnd.jupyter.widget-state+json": {
        "679568d6a39743d29bef3e8440caea86": {
          "model_module": "@jupyter-widgets/controls",
          "model_name": "HBoxModel",
          "model_module_version": "1.5.0",
          "state": {
            "_dom_classes": [],
            "_model_module": "@jupyter-widgets/controls",
            "_model_module_version": "1.5.0",
            "_model_name": "HBoxModel",
            "_view_count": null,
            "_view_module": "@jupyter-widgets/controls",
            "_view_module_version": "1.5.0",
            "_view_name": "HBoxView",
            "box_style": "",
            "children": [
              "IPY_MODEL_b57c72e90a4948d894d1f5eb550a6f9e",
              "IPY_MODEL_a016bbf8cc6143c69cf3ce8c7d592cc8",
              "IPY_MODEL_ca689650b39f4c95b155e3a3a00ef205"
            ],
            "layout": "IPY_MODEL_001efceee6194df9bce06281ca30dd4e"
          }
        },
        "b57c72e90a4948d894d1f5eb550a6f9e": {
          "model_module": "@jupyter-widgets/controls",
          "model_name": "HTMLModel",
          "model_module_version": "1.5.0",
          "state": {
            "_dom_classes": [],
            "_model_module": "@jupyter-widgets/controls",
            "_model_module_version": "1.5.0",
            "_model_name": "HTMLModel",
            "_view_count": null,
            "_view_module": "@jupyter-widgets/controls",
            "_view_module_version": "1.5.0",
            "_view_name": "HTMLView",
            "description": "",
            "description_tooltip": null,
            "layout": "IPY_MODEL_11705c4301fe45d2abef31e89b23b8ef",
            "placeholder": "​",
            "style": "IPY_MODEL_220acb3c8f144805ba701ae86c203975",
            "value": "Dl Completed...: 100%"
          }
        },
        "a016bbf8cc6143c69cf3ce8c7d592cc8": {
          "model_module": "@jupyter-widgets/controls",
          "model_name": "FloatProgressModel",
          "model_module_version": "1.5.0",
          "state": {
            "_dom_classes": [],
            "_model_module": "@jupyter-widgets/controls",
            "_model_module_version": "1.5.0",
            "_model_name": "FloatProgressModel",
            "_view_count": null,
            "_view_module": "@jupyter-widgets/controls",
            "_view_module_version": "1.5.0",
            "_view_name": "ProgressView",
            "bar_style": "success",
            "description": "",
            "description_tooltip": null,
            "layout": "IPY_MODEL_b67608ed110d4b7597bca0b7162ac316",
            "max": 5,
            "min": 0,
            "orientation": "horizontal",
            "style": "IPY_MODEL_c1e4cd6509834729a40604b22e21b761",
            "value": 5
          }
        },
        "ca689650b39f4c95b155e3a3a00ef205": {
          "model_module": "@jupyter-widgets/controls",
          "model_name": "HTMLModel",
          "model_module_version": "1.5.0",
          "state": {
            "_dom_classes": [],
            "_model_module": "@jupyter-widgets/controls",
            "_model_module_version": "1.5.0",
            "_model_name": "HTMLModel",
            "_view_count": null,
            "_view_module": "@jupyter-widgets/controls",
            "_view_module_version": "1.5.0",
            "_view_name": "HTMLView",
            "description": "",
            "description_tooltip": null,
            "layout": "IPY_MODEL_8c52d029de86400486635961bb36d14f",
            "placeholder": "​",
            "style": "IPY_MODEL_d671e88eb92c42859de3cdb960f01786",
            "value": " 5/5 [00:00&lt;00:00, 12.63 file/s]"
          }
        },
        "001efceee6194df9bce06281ca30dd4e": {
          "model_module": "@jupyter-widgets/base",
          "model_name": "LayoutModel",
          "model_module_version": "1.2.0",
          "state": {
            "_model_module": "@jupyter-widgets/base",
            "_model_module_version": "1.2.0",
            "_model_name": "LayoutModel",
            "_view_count": null,
            "_view_module": "@jupyter-widgets/base",
            "_view_module_version": "1.2.0",
            "_view_name": "LayoutView",
            "align_content": null,
            "align_items": null,
            "align_self": null,
            "border": null,
            "bottom": null,
            "display": null,
            "flex": null,
            "flex_flow": null,
            "grid_area": null,
            "grid_auto_columns": null,
            "grid_auto_flow": null,
            "grid_auto_rows": null,
            "grid_column": null,
            "grid_gap": null,
            "grid_row": null,
            "grid_template_areas": null,
            "grid_template_columns": null,
            "grid_template_rows": null,
            "height": null,
            "justify_content": null,
            "justify_items": null,
            "left": null,
            "margin": null,
            "max_height": null,
            "max_width": null,
            "min_height": null,
            "min_width": null,
            "object_fit": null,
            "object_position": null,
            "order": null,
            "overflow": null,
            "overflow_x": null,
            "overflow_y": null,
            "padding": null,
            "right": null,
            "top": null,
            "visibility": null,
            "width": null
          }
        },
        "11705c4301fe45d2abef31e89b23b8ef": {
          "model_module": "@jupyter-widgets/base",
          "model_name": "LayoutModel",
          "model_module_version": "1.2.0",
          "state": {
            "_model_module": "@jupyter-widgets/base",
            "_model_module_version": "1.2.0",
            "_model_name": "LayoutModel",
            "_view_count": null,
            "_view_module": "@jupyter-widgets/base",
            "_view_module_version": "1.2.0",
            "_view_name": "LayoutView",
            "align_content": null,
            "align_items": null,
            "align_self": null,
            "border": null,
            "bottom": null,
            "display": null,
            "flex": null,
            "flex_flow": null,
            "grid_area": null,
            "grid_auto_columns": null,
            "grid_auto_flow": null,
            "grid_auto_rows": null,
            "grid_column": null,
            "grid_gap": null,
            "grid_row": null,
            "grid_template_areas": null,
            "grid_template_columns": null,
            "grid_template_rows": null,
            "height": null,
            "justify_content": null,
            "justify_items": null,
            "left": null,
            "margin": null,
            "max_height": null,
            "max_width": null,
            "min_height": null,
            "min_width": null,
            "object_fit": null,
            "object_position": null,
            "order": null,
            "overflow": null,
            "overflow_x": null,
            "overflow_y": null,
            "padding": null,
            "right": null,
            "top": null,
            "visibility": null,
            "width": null
          }
        },
        "220acb3c8f144805ba701ae86c203975": {
          "model_module": "@jupyter-widgets/controls",
          "model_name": "DescriptionStyleModel",
          "model_module_version": "1.5.0",
          "state": {
            "_model_module": "@jupyter-widgets/controls",
            "_model_module_version": "1.5.0",
            "_model_name": "DescriptionStyleModel",
            "_view_count": null,
            "_view_module": "@jupyter-widgets/base",
            "_view_module_version": "1.2.0",
            "_view_name": "StyleView",
            "description_width": ""
          }
        },
        "b67608ed110d4b7597bca0b7162ac316": {
          "model_module": "@jupyter-widgets/base",
          "model_name": "LayoutModel",
          "model_module_version": "1.2.0",
          "state": {
            "_model_module": "@jupyter-widgets/base",
            "_model_module_version": "1.2.0",
            "_model_name": "LayoutModel",
            "_view_count": null,
            "_view_module": "@jupyter-widgets/base",
            "_view_module_version": "1.2.0",
            "_view_name": "LayoutView",
            "align_content": null,
            "align_items": null,
            "align_self": null,
            "border": null,
            "bottom": null,
            "display": null,
            "flex": null,
            "flex_flow": null,
            "grid_area": null,
            "grid_auto_columns": null,
            "grid_auto_flow": null,
            "grid_auto_rows": null,
            "grid_column": null,
            "grid_gap": null,
            "grid_row": null,
            "grid_template_areas": null,
            "grid_template_columns": null,
            "grid_template_rows": null,
            "height": null,
            "justify_content": null,
            "justify_items": null,
            "left": null,
            "margin": null,
            "max_height": null,
            "max_width": null,
            "min_height": null,
            "min_width": null,
            "object_fit": null,
            "object_position": null,
            "order": null,
            "overflow": null,
            "overflow_x": null,
            "overflow_y": null,
            "padding": null,
            "right": null,
            "top": null,
            "visibility": null,
            "width": null
          }
        },
        "c1e4cd6509834729a40604b22e21b761": {
          "model_module": "@jupyter-widgets/controls",
          "model_name": "ProgressStyleModel",
          "model_module_version": "1.5.0",
          "state": {
            "_model_module": "@jupyter-widgets/controls",
            "_model_module_version": "1.5.0",
            "_model_name": "ProgressStyleModel",
            "_view_count": null,
            "_view_module": "@jupyter-widgets/base",
            "_view_module_version": "1.2.0",
            "_view_name": "StyleView",
            "bar_color": null,
            "description_width": ""
          }
        },
        "8c52d029de86400486635961bb36d14f": {
          "model_module": "@jupyter-widgets/base",
          "model_name": "LayoutModel",
          "model_module_version": "1.2.0",
          "state": {
            "_model_module": "@jupyter-widgets/base",
            "_model_module_version": "1.2.0",
            "_model_name": "LayoutModel",
            "_view_count": null,
            "_view_module": "@jupyter-widgets/base",
            "_view_module_version": "1.2.0",
            "_view_name": "LayoutView",
            "align_content": null,
            "align_items": null,
            "align_self": null,
            "border": null,
            "bottom": null,
            "display": null,
            "flex": null,
            "flex_flow": null,
            "grid_area": null,
            "grid_auto_columns": null,
            "grid_auto_flow": null,
            "grid_auto_rows": null,
            "grid_column": null,
            "grid_gap": null,
            "grid_row": null,
            "grid_template_areas": null,
            "grid_template_columns": null,
            "grid_template_rows": null,
            "height": null,
            "justify_content": null,
            "justify_items": null,
            "left": null,
            "margin": null,
            "max_height": null,
            "max_width": null,
            "min_height": null,
            "min_width": null,
            "object_fit": null,
            "object_position": null,
            "order": null,
            "overflow": null,
            "overflow_x": null,
            "overflow_y": null,
            "padding": null,
            "right": null,
            "top": null,
            "visibility": null,
            "width": null
          }
        },
        "d671e88eb92c42859de3cdb960f01786": {
          "model_module": "@jupyter-widgets/controls",
          "model_name": "DescriptionStyleModel",
          "model_module_version": "1.5.0",
          "state": {
            "_model_module": "@jupyter-widgets/controls",
            "_model_module_version": "1.5.0",
            "_model_name": "DescriptionStyleModel",
            "_view_count": null,
            "_view_module": "@jupyter-widgets/base",
            "_view_module_version": "1.2.0",
            "_view_name": "StyleView",
            "description_width": ""
          }
        }
      }
    }
  },
  "nbformat": 4,
  "nbformat_minor": 0
}