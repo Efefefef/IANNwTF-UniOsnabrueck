{
  "cells": [
    {
      "cell_type": "markdown",
      "metadata": {
        "id": "view-in-github",
        "colab_type": "text"
      },
      "source": [
        "<a href=\"https://colab.research.google.com/github/Efefefef/IANNwTF-UniOsnabrueck/blob/main/homework07/homework07.ipynb\" target=\"_parent\"><img src=\"https://colab.research.google.com/assets/colab-badge.svg\" alt=\"Open In Colab\"/></a>"
      ]
    },
    {
      "cell_type": "markdown",
      "metadata": {
        "id": "AWg14xyOL2OG"
      },
      "source": [
        "# HOMEWORK 07"
      ]
    },
    {
      "cell_type": "code",
      "execution_count": 1,
      "metadata": {
        "id": "9R9hKeIHyZDX"
      },
      "outputs": [],
      "source": [
        "import tensorflow_datasets as tfds\n",
        "import tensorflow as tf\n",
        "from keras.layers import Dense, Conv2D, AveragePooling2D, TimeDistributed, LSTM, GlobalAvgPool2D, AbstractRNNCell\n",
        "from keras.initializers import Orthogonal\n",
        "from tqdm import tqdm\n",
        "import datetime"
      ]
    },
    {
      "cell_type": "markdown",
      "metadata": {
        "id": "rVk0oUzwEgBx"
      },
      "source": [
        "## Prepare Dataset"
      ]
    },
    {
      "cell_type": "code",
      "execution_count": 2,
      "metadata": {
        "id": "0_1MRMKDHb6f"
      },
      "outputs": [],
      "source": [
        "# Load MNIST dataset\n",
        "def load_data():\n",
        "    (train_ds, test_ds), ds_info = tfds.load('mnist', split=['train', 'test'], as_supervised=True, with_info=True)\n",
        "    return (train_ds, test_ds), ds_info"
      ]
    },
    {
      "cell_type": "code",
      "execution_count": 3,
      "metadata": {
        "id": "FAd7Erb2EQBN"
      },
      "outputs": [],
      "source": [
        "# Creating new target\n",
        "def new_target_fnc(ds, window_size):\n",
        "  l = list()\n",
        "  for i, elem in enumerate(ds):\n",
        "    if (i % window_size) == 0:\n",
        "      l.append(int(elem[1]))\n",
        "    else:\n",
        "      if (i % 2) == 0:\n",
        "        l.append(int(l[i-1] + elem[1]))\n",
        "      else:\n",
        "        l.append(int(l[i-1] - elem[1]))\n",
        "  return l\n",
        "\n",
        "# Preprocessing data\n",
        "def preprocess(data, batch_size, window_size):\n",
        "  new_targets = new_target_fnc(data, window_size)\n",
        "  new_targets = tf.data.Dataset.from_tensor_slices(new_targets)\n",
        "  data = tf.data.Dataset.zip((data, new_targets))\n",
        "  data = data.map(lambda img, new_target: (img[0], new_target))\n",
        "  data = data.map(lambda img, target: (img, tf.one_hot(target, depth=10)))\n",
        "\n",
        "  data = data.map(lambda img, target: (tf.cast(img, tf.float32), target))\n",
        "  data = data.map(lambda img, target: ((img/128.)-1., target))\n",
        "\n",
        "  data = data.batch(window_size, drop_remainder=True)\n",
        "  data = data.batch(batch_size, drop_remainder=True)\n",
        "  data = data.cache().shuffle(1000).prefetch(tf.data.AUTOTUNE)\n",
        "  return data"
      ]
    },
    {
      "cell_type": "markdown",
      "source": [
        "## Prepare Model"
      ],
      "metadata": {
        "id": "U3UZv3_6V6l-"
      }
    },
    {
      "cell_type": "code",
      "execution_count": 4,
      "metadata": {
        "id": "Z3coL6r7yZDb"
      },
      "outputs": [],
      "source": [
        "# CNN Model\n",
        "class CNN(tf.keras.Model):\n",
        "  def __init__(self, optimizer, loss_function, input_shape):\n",
        "    super().__init__()\n",
        "    # input conv1 = 28x28x1\n",
        "    self.conv1 = TimeDistributed(Conv2D(24, 3, activation='relu', padding='valid'), input_shape=input_shape)\n",
        "    # output conv1 = 28x28x24\n",
        "    self.conv2 = TimeDistributed(Conv2D(24, 3, activation='relu', padding='valid'))\n",
        "    # output conv2 = 28x28x24\n",
        "    self.pooling1 = TimeDistributed(AveragePooling2D())\n",
        "    # output pooling1 = 14x14x24\n",
        "    self.conv3 = TimeDistributed(Conv2D(24, 3, activation='relu', padding='valid'))\n",
        "    # output conv3 = 14x14x24\n",
        "    self.conv4 = TimeDistributed(Conv2D(24, 3, activation='relu', padding='valid'))\n",
        "    # output conv3 = 14x14x24\n",
        "    self.globalpooling = TimeDistributed(GlobalAvgPool2D())\n",
        "    # output globalpooling = 7x7x24\n",
        "    self.out = TimeDistributed(Dense(10, activation='softmax'))\n",
        "\n",
        "    self.optimizer = optimizer\n",
        "    self.loss_function = loss_function\n",
        "\n",
        "    self.metrics_list = [\n",
        "        tf.keras.metrics.CategoricalAccuracy(name=\"accuracy\"),\n",
        "        tf.keras.metrics.Mean(name=\"loss\")\n",
        "    ]\n",
        "\n",
        "  @tf.function\n",
        "  def __call__(self, x, training=False):\n",
        "    x = self.conv1(x)\n",
        "    x = self.conv2(x)\n",
        "    x = self.pooling1(x)\n",
        "    x = self.conv3(x)\n",
        "    x = self.conv4(x)\n",
        "\n",
        "    x = self.globalpooling(x)\n",
        "    x = self.out(x)\n",
        "    return x\n",
        "\n",
        "  # reset all metrics\n",
        "  def reset_metrics(self):\n",
        "      for metric in self.metrics:\n",
        "          metric.reset_states()\n",
        "\n",
        "  @tf.function\n",
        "  def train_step(self, data):\n",
        "      image, label = data\n",
        "\n",
        "      with tf.GradientTape() as tape:\n",
        "          prediction = self(image, training = True)\n",
        "          loss = self.loss_function(label, prediction)\n",
        "\n",
        "      gradients = tape.gradient(loss, self.trainable_variables)\n",
        "      self.optimizer.apply_gradients(zip(gradients,self.trainable_variables))\n",
        "      self.metrics[0].update_state(label, prediction)\n",
        "      self.metrics[1].update_state(loss)\n",
        "\n",
        "  @tf.function\n",
        "  def test_step(self, data):\n",
        "      image, label = data\n",
        "      prediction = self(image, training = False)\n",
        "      loss = self.loss_function(label, prediction)\n",
        "      self.metrics[0].update_state(label, prediction)\n",
        "      self.metrics[1].update_state(loss)"
      ]
    },
    {
      "cell_type": "code",
      "source": [
        "# RNN Cell\n",
        "class RNNCell(AbstractRNNCell):\n",
        "  def __init__(self, units, **kwargs):\n",
        "    super(RNNCell, self).__init__(**kwargs)\n",
        "    self.units = units\n",
        "\n",
        "    @property\n",
        "    def state_size(self):\n",
        "      return self.units\n",
        "\n",
        "    def build(self, input_shape):\n",
        "      self.kernal = self.add_weight(shape=(input_shape[-1], self.units),\n",
        "                                    initializer= 'uniform',\n",
        "                                    name= 'kernel')\n",
        "      self.recurrent_kernel = self.add_weight(\n",
        "          shape=(self.units, self.units),\n",
        "          initializer= 'uniform',\n",
        "          name='recurrent_kernel')\n",
        "      self.built = True\n",
        "\n",
        "\n",
        "    def call(self, inputs, states):\n",
        "      previous_output = states[0]\n",
        "      h = backend.dot(inputs, self.kernel)\n",
        "      output = h + backend.dit(previous_output, self.recurrent_kernel)\n",
        "      return output, output"
      ],
      "metadata": {
        "id": "Uk_7eCJDAZ3h"
      },
      "execution_count": 15,
      "outputs": []
    },
    {
      "cell_type": "code",
      "source": [
        "# RNN Model\n",
        "class RNNModel(tf.keras.Model):\n",
        "  def __init__(self):\n",
        "    super(RNNModel, self).__init__()\n",
        "    self.rnn_cell = RNNCell(units=4)\n",
        "        \n",
        "    # return_sequences collects and returns the output \n",
        "    #    of the rnn_cell for all time-steps\n",
        "    # unroll unrolls the network for speed (at the cost of memory)\n",
        "    self.rnn_layer = tf.keras.layers.RNN(self.rnn_cell, \n",
        "                                         return_sequences=True, # we need to know every output in each step\n",
        "                                                                # as we use it for calculation in next state\n",
        "                                         unroll=True) \n",
        "        \n",
        "    self.output_layer = tf.keras.layers.Dense(37, activation=\"softmax\")\n",
        "    self.metrics_list = [\n",
        "                 tf.keras.metrics.CategoricalAccuracy(name=\"accuracy\"),\n",
        "                 tf.keras.metrics.Mean(name=\"loss\")]\n",
        "\n",
        "  @property\n",
        "  def metrics(self):\n",
        "    return self.metrics_list\n",
        "    \n",
        "  def reset_metrics(self):\n",
        "     for metric in self.metrics:\n",
        "       metric.reset_state()\n",
        "        \n",
        "  def call(self, sequence, training=False):\n",
        "        \n",
        "    rnn_output = self.rnn_layer(sequence)\n",
        "        \n",
        "    return self.output_layer(rnn_output)\n",
        "\n",
        "  def train_step(self, data):   \n",
        "    \"\"\"\n",
        "    Standard train_step method, assuming we use model.compile(optimizer, loss, ...)\n",
        "    \"\"\"\n",
        "        \n",
        "    sequence, label = data\n",
        "    with tf.GradientTape() as tape:\n",
        "      output = self(sequence, training=True)\n",
        "      loss = self.compiled_loss(label, output, regularization_losses=self.losses)\n",
        "    gradients = tape.gradient(loss, self.trainable_variables)\n",
        "        \n",
        "    self.optimizer.apply_gradients(zip(gradients, self.trainable_variables))\n",
        "     \n",
        "    self.metrics[0].update_state(loss)\n",
        "    self.metrics[1].update_state(label, output)\n",
        "        \n",
        "    return {m.name : m.result() for m in self.metrics}\n",
        "    \n",
        "  def test_step(self, data):      \n",
        "    \"\"\"\n",
        "    Standard test_step method, assuming we use model.compile(optimizer, loss, ...)\n",
        "    \"\"\"\n",
        "        \n",
        "    sequence, label = data\n",
        "    output = self(sequence, training=False)\n",
        "    loss = self.compiled_loss(label, output, regularization_losses=self.losses)\n",
        "                \n",
        "    self.metrics[0].update_state(loss)\n",
        "    self.metrics[1].update_state(label, output)\n",
        "        \n",
        "    return {m.name : m.result() for m in self.metrics}"
      ],
      "metadata": {
        "id": "hjUAeujrDquA"
      },
      "execution_count": 18,
      "outputs": []
    },
    {
      "cell_type": "markdown",
      "source": [
        "## Prepare Training Loop for CNN"
      ],
      "metadata": {
        "id": "d3V7Bw36WB4-"
      }
    },
    {
      "cell_type": "code",
      "source": [
        "# Training Loop for CNN model\n",
        "def training_loop(model, train_ds, test_ds, epoch, train_summary_writer, test_summary_writer, save_path):\n",
        "    for epoch in range (epochs):\n",
        "        model.reset_metrics()\n",
        "\n",
        "        for data in tqdm(train_ds, position=0, leave=True):\n",
        "            model.train_step(data)\n",
        "\n",
        "        with train_summary_writer.as_default():\n",
        "            tf.summary.scalar(model.metrics[0].name, model.metrics[0].result(), step=epoch)\n",
        "            tf.summary.scalar(model.metrics[1].name, model.metrics[1].result(), step=epoch)\n",
        "        \n",
        "        print(\"Epoch: \", epoch+1)\n",
        "        print(\"Loss: \", model.metrics[1].result().numpy(), \"Accuracy: \", model.metrics[0].result().numpy(), \"(Train)\")\n",
        "        model.reset_metrics()\n",
        "\n",
        "        for data in test_ds:\n",
        "            model.test_step(data)\n",
        "\n",
        "        with test_summary_writer.as_default():\n",
        "            tf.summary.scalar(model.metrics[0].name, model.metrics[0].result(), step=epoch)\n",
        "            tf.summary.scalar(model.metrics[1].name, model.metrics[1].result(), step=epoch)\n",
        "\n",
        "        print(\"Loss: \", model.metrics[1].result().numpy(), \"Accuracy: \", model.metrics[0].result().numpy(), \"(Test)\")\n",
        "    \n",
        "    model.save_weights(save_path)"
      ],
      "metadata": {
        "id": "QGDcJfgBAXYT"
      },
      "execution_count": 7,
      "outputs": []
    },
    {
      "cell_type": "markdown",
      "source": [
        "## Training the CNN model"
      ],
      "metadata": {
        "id": "EEpvdpiQXObl"
      }
    },
    {
      "cell_type": "code",
      "execution_count": 8,
      "metadata": {
        "id": "pKg9wCJo11zO",
        "outputId": "9b074759-1c75-458b-b99b-4b234c30a006",
        "colab": {
          "base_uri": "https://localhost:8080/",
          "height": 292,
          "referenced_widgets": [
            "06f554fc183d4fb4b8f0783c9b39127d",
            "9e6f90b515404d45a911efdc612830fa",
            "8be0a2807d3f4be297c50f61f383a041",
            "5149677ca6e4457ea72ae94f1288b403",
            "44067b8897914c0a876629e21a36d6d6",
            "f9c5065b730a4ddf975f1b4c3e1a630f",
            "0fdf7df1a1b94cf9b1aeca1ab57c6fcb",
            "a06fe6a3375e4120aafe53521d84df31",
            "45b46edd7af543dd960b931ed9d28f88",
            "a7658b2a3fd941928a10dc3520b08427",
            "1e755d8e65604e8288932f236abb477b"
          ]
        }
      },
      "outputs": [
        {
          "output_type": "stream",
          "name": "stdout",
          "text": [
            "Downloading and preparing dataset 11.06 MiB (download: 11.06 MiB, generated: 21.00 MiB, total: 32.06 MiB) to ~/tensorflow_datasets/mnist/3.0.1...\n"
          ]
        },
        {
          "output_type": "display_data",
          "data": {
            "text/plain": [
              "Dl Completed...:   0%|          | 0/5 [00:00<?, ? file/s]"
            ],
            "application/vnd.jupyter.widget-view+json": {
              "version_major": 2,
              "version_minor": 0,
              "model_id": "06f554fc183d4fb4b8f0783c9b39127d"
            }
          },
          "metadata": {}
        },
        {
          "output_type": "stream",
          "name": "stdout",
          "text": [
            "Dataset mnist downloaded and prepared to ~/tensorflow_datasets/mnist/3.0.1. Subsequent calls will reuse this data.\n"
          ]
        },
        {
          "output_type": "stream",
          "name": "stderr",
          "text": [
            "100%|██████████| 468/468 [00:54<00:00,  8.61it/s]\n"
          ]
        },
        {
          "output_type": "stream",
          "name": "stdout",
          "text": [
            "Epoch:  1\n",
            "Loss:  1.4748762 Accuracy:  0.20385951 (Train)\n",
            "Loss:  1.4135445 Accuracy:  0.2528045 (Test)\n"
          ]
        },
        {
          "output_type": "stream",
          "name": "stderr",
          "text": [
            "100%|██████████| 468/468 [00:49<00:00,  9.37it/s]\n"
          ]
        },
        {
          "output_type": "stream",
          "name": "stdout",
          "text": [
            "Epoch:  2\n",
            "Loss:  1.3720081 Accuracy:  0.28235176 (Train)\n",
            "Loss:  1.3572243 Accuracy:  0.2935697 (Test)\n"
          ]
        },
        {
          "output_type": "stream",
          "name": "stderr",
          "text": [
            "100%|██████████| 468/468 [00:49<00:00,  9.38it/s]\n"
          ]
        },
        {
          "output_type": "stream",
          "name": "stdout",
          "text": [
            "Epoch:  3\n",
            "Loss:  1.3433359 Accuracy:  0.29604033 (Train)\n",
            "Loss:  1.3444211 Accuracy:  0.29517227 (Test)\n"
          ]
        }
      ],
      "source": [
        "batch_size = 32\n",
        "window_size = 4\n",
        "(train_ds,test_ds), ds_info = load_data()\n",
        "train_ds = preprocess(train_ds, batch_size, window_size)\n",
        "test_ds = preprocess(test_ds, batch_size, window_size)\n",
        "\n",
        "# for data in train_ds.take(1):\n",
        "    # print(data[0].shape, data[1])\n",
        "\n",
        "optimizer = tf.keras.optimizers.Adam()\n",
        "loss_function = tf.keras.losses.CategoricalCrossentropy()\n",
        "cnn = CNN(optimizer=optimizer, loss_function=loss_function, input_shape=(window_size, 28, 28, 1))\n",
        "epochs = 3\n",
        "\n",
        "current_time = datetime.datetime.now().strftime(\"%Y%m%d-%H%M%S\")\n",
        "save_path = f\"models/{current_time}\"\n",
        "train_log_path = f\"logs/{current_time}/train\"\n",
        "test_log_path = f\"logs/{current_time}/test\"\n",
        "train_summary_writer = tf.summary.create_file_writer(train_log_path)\n",
        "test_summary_writer = tf.summary.create_file_writer(test_log_path)\n",
        "training_loop(cnn, train_ds, test_ds, epochs, train_summary_writer, test_summary_writer, save_path)"
      ]
    },
    {
      "cell_type": "code",
      "source": [
        "# Extracting output from CNN model\n",
        "cnn_output_train = cnn.predict(train_ds)\n",
        "\n",
        "# Generating input label from training\n",
        "X_train= list(map(lambda x: x[0], train_ds))\n",
        "y_train= list(map(lambda x: x[1], train_ds))"
      ],
      "metadata": {
        "colab": {
          "base_uri": "https://localhost:8080/"
        },
        "id": "qqE7wqI9pTik",
        "outputId": "0b724101-39e8-4809-f571-0127e609bbde"
      },
      "execution_count": 9,
      "outputs": [
        {
          "output_type": "stream",
          "name": "stdout",
          "text": [
            "468/468 [==============================] - 13s 28ms/step\n"
          ]
        }
      ]
    },
    {
      "cell_type": "code",
      "source": [
        "print(cnn_output_train.shape)\n",
        "print(len(y_train))\n",
        "print(len(X_train))"
      ],
      "metadata": {
        "colab": {
          "base_uri": "https://localhost:8080/"
        },
        "id": "OjFi8xgy2n0B",
        "outputId": "582eb396-e657-488f-daa1-f4f8162fd0ee"
      },
      "execution_count": 10,
      "outputs": [
        {
          "output_type": "stream",
          "name": "stdout",
          "text": [
            "(14976, 4, 10)\n",
            "468\n",
            "468\n"
          ]
        }
      ]
    },
    {
      "cell_type": "code",
      "source": [
        "# Initiating RNN model\n",
        "rnn = RNNModel()\n",
        "\n",
        "# Compiling the rnn model\n",
        "rnn.compile(optimizer, loss_function)"
      ],
      "metadata": {
        "id": "TY9WRpifWn0m"
      },
      "execution_count": 19,
      "outputs": []
    },
    {
      "cell_type": "code",
      "source": [
        "# Training RNN Model \n",
        "EXPERIMENT_NAME = \"RNN_model\"\n",
        "current_time = datetime.datetime.now().strftime(\"%Y%m%d-%H%M%S\")\n",
        "logging_callback = tf.keras.callbacks.TensorBoard(log_dir=f\"./logs/{EXPERIMENT_NAME}/{current_time}\")"
      ],
      "metadata": {
        "id": "s6aqr0oUW38p"
      },
      "execution_count": 20,
      "outputs": []
    },
    {
      "cell_type": "code",
      "source": [
        "# Training RNN Model using fit\n",
        "history = rnn.fit(x= cnn_output_train,\n",
        "                  y = y_train,\n",
        "                  validation_data=test_ds,\n",
        "                  initial_epoch=2,\n",
        "                  epochs=6,\n",
        "                  callbacks=[logging_callback])"
      ],
      "metadata": {
        "id": "fcACZuLJaIiW",
        "colab": {
          "base_uri": "https://localhost:8080/",
          "height": 554
        },
        "outputId": "cae38ca8-3ab7-489e-b288-4c97b483637c"
      },
      "execution_count": 21,
      "outputs": [
        {
          "output_type": "error",
          "ename": "ValueError",
          "evalue": "ignored",
          "traceback": [
            "\u001b[0;31m---------------------------------------------------------------------------\u001b[0m",
            "\u001b[0;31mValueError\u001b[0m                                Traceback (most recent call last)",
            "\u001b[0;32m<ipython-input-21-e0d42fef643b>\u001b[0m in \u001b[0;36m<module>\u001b[0;34m\u001b[0m\n\u001b[1;32m      1\u001b[0m \u001b[0;31m# Training RNN Model using fit\u001b[0m\u001b[0;34m\u001b[0m\u001b[0;34m\u001b[0m\u001b[0;34m\u001b[0m\u001b[0m\n\u001b[0;32m----> 2\u001b[0;31m history = rnn.fit(x= cnn_output_train,\n\u001b[0m\u001b[1;32m      3\u001b[0m                   \u001b[0my\u001b[0m \u001b[0;34m=\u001b[0m \u001b[0my_train\u001b[0m\u001b[0;34m,\u001b[0m\u001b[0;34m\u001b[0m\u001b[0;34m\u001b[0m\u001b[0m\n\u001b[1;32m      4\u001b[0m                   \u001b[0mvalidation_data\u001b[0m\u001b[0;34m=\u001b[0m\u001b[0mtest_ds\u001b[0m\u001b[0;34m,\u001b[0m\u001b[0;34m\u001b[0m\u001b[0;34m\u001b[0m\u001b[0m\n\u001b[1;32m      5\u001b[0m                   \u001b[0minitial_epoch\u001b[0m\u001b[0;34m=\u001b[0m\u001b[0;36m2\u001b[0m\u001b[0;34m,\u001b[0m\u001b[0;34m\u001b[0m\u001b[0;34m\u001b[0m\u001b[0m\n",
            "\u001b[0;32m/usr/local/lib/python3.8/dist-packages/keras/utils/traceback_utils.py\u001b[0m in \u001b[0;36merror_handler\u001b[0;34m(*args, **kwargs)\u001b[0m\n\u001b[1;32m     65\u001b[0m     \u001b[0;32mexcept\u001b[0m \u001b[0mException\u001b[0m \u001b[0;32mas\u001b[0m \u001b[0me\u001b[0m\u001b[0;34m:\u001b[0m  \u001b[0;31m# pylint: disable=broad-except\u001b[0m\u001b[0;34m\u001b[0m\u001b[0;34m\u001b[0m\u001b[0m\n\u001b[1;32m     66\u001b[0m       \u001b[0mfiltered_tb\u001b[0m \u001b[0;34m=\u001b[0m \u001b[0m_process_traceback_frames\u001b[0m\u001b[0;34m(\u001b[0m\u001b[0me\u001b[0m\u001b[0;34m.\u001b[0m\u001b[0m__traceback__\u001b[0m\u001b[0;34m)\u001b[0m\u001b[0;34m\u001b[0m\u001b[0;34m\u001b[0m\u001b[0m\n\u001b[0;32m---> 67\u001b[0;31m       \u001b[0;32mraise\u001b[0m \u001b[0me\u001b[0m\u001b[0;34m.\u001b[0m\u001b[0mwith_traceback\u001b[0m\u001b[0;34m(\u001b[0m\u001b[0mfiltered_tb\u001b[0m\u001b[0;34m)\u001b[0m \u001b[0;32mfrom\u001b[0m \u001b[0;32mNone\u001b[0m\u001b[0;34m\u001b[0m\u001b[0;34m\u001b[0m\u001b[0m\n\u001b[0m\u001b[1;32m     68\u001b[0m     \u001b[0;32mfinally\u001b[0m\u001b[0;34m:\u001b[0m\u001b[0;34m\u001b[0m\u001b[0;34m\u001b[0m\u001b[0m\n\u001b[1;32m     69\u001b[0m       \u001b[0;32mdel\u001b[0m \u001b[0mfiltered_tb\u001b[0m\u001b[0;34m\u001b[0m\u001b[0;34m\u001b[0m\u001b[0m\n",
            "\u001b[0;32m/usr/local/lib/python3.8/dist-packages/keras/engine/data_adapter.py\u001b[0m in \u001b[0;36m_check_data_cardinality\u001b[0;34m(data)\u001b[0m\n\u001b[1;32m   1653\u001b[0m                            for i in tf.nest.flatten(single_data)))\n\u001b[1;32m   1654\u001b[0m     \u001b[0mmsg\u001b[0m \u001b[0;34m+=\u001b[0m \u001b[0;34m\"Make sure all arrays contain the same number of samples.\"\u001b[0m\u001b[0;34m\u001b[0m\u001b[0;34m\u001b[0m\u001b[0m\n\u001b[0;32m-> 1655\u001b[0;31m     \u001b[0;32mraise\u001b[0m \u001b[0mValueError\u001b[0m\u001b[0;34m(\u001b[0m\u001b[0mmsg\u001b[0m\u001b[0;34m)\u001b[0m\u001b[0;34m\u001b[0m\u001b[0;34m\u001b[0m\u001b[0m\n\u001b[0m\u001b[1;32m   1656\u001b[0m \u001b[0;34m\u001b[0m\u001b[0m\n\u001b[1;32m   1657\u001b[0m \u001b[0;34m\u001b[0m\u001b[0m\n",
            "\u001b[0;31mValueError\u001b[0m: Data cardinality is ambiguous:\n  x sizes: 14976\n  y sizes: 32, 32, 32, 32, 32, 32, 32, 32, 32, 32, 32, 32, 32, 32, 32, 32, 32, 32, 32, 32, 32, 32, 32, 32, 32, 32, 32, 32, 32, 32, 32, 32, 32, 32, 32, 32, 32, 32, 32, 32, 32, 32, 32, 32, 32, 32, 32, 32, 32, 32, 32, 32, 32, 32, 32, 32, 32, 32, 32, 32, 32, 32, 32, 32, 32, 32, 32, 32, 32, 32, 32, 32, 32, 32, 32, 32, 32, 32, 32, 32, 32, 32, 32, 32, 32, 32, 32, 32, 32, 32, 32, 32, 32, 32, 32, 32, 32, 32, 32, 32, 32, 32, 32, 32, 32, 32, 32, 32, 32, 32, 32, 32, 32, 32, 32, 32, 32, 32, 32, 32, 32, 32, 32, 32, 32, 32, 32, 32, 32, 32, 32, 32, 32, 32, 32, 32, 32, 32, 32, 32, 32, 32, 32, 32, 32, 32, 32, 32, 32, 32, 32, 32, 32, 32, 32, 32, 32, 32, 32, 32, 32, 32, 32, 32, 32, 32, 32, 32, 32, 32, 32, 32, 32, 32, 32, 32, 32, 32, 32, 32, 32, 32, 32, 32, 32, 32, 32, 32, 32, 32, 32, 32, 32, 32, 32, 32, 32, 32, 32, 32, 32, 32, 32, 32, 32, 32, 32, 32, 32, 32, 32, 32, 32, 32, 32, 32, 32, 32, 32, 32, 32, 32, 32, 32, 32, 32, 32, 32, 32, 32, 32, 32, 32, 32, 32, 32, 32, 32, 32, 32, 32, 32, 32, 32, 32, 32, 32, 32, 32, 32, 32, 32, 32, 32, 32, 32, 32, 32, 32, 32, 32, 32, 32, 32, 32, 32, 32, 32, 32, 32, 32, 32, 32, 32, 32, 32, 32, 32, 32, 32, 32, 32, 32, 32, 32, 32, 32, 32, 32, 32, 32, 32, 32, 32, 32, 32, 32, 32, 32, 32, 32, 32, 32, 32, 32, 32, 32, 32, 32, 32, 32, 32, 32, 32, 32, 32, 32, 32, 32, 32, 32, 32, 32, 32, 32, 32, 32, 32, 32, 32, 32, 32, 32, 32, 32, 32, 32, 32, 32, 32, 32, 32, 32, 32, 32, 32, 32, 32, 32, 32, 32, 32, 32, 32, 32, 32, 32, 32, 32, 32, 32, 32, 32, 32, 32, 32, 32, 32, 32, 32, 32, 32...\nMake sure all arrays contain the same number of samples."
          ]
        }
      ]
    },
    {
      "cell_type": "markdown",
      "source": [
        "## Plotting the result"
      ],
      "metadata": {
        "id": "TYCvZHtHxUgj"
      }
    },
    {
      "cell_type": "code",
      "source": [
        "# Plotting RNN model from History\n",
        "plt.plot(history.history[\"loss\"])\n",
        "plt.plot(history.history[\"val_loss\"])\n",
        "plt.legend(labels=[\"training\",\"validation\"])\n",
        "plt.xlabel(\"Epoch\")\n",
        "plt.ylabel(\"Categorical Crossentropy Loss\")\n",
        "plt.show()"
      ],
      "metadata": {
        "id": "3gO7lh9zxXEz"
      },
      "execution_count": null,
      "outputs": []
    }
  ],
  "metadata": {
    "kernelspec": {
      "display_name": "Python 3",
      "language": "python",
      "name": "python3"
    },
    "language_info": {
      "codemirror_mode": {
        "name": "ipython",
        "version": 3
      },
      "file_extension": ".py",
      "mimetype": "text/x-python",
      "name": "python",
      "nbconvert_exporter": "python",
      "pygments_lexer": "ipython3",
      "version": "3.9.13"
    },
    "orig_nbformat": 4,
    "vscode": {
      "interpreter": {
        "hash": "0f0d69c8c30e9dd8d5d9993603a334207417236334c8e6fdf3cd2ae360d39f34"
      }
    },
    "colab": {
      "provenance": [],
      "include_colab_link": true
    },
    "widgets": {
      "application/vnd.jupyter.widget-state+json": {
        "06f554fc183d4fb4b8f0783c9b39127d": {
          "model_module": "@jupyter-widgets/controls",
          "model_name": "HBoxModel",
          "model_module_version": "1.5.0",
          "state": {
            "_dom_classes": [],
            "_model_module": "@jupyter-widgets/controls",
            "_model_module_version": "1.5.0",
            "_model_name": "HBoxModel",
            "_view_count": null,
            "_view_module": "@jupyter-widgets/controls",
            "_view_module_version": "1.5.0",
            "_view_name": "HBoxView",
            "box_style": "",
            "children": [
              "IPY_MODEL_9e6f90b515404d45a911efdc612830fa",
              "IPY_MODEL_8be0a2807d3f4be297c50f61f383a041",
              "IPY_MODEL_5149677ca6e4457ea72ae94f1288b403"
            ],
            "layout": "IPY_MODEL_44067b8897914c0a876629e21a36d6d6"
          }
        },
        "9e6f90b515404d45a911efdc612830fa": {
          "model_module": "@jupyter-widgets/controls",
          "model_name": "HTMLModel",
          "model_module_version": "1.5.0",
          "state": {
            "_dom_classes": [],
            "_model_module": "@jupyter-widgets/controls",
            "_model_module_version": "1.5.0",
            "_model_name": "HTMLModel",
            "_view_count": null,
            "_view_module": "@jupyter-widgets/controls",
            "_view_module_version": "1.5.0",
            "_view_name": "HTMLView",
            "description": "",
            "description_tooltip": null,
            "layout": "IPY_MODEL_f9c5065b730a4ddf975f1b4c3e1a630f",
            "placeholder": "​",
            "style": "IPY_MODEL_0fdf7df1a1b94cf9b1aeca1ab57c6fcb",
            "value": "Dl Completed...: 100%"
          }
        },
        "8be0a2807d3f4be297c50f61f383a041": {
          "model_module": "@jupyter-widgets/controls",
          "model_name": "FloatProgressModel",
          "model_module_version": "1.5.0",
          "state": {
            "_dom_classes": [],
            "_model_module": "@jupyter-widgets/controls",
            "_model_module_version": "1.5.0",
            "_model_name": "FloatProgressModel",
            "_view_count": null,
            "_view_module": "@jupyter-widgets/controls",
            "_view_module_version": "1.5.0",
            "_view_name": "ProgressView",
            "bar_style": "success",
            "description": "",
            "description_tooltip": null,
            "layout": "IPY_MODEL_a06fe6a3375e4120aafe53521d84df31",
            "max": 5,
            "min": 0,
            "orientation": "horizontal",
            "style": "IPY_MODEL_45b46edd7af543dd960b931ed9d28f88",
            "value": 5
          }
        },
        "5149677ca6e4457ea72ae94f1288b403": {
          "model_module": "@jupyter-widgets/controls",
          "model_name": "HTMLModel",
          "model_module_version": "1.5.0",
          "state": {
            "_dom_classes": [],
            "_model_module": "@jupyter-widgets/controls",
            "_model_module_version": "1.5.0",
            "_model_name": "HTMLModel",
            "_view_count": null,
            "_view_module": "@jupyter-widgets/controls",
            "_view_module_version": "1.5.0",
            "_view_name": "HTMLView",
            "description": "",
            "description_tooltip": null,
            "layout": "IPY_MODEL_a7658b2a3fd941928a10dc3520b08427",
            "placeholder": "​",
            "style": "IPY_MODEL_1e755d8e65604e8288932f236abb477b",
            "value": " 5/5 [00:00&lt;00:00, 15.69 file/s]"
          }
        },
        "44067b8897914c0a876629e21a36d6d6": {
          "model_module": "@jupyter-widgets/base",
          "model_name": "LayoutModel",
          "model_module_version": "1.2.0",
          "state": {
            "_model_module": "@jupyter-widgets/base",
            "_model_module_version": "1.2.0",
            "_model_name": "LayoutModel",
            "_view_count": null,
            "_view_module": "@jupyter-widgets/base",
            "_view_module_version": "1.2.0",
            "_view_name": "LayoutView",
            "align_content": null,
            "align_items": null,
            "align_self": null,
            "border": null,
            "bottom": null,
            "display": null,
            "flex": null,
            "flex_flow": null,
            "grid_area": null,
            "grid_auto_columns": null,
            "grid_auto_flow": null,
            "grid_auto_rows": null,
            "grid_column": null,
            "grid_gap": null,
            "grid_row": null,
            "grid_template_areas": null,
            "grid_template_columns": null,
            "grid_template_rows": null,
            "height": null,
            "justify_content": null,
            "justify_items": null,
            "left": null,
            "margin": null,
            "max_height": null,
            "max_width": null,
            "min_height": null,
            "min_width": null,
            "object_fit": null,
            "object_position": null,
            "order": null,
            "overflow": null,
            "overflow_x": null,
            "overflow_y": null,
            "padding": null,
            "right": null,
            "top": null,
            "visibility": null,
            "width": null
          }
        },
        "f9c5065b730a4ddf975f1b4c3e1a630f": {
          "model_module": "@jupyter-widgets/base",
          "model_name": "LayoutModel",
          "model_module_version": "1.2.0",
          "state": {
            "_model_module": "@jupyter-widgets/base",
            "_model_module_version": "1.2.0",
            "_model_name": "LayoutModel",
            "_view_count": null,
            "_view_module": "@jupyter-widgets/base",
            "_view_module_version": "1.2.0",
            "_view_name": "LayoutView",
            "align_content": null,
            "align_items": null,
            "align_self": null,
            "border": null,
            "bottom": null,
            "display": null,
            "flex": null,
            "flex_flow": null,
            "grid_area": null,
            "grid_auto_columns": null,
            "grid_auto_flow": null,
            "grid_auto_rows": null,
            "grid_column": null,
            "grid_gap": null,
            "grid_row": null,
            "grid_template_areas": null,
            "grid_template_columns": null,
            "grid_template_rows": null,
            "height": null,
            "justify_content": null,
            "justify_items": null,
            "left": null,
            "margin": null,
            "max_height": null,
            "max_width": null,
            "min_height": null,
            "min_width": null,
            "object_fit": null,
            "object_position": null,
            "order": null,
            "overflow": null,
            "overflow_x": null,
            "overflow_y": null,
            "padding": null,
            "right": null,
            "top": null,
            "visibility": null,
            "width": null
          }
        },
        "0fdf7df1a1b94cf9b1aeca1ab57c6fcb": {
          "model_module": "@jupyter-widgets/controls",
          "model_name": "DescriptionStyleModel",
          "model_module_version": "1.5.0",
          "state": {
            "_model_module": "@jupyter-widgets/controls",
            "_model_module_version": "1.5.0",
            "_model_name": "DescriptionStyleModel",
            "_view_count": null,
            "_view_module": "@jupyter-widgets/base",
            "_view_module_version": "1.2.0",
            "_view_name": "StyleView",
            "description_width": ""
          }
        },
        "a06fe6a3375e4120aafe53521d84df31": {
          "model_module": "@jupyter-widgets/base",
          "model_name": "LayoutModel",
          "model_module_version": "1.2.0",
          "state": {
            "_model_module": "@jupyter-widgets/base",
            "_model_module_version": "1.2.0",
            "_model_name": "LayoutModel",
            "_view_count": null,
            "_view_module": "@jupyter-widgets/base",
            "_view_module_version": "1.2.0",
            "_view_name": "LayoutView",
            "align_content": null,
            "align_items": null,
            "align_self": null,
            "border": null,
            "bottom": null,
            "display": null,
            "flex": null,
            "flex_flow": null,
            "grid_area": null,
            "grid_auto_columns": null,
            "grid_auto_flow": null,
            "grid_auto_rows": null,
            "grid_column": null,
            "grid_gap": null,
            "grid_row": null,
            "grid_template_areas": null,
            "grid_template_columns": null,
            "grid_template_rows": null,
            "height": null,
            "justify_content": null,
            "justify_items": null,
            "left": null,
            "margin": null,
            "max_height": null,
            "max_width": null,
            "min_height": null,
            "min_width": null,
            "object_fit": null,
            "object_position": null,
            "order": null,
            "overflow": null,
            "overflow_x": null,
            "overflow_y": null,
            "padding": null,
            "right": null,
            "top": null,
            "visibility": null,
            "width": null
          }
        },
        "45b46edd7af543dd960b931ed9d28f88": {
          "model_module": "@jupyter-widgets/controls",
          "model_name": "ProgressStyleModel",
          "model_module_version": "1.5.0",
          "state": {
            "_model_module": "@jupyter-widgets/controls",
            "_model_module_version": "1.5.0",
            "_model_name": "ProgressStyleModel",
            "_view_count": null,
            "_view_module": "@jupyter-widgets/base",
            "_view_module_version": "1.2.0",
            "_view_name": "StyleView",
            "bar_color": null,
            "description_width": ""
          }
        },
        "a7658b2a3fd941928a10dc3520b08427": {
          "model_module": "@jupyter-widgets/base",
          "model_name": "LayoutModel",
          "model_module_version": "1.2.0",
          "state": {
            "_model_module": "@jupyter-widgets/base",
            "_model_module_version": "1.2.0",
            "_model_name": "LayoutModel",
            "_view_count": null,
            "_view_module": "@jupyter-widgets/base",
            "_view_module_version": "1.2.0",
            "_view_name": "LayoutView",
            "align_content": null,
            "align_items": null,
            "align_self": null,
            "border": null,
            "bottom": null,
            "display": null,
            "flex": null,
            "flex_flow": null,
            "grid_area": null,
            "grid_auto_columns": null,
            "grid_auto_flow": null,
            "grid_auto_rows": null,
            "grid_column": null,
            "grid_gap": null,
            "grid_row": null,
            "grid_template_areas": null,
            "grid_template_columns": null,
            "grid_template_rows": null,
            "height": null,
            "justify_content": null,
            "justify_items": null,
            "left": null,
            "margin": null,
            "max_height": null,
            "max_width": null,
            "min_height": null,
            "min_width": null,
            "object_fit": null,
            "object_position": null,
            "order": null,
            "overflow": null,
            "overflow_x": null,
            "overflow_y": null,
            "padding": null,
            "right": null,
            "top": null,
            "visibility": null,
            "width": null
          }
        },
        "1e755d8e65604e8288932f236abb477b": {
          "model_module": "@jupyter-widgets/controls",
          "model_name": "DescriptionStyleModel",
          "model_module_version": "1.5.0",
          "state": {
            "_model_module": "@jupyter-widgets/controls",
            "_model_module_version": "1.5.0",
            "_model_name": "DescriptionStyleModel",
            "_view_count": null,
            "_view_module": "@jupyter-widgets/base",
            "_view_module_version": "1.2.0",
            "_view_name": "StyleView",
            "description_width": ""
          }
        }
      }
    }
  },
  "nbformat": 4,
  "nbformat_minor": 0
}