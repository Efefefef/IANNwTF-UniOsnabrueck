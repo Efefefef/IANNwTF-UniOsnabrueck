{
  "cells": [
    {
      "cell_type": "markdown",
      "metadata": {
        "colab_type": "text",
        "id": "view-in-github"
      },
      "source": [
        "<a href=\"https://colab.research.google.com/github/Efefefef/IANNwTF-UniOsnabrueck/blob/main/homework07/homework07.ipynb\" target=\"_parent\"><img src=\"https://colab.research.google.com/assets/colab-badge.svg\" alt=\"Open In Colab\"/></a>"
      ]
    },
    {
      "cell_type": "markdown",
      "metadata": {
        "id": "AWg14xyOL2OG"
      },
      "source": [
        "# HOMEWORK 07"
      ]
    },
    {
      "cell_type": "code",
      "execution_count": 760,
      "metadata": {
        "id": "9R9hKeIHyZDX"
      },
      "outputs": [],
      "source": [
        "import tensorflow_datasets as tfds\n",
        "import tensorflow as tf\n",
        "from keras.layers import Dense, Conv2D, AveragePooling2D, TimeDistributed, LSTM, GlobalAvgPool2D, AbstractRNNCell, MaxPooling2D\n",
        "from keras.initializers import Orthogonal\n",
        "from tqdm import tqdm\n",
        "import datetime"
      ]
    },
    {
      "cell_type": "markdown",
      "metadata": {
        "id": "rVk0oUzwEgBx"
      },
      "source": [
        "## Prepare Dataset"
      ]
    },
    {
      "cell_type": "code",
      "execution_count": 761,
      "metadata": {
        "id": "0_1MRMKDHb6f"
      },
      "outputs": [],
      "source": [
        "# Load MNIST dataset\n",
        "def load_data():\n",
        "    (train_ds, test_ds), ds_info = tfds.load('mnist', split=['train', 'test'], as_supervised=True, with_info=True)\n",
        "    return (train_ds, test_ds), ds_info"
      ]
    },
    {
      "cell_type": "code",
      "execution_count": 762,
      "metadata": {
        "id": "FAd7Erb2EQBN"
      },
      "outputs": [],
      "source": [
        "# Creating new target\n",
        "def new_target_fnc(ds, window_size):\n",
        "  l = list()\n",
        "  for i, elem in enumerate(ds):\n",
        "    if (i % window_size) == 0:\n",
        "      l.append(int(elem[1]))\n",
        "    else:\n",
        "      if (i % 2) == 0:\n",
        "        l.append(int(l[i-1] + elem[1]))\n",
        "      else:\n",
        "        l.append(int(l[i-1] - elem[1]))\n",
        "  return l\n",
        "\n",
        "# Preprocessing data\n",
        "def preprocess(data, batch_size, window_size):\n",
        "  new_targets = new_target_fnc(data, window_size)\n",
        "  new_targets = tf.data.Dataset.from_tensor_slices(new_targets)\n",
        "\n",
        "  data = tf.data.Dataset.zip((data, new_targets))\n",
        "  data = data.map(lambda img, new_target: (img[0], new_target))\n",
        "  data = data.map(lambda img, target: (img, tf.one_hot(target, depth=37)))\n",
        "\n",
        "  data = data.map(lambda img, target: (img, tf.cast(target, tf.float32)))\n",
        "\n",
        "  data = data.map(lambda img, target: (img,target))\n",
        "\n",
        "  data = data.map(lambda img, target: (tf.cast(img, tf.float32), target))\n",
        "  data = data.map(lambda img, target: ((img/128.)-1., target))\n",
        "\n",
        "  data = data.batch(window_size, drop_remainder=True)\n",
        "  data = data.batch(batch_size, drop_remainder=True)\n",
        "  data = data.cache().shuffle(1000).prefetch(tf.data.AUTOTUNE)\n",
        "  return data"
      ]
    },
    {
      "cell_type": "code",
      "execution_count": 763,
      "metadata": {},
      "outputs": [],
      "source": [
        "# CNN Model\n",
        "class CNN(tf.keras.Model):\n",
        "  def __init__(self, input_shape):\n",
        "    super().__init__()\n",
        "    # input conv1 = 28x28x1\n",
        "    self.conv1 = TimeDistributed(Conv2D(24, 3, activation='relu', padding='valid'), input_shape=input_shape)\n",
        "    # output conv1 = 28x28x24\n",
        "    self.conv2 = TimeDistributed(Conv2D(24, 3, activation='relu', padding='valid'))\n",
        "    # output conv2 = 28x28x24\n",
        "    self.pooling1 = TimeDistributed(MaxPooling2D())\n",
        "    # output pooling1 = 14x14x24\n",
        "    self.conv3 = TimeDistributed(Conv2D(24, 3, activation='relu', padding='valid'))\n",
        "    # output conv3 = 14x14x24\n",
        "    self.conv4 = TimeDistributed(Conv2D(24, 3, activation='relu', padding='valid'))\n",
        "    # output conv3 = 14x14x24\n",
        "    self.globalpooling = TimeDistributed(GlobalAvgPool2D())\n",
        "    # output globalpooling = 7x7x24\n",
        "    self.out = TimeDistributed(Dense(10, activation=\"softmax\"))\n",
        "\n",
        "\n",
        "  @tf.function\n",
        "  def __call__(self, x, training=False):\n",
        "    x = self.conv1(x)\n",
        "    x = self.conv2(x)\n",
        "    x = self.pooling1(x)\n",
        "    x = self.conv3(x)\n",
        "    x = self.conv4(x)\n",
        "\n",
        "    x = self.globalpooling(x)\n",
        "    x = self.out(x)\n",
        "    return x"
      ]
    },
    {
      "cell_type": "code",
      "execution_count": 764,
      "metadata": {},
      "outputs": [],
      "source": [
        "class LSTMCell(AbstractRNNCell):\n",
        "    def __init__(self, trainable=True, name=None, dtype=None, dynamic=False, **kwargs):\n",
        "        super().__init__(trainable, name, dtype, dynamic, **kwargs)\n",
        "\n",
        "        self.hidden_state_units = 50\n",
        "        self.cell_state_units = 50\n",
        "        self.input_size = 1\n",
        "\n",
        "        self.forget_gate = Dense(self.cell_state_units, activation=\"sigmoid\", kernel_initializer=tf.keras.initializers.Orthogonal(gain=1.0, seed=None))\n",
        "        self.input_gate = Dense(self.cell_state_units, activation=\"sigmoid\", kernel_initializer=tf.keras.initializers.Orthogonal(gain=1.0, seed=None))\n",
        "        self.cell_state_candidates = Dense(self.cell_state_units, activation=\"tanh\", kernel_initializer=tf.keras.initializers.Orthogonal(gain=1.0, seed=None))\n",
        "        self.output_gate = Dense(self.hidden_state_units, activation=\"sigmoid\", kernel_initializer=tf.keras.initializers.Orthogonal(gain=1.0, seed=None))\n",
        "\n",
        "    @property\n",
        "    def state_size(self):\n",
        "        return [tf.TensorShape([self.hidden_state_units]), \n",
        "                tf.TensorShape([self.cell_state_units])]\n",
        "\n",
        "    @property\n",
        "    def output_size(self):\n",
        "        return [tf.TensorShape([self.hidden_state_units])]\n",
        "\n",
        "    def get_initial_state(self, inputs=None, batch_size=None, dtype=None):\n",
        "        return [tf.zeros(shape=[32,self.hidden_state_units]), \n",
        "                tf.zeros(shape=[32,self.cell_state_units])]\n",
        "\n",
        "    def call(self, inputs, states):\n",
        "\n",
        "        hidden_state = states[0]\n",
        "        cell_state = states[1]\n",
        "\n",
        "        hidden_and_input_concat = tf.concat([hidden_state, tf.convert_to_tensor(inputs)], axis=-1)\n",
        "        hidden_and_input_concat = tf.convert_to_tensor(hidden_and_input_concat)\n",
        "\n",
        "        forget_filter = self.forget_gate(hidden_and_input_concat)\n",
        "        input_filter = self.input_gate(hidden_and_input_concat)\n",
        "        candidate_vector = self.cell_state_candidates(hidden_and_input_concat)\n",
        "\n",
        "        cell_state_with_forgetting = cell_state * forget_filter\n",
        "        cell_state = cell_state_with_forgetting + input_filter * candidate_vector\n",
        "\n",
        "        output_filter = self.output_gate(hidden_and_input_concat)\n",
        "\n",
        "        tanh_of_cell_state = tf.math.tanh(cell_state)\n",
        "        hidden_state = output_filter * tanh_of_cell_state\n",
        "        \n",
        "        return hidden_state, [hidden_state, cell_state]"
      ]
    },
    {
      "cell_type": "code",
      "execution_count": 765,
      "metadata": {},
      "outputs": [],
      "source": [
        "class OverallModel(tf.keras.Model):\n",
        "  def __init__(self, cnn, lstm, optimizer, loss_function):\n",
        "    super().__init__()\n",
        "\n",
        "    self.cnn = cnn\n",
        "    self.lstm = lstm\n",
        "    self.output_layer = Dense(37,activation='softmax')\n",
        "\n",
        "    self.metrics_list = [\n",
        "      tf.keras.metrics.CategoricalAccuracy(name=\"accuracy\"),\n",
        "      tf.keras.metrics.Mean(name=\"loss\")]\n",
        "\n",
        "    self.optimizer = optimizer\n",
        "    self.loss_function = loss_function\n",
        "\n",
        "  @property\n",
        "  def metrics(self):\n",
        "    return self.metrics_list\n",
        "    \n",
        "  def reset_metrics(self):\n",
        "     for metric in self.metrics:\n",
        "        metric.reset_state()\n",
        "\n",
        "  def call(self, sequence, training = False):\n",
        "    cnn_output = self.cnn(sequence)\n",
        "    cnn_number = tf.argmax(cnn_output, axis=-1)\n",
        "    lstm_output = self.lstm(cnn_output)\n",
        "    output = self.output_layer(lstm_output)\n",
        "    return output\n",
        "\n",
        "  @tf.function\n",
        "  def training_step(self, image, label):\n",
        "\n",
        "    with tf.GradientTape() as tape: \n",
        "      prediction = self(image, training = True)\n",
        "\n",
        "      loss = self.loss_function(label, prediction)\n",
        "\n",
        "    gradients = tape.gradient(loss, self.trainable_variables)\n",
        "    self.optimizer.apply_gradients(zip(gradients,self.trainable_variables))\n",
        "    self.metrics[0].update_state(label, prediction)\n",
        "    self.metrics[1].update_state(loss)  \n",
        "\n",
        "  @tf.function\n",
        "  def test_step(self, data):\n",
        "    image, label = data\n",
        "    prediction = self(image, training = False)\n",
        "    loss = self.loss_function(label, prediction)\n",
        "    self.metrics[0].update_state(label, prediction)\n",
        "    self.metrics[1].update_state(loss)\n",
        "\n"
      ]
    },
    {
      "cell_type": "code",
      "execution_count": 766,
      "metadata": {},
      "outputs": [],
      "source": [
        "#Training LOOp\n",
        "def training_loop(model, train_ds, test_ds, epochs, train_summary_writer, test_summary_writer, save_path):\n",
        "    for epoch in range (epochs):\n",
        "        model.reset_metrics()\n",
        "\n",
        "        for data in tqdm(train_ds, position=0, leave=True):\n",
        "\n",
        "            model.training_step(image=data[0], label=data[1])\n",
        "\n",
        "        with train_summary_writer.as_default():\n",
        "            tf.summary.scalar(model.metrics[0].name, model.metrics[0].result(), step=epoch)\n",
        "            tf.summary.scalar(model.metrics[1].name, model.metrics[1].result(), step=epoch)\n",
        "        \n",
        "        print(\"Epoch: \", epoch+1)\n",
        "        print(\"Loss: \", model.metrics[1].result().numpy(), \"Accuracy: \", model.metrics[0].result().numpy(), \"(Train)\")\n",
        "        model.reset_metrics()\n",
        "\n",
        "        for data in test_ds:\n",
        "            model.test_step(data)\n",
        "\n",
        "        with test_summary_writer.as_default():\n",
        "            tf.summary.scalar(model.metrics[0].name, model.metrics[0].result(), step=epoch)\n",
        "            tf.summary.scalar(model.metrics[1].name, model.metrics[1].result(), step=epoch)\n",
        "\n",
        "        print(\"Loss: \", model.metrics[1].result().numpy(), \"Accuracy: \", model.metrics[0].result().numpy(), \"(Test)\")\n",
        "    \n",
        "    model.save_weights(save_path)"
      ]
    },
    {
      "cell_type": "code",
      "execution_count": 767,
      "metadata": {},
      "outputs": [],
      "source": [
        "# train the model\n",
        "\n",
        "batch_size = 32\n",
        "window_size = 4\n",
        "(train_ds,test_ds), ds_info = load_data()\n",
        "train_ds = preprocess(train_ds, batch_size, window_size)\n",
        "test_ds = preprocess(test_ds, batch_size, window_size)\n"
      ]
    },
    {
      "cell_type": "code",
      "execution_count": 768,
      "metadata": {},
      "outputs": [
        {
          "name": "stderr",
          "output_type": "stream",
          "text": [
            "100%|██████████| 468/468 [00:08<00:00, 54.39it/s]\n"
          ]
        },
        {
          "name": "stdout",
          "output_type": "stream",
          "text": [
            "Epoch:  1\n",
            "Loss:  2.0286062 Accuracy:  0.13628472 (Train)\n",
            "Loss:  1.8822297 Accuracy:  0.07652243 (Test)\n"
          ]
        },
        {
          "name": "stderr",
          "output_type": "stream",
          "text": [
            "100%|██████████| 468/468 [00:07<00:00, 63.16it/s]\n"
          ]
        },
        {
          "name": "stdout",
          "output_type": "stream",
          "text": [
            "Epoch:  2\n",
            "Loss:  1.8460972 Accuracy:  0.14177684 (Train)\n",
            "Loss:  1.839498 Accuracy:  0.071213946 (Test)\n"
          ]
        },
        {
          "name": "stderr",
          "output_type": "stream",
          "text": [
            "100%|██████████| 468/468 [00:06<00:00, 68.81it/s]\n"
          ]
        },
        {
          "name": "stdout",
          "output_type": "stream",
          "text": [
            "Epoch:  3\n",
            "Loss:  1.8278553 Accuracy:  0.19297543 (Train)\n",
            "Loss:  1.8331913 Accuracy:  0.075921476 (Test)\n"
          ]
        },
        {
          "name": "stderr",
          "output_type": "stream",
          "text": [
            "100%|██████████| 468/468 [00:06<00:00, 67.90it/s]\n"
          ]
        },
        {
          "name": "stdout",
          "output_type": "stream",
          "text": [
            "Epoch:  4\n",
            "Loss:  1.8214357 Accuracy:  0.1562166 (Train)\n",
            "Loss:  1.8225311 Accuracy:  0.1988181 (Test)\n"
          ]
        },
        {
          "name": "stderr",
          "output_type": "stream",
          "text": [
            "100%|██████████| 468/468 [00:07<00:00, 66.60it/s]\n"
          ]
        },
        {
          "name": "stdout",
          "output_type": "stream",
          "text": [
            "Epoch:  5\n",
            "Loss:  1.818157 Accuracy:  0.1519598 (Train)\n",
            "Loss:  1.8211126 Accuracy:  0.23647836 (Test)\n"
          ]
        },
        {
          "name": "stderr",
          "output_type": "stream",
          "text": [
            "100%|██████████| 468/468 [00:07<00:00, 65.07it/s]\n"
          ]
        },
        {
          "name": "stdout",
          "output_type": "stream",
          "text": [
            "Epoch:  6\n",
            "Loss:  1.8154522 Accuracy:  0.16741787 (Train)\n",
            "Loss:  1.8205146 Accuracy:  0.07972757 (Test)\n"
          ]
        },
        {
          "name": "stderr",
          "output_type": "stream",
          "text": [
            "100%|██████████| 468/468 [00:07<00:00, 64.74it/s]\n"
          ]
        },
        {
          "name": "stdout",
          "output_type": "stream",
          "text": [
            "Epoch:  7\n",
            "Loss:  1.8133374 Accuracy:  0.18312633 (Train)\n",
            "Loss:  1.8165191 Accuracy:  0.20102164 (Test)\n"
          ]
        },
        {
          "name": "stderr",
          "output_type": "stream",
          "text": [
            "100%|██████████| 468/468 [00:07<00:00, 64.79it/s]\n"
          ]
        },
        {
          "name": "stdout",
          "output_type": "stream",
          "text": [
            "Epoch:  8\n",
            "Loss:  1.8122696 Accuracy:  0.16568176 (Train)\n",
            "Loss:  1.8158307 Accuracy:  0.20202324 (Test)\n"
          ]
        },
        {
          "name": "stderr",
          "output_type": "stream",
          "text": [
            "100%|██████████| 468/468 [00:07<00:00, 65.26it/s]\n"
          ]
        },
        {
          "name": "stdout",
          "output_type": "stream",
          "text": [
            "Epoch:  9\n",
            "Loss:  1.8102843 Accuracy:  0.19270833 (Train)\n",
            "Loss:  1.8157572 Accuracy:  0.08042868 (Test)\n"
          ]
        },
        {
          "name": "stderr",
          "output_type": "stream",
          "text": [
            "100%|██████████| 468/468 [00:07<00:00, 66.71it/s]\n"
          ]
        },
        {
          "name": "stdout",
          "output_type": "stream",
          "text": [
            "Epoch:  10\n",
            "Loss:  1.8090632 Accuracy:  0.18741654 (Train)\n",
            "Loss:  1.8116556 Accuracy:  0.35667068 (Test)\n"
          ]
        },
        {
          "name": "stderr",
          "output_type": "stream",
          "text": [
            "100%|██████████| 468/468 [00:07<00:00, 66.62it/s]\n"
          ]
        },
        {
          "name": "stdout",
          "output_type": "stream",
          "text": [
            "Epoch:  11\n",
            "Loss:  1.8081028 Accuracy:  0.18274239 (Train)\n",
            "Loss:  1.8142667 Accuracy:  0.076322116 (Test)\n"
          ]
        },
        {
          "name": "stderr",
          "output_type": "stream",
          "text": [
            "100%|██████████| 468/468 [00:07<00:00, 64.38it/s]\n"
          ]
        },
        {
          "name": "stdout",
          "output_type": "stream",
          "text": [
            "Epoch:  12\n",
            "Loss:  1.8073535 Accuracy:  0.16920406 (Train)\n",
            "Loss:  1.8126667 Accuracy:  0.2001202 (Test)\n"
          ]
        },
        {
          "name": "stderr",
          "output_type": "stream",
          "text": [
            "100%|██████████| 468/468 [00:07<00:00, 64.51it/s]\n"
          ]
        },
        {
          "name": "stdout",
          "output_type": "stream",
          "text": [
            "Epoch:  13\n",
            "Loss:  1.8069973 Accuracy:  0.17461272 (Train)\n",
            "Loss:  1.8096323 Accuracy:  0.35667068 (Test)\n"
          ]
        },
        {
          "name": "stderr",
          "output_type": "stream",
          "text": [
            "100%|██████████| 468/468 [00:07<00:00, 62.74it/s]\n"
          ]
        },
        {
          "name": "stdout",
          "output_type": "stream",
          "text": [
            "Epoch:  14\n",
            "Loss:  1.8058027 Accuracy:  0.19285858 (Train)\n",
            "Loss:  1.8117926 Accuracy:  0.080629006 (Test)\n"
          ]
        },
        {
          "name": "stderr",
          "output_type": "stream",
          "text": [
            "100%|██████████| 468/468 [00:07<00:00, 60.07it/s]\n"
          ]
        },
        {
          "name": "stdout",
          "output_type": "stream",
          "text": [
            "Epoch:  15\n",
            "Loss:  1.8053352 Accuracy:  0.18594752 (Train)\n",
            "Loss:  1.8089209 Accuracy:  0.35667068 (Test)\n"
          ]
        },
        {
          "name": "stderr",
          "output_type": "stream",
          "text": [
            "100%|██████████| 468/468 [00:07<00:00, 61.36it/s]\n"
          ]
        },
        {
          "name": "stdout",
          "output_type": "stream",
          "text": [
            "Epoch:  16\n",
            "Loss:  1.8048953 Accuracy:  0.18197449 (Train)\n",
            "Loss:  1.8107065 Accuracy:  0.20202324 (Test)\n"
          ]
        },
        {
          "name": "stderr",
          "output_type": "stream",
          "text": [
            "100%|██████████| 468/468 [00:07<00:00, 64.46it/s]\n"
          ]
        },
        {
          "name": "stdout",
          "output_type": "stream",
          "text": [
            "Epoch:  17\n",
            "Loss:  1.8042715 Accuracy:  0.17042267 (Train)\n",
            "Loss:  1.808012 Accuracy:  0.35346556 (Test)\n"
          ]
        },
        {
          "name": "stderr",
          "output_type": "stream",
          "text": [
            "100%|██████████| 468/468 [00:07<00:00, 66.61it/s]\n"
          ]
        },
        {
          "name": "stdout",
          "output_type": "stream",
          "text": [
            "Epoch:  18\n",
            "Loss:  1.8030033 Accuracy:  0.1562166 (Train)\n",
            "Loss:  1.8096497 Accuracy:  0.35346556 (Test)\n"
          ]
        },
        {
          "name": "stderr",
          "output_type": "stream",
          "text": [
            "100%|██████████| 468/468 [00:07<00:00, 63.61it/s]\n"
          ]
        },
        {
          "name": "stdout",
          "output_type": "stream",
          "text": [
            "Epoch:  19\n",
            "Loss:  1.8029859 Accuracy:  0.17669939 (Train)\n",
            "Loss:  1.806036 Accuracy:  0.35667068 (Test)\n"
          ]
        },
        {
          "name": "stderr",
          "output_type": "stream",
          "text": [
            "100%|██████████| 468/468 [00:07<00:00, 62.83it/s]\n"
          ]
        },
        {
          "name": "stdout",
          "output_type": "stream",
          "text": [
            "Epoch:  20\n",
            "Loss:  1.8025148 Accuracy:  0.16177551 (Train)\n",
            "Loss:  1.8098612 Accuracy:  0.19861779 (Test)\n"
          ]
        },
        {
          "name": "stderr",
          "output_type": "stream",
          "text": [
            "100%|██████████| 468/468 [00:07<00:00, 62.33it/s]\n"
          ]
        },
        {
          "name": "stdout",
          "output_type": "stream",
          "text": [
            "Epoch:  21\n",
            "Loss:  1.8022608 Accuracy:  0.1832265 (Train)\n",
            "Loss:  1.8063368 Accuracy:  0.083834134 (Test)\n"
          ]
        },
        {
          "name": "stderr",
          "output_type": "stream",
          "text": [
            "100%|██████████| 468/468 [00:06<00:00, 67.10it/s]\n"
          ]
        },
        {
          "name": "stdout",
          "output_type": "stream",
          "text": [
            "Epoch:  22\n",
            "Loss:  1.8018682 Accuracy:  0.17815171 (Train)\n",
            "Loss:  1.806149 Accuracy:  0.07652243 (Test)\n"
          ]
        },
        {
          "name": "stderr",
          "output_type": "stream",
          "text": [
            "100%|██████████| 468/468 [00:07<00:00, 65.40it/s]\n"
          ]
        },
        {
          "name": "stdout",
          "output_type": "stream",
          "text": [
            "Epoch:  23\n",
            "Loss:  1.8015461 Accuracy:  0.18115652 (Train)\n",
            "Loss:  1.8063583 Accuracy:  0.07652243 (Test)\n"
          ]
        },
        {
          "name": "stderr",
          "output_type": "stream",
          "text": [
            "100%|██████████| 468/468 [00:07<00:00, 64.76it/s]\n"
          ]
        },
        {
          "name": "stdout",
          "output_type": "stream",
          "text": [
            "Epoch:  24\n",
            "Loss:  1.8010865 Accuracy:  0.18003806 (Train)\n",
            "Loss:  1.8077286 Accuracy:  0.083834134 (Test)\n"
          ]
        },
        {
          "name": "stderr",
          "output_type": "stream",
          "text": [
            "100%|██████████| 468/468 [00:07<00:00, 63.82it/s]\n"
          ]
        },
        {
          "name": "stdout",
          "output_type": "stream",
          "text": [
            "Epoch:  25\n",
            "Loss:  1.80076 Accuracy:  0.1771501 (Train)\n",
            "Loss:  1.8075945 Accuracy:  0.07491987 (Test)\n"
          ]
        },
        {
          "name": "stderr",
          "output_type": "stream",
          "text": [
            "100%|██████████| 468/468 [00:07<00:00, 64.74it/s]\n"
          ]
        },
        {
          "name": "stdout",
          "output_type": "stream",
          "text": [
            "Epoch:  26\n",
            "Loss:  1.8008394 Accuracy:  0.18217482 (Train)\n",
            "Loss:  1.8061984 Accuracy:  0.07822516 (Test)\n"
          ]
        },
        {
          "name": "stderr",
          "output_type": "stream",
          "text": [
            "100%|██████████| 468/468 [00:06<00:00, 67.50it/s]\n"
          ]
        },
        {
          "name": "stdout",
          "output_type": "stream",
          "text": [
            "Epoch:  27\n",
            "Loss:  1.8007708 Accuracy:  0.1683527 (Train)\n",
            "Loss:  1.8057135 Accuracy:  0.08042868 (Test)\n"
          ]
        },
        {
          "name": "stderr",
          "output_type": "stream",
          "text": [
            "100%|██████████| 468/468 [00:07<00:00, 64.32it/s]\n"
          ]
        },
        {
          "name": "stdout",
          "output_type": "stream",
          "text": [
            "Epoch:  28\n",
            "Loss:  1.8003261 Accuracy:  0.171875 (Train)\n",
            "Loss:  1.8061945 Accuracy:  0.081430286 (Test)\n"
          ]
        },
        {
          "name": "stderr",
          "output_type": "stream",
          "text": [
            "100%|██████████| 468/468 [00:07<00:00, 65.78it/s]\n"
          ]
        },
        {
          "name": "stdout",
          "output_type": "stream",
          "text": [
            "Epoch:  29\n",
            "Loss:  1.7999651 Accuracy:  0.1678519 (Train)\n",
            "Loss:  1.8035439 Accuracy:  0.083834134 (Test)\n"
          ]
        },
        {
          "name": "stderr",
          "output_type": "stream",
          "text": [
            "100%|██████████| 468/468 [00:07<00:00, 66.13it/s]\n"
          ]
        },
        {
          "name": "stdout",
          "output_type": "stream",
          "text": [
            "Epoch:  30\n",
            "Loss:  1.7998364 Accuracy:  0.15401308 (Train)\n",
            "Loss:  1.8048102 Accuracy:  0.35346556 (Test)\n"
          ]
        },
        {
          "name": "stderr",
          "output_type": "stream",
          "text": [
            "100%|██████████| 468/468 [00:07<00:00, 63.94it/s]\n"
          ]
        },
        {
          "name": "stdout",
          "output_type": "stream",
          "text": [
            "Epoch:  31\n",
            "Loss:  1.799707 Accuracy:  0.17775106 (Train)\n",
            "Loss:  1.8050796 Accuracy:  0.07972757 (Test)\n"
          ]
        },
        {
          "name": "stderr",
          "output_type": "stream",
          "text": [
            "100%|██████████| 468/468 [00:07<00:00, 66.16it/s]\n"
          ]
        },
        {
          "name": "stdout",
          "output_type": "stream",
          "text": [
            "Epoch:  32\n",
            "Loss:  1.7998987 Accuracy:  0.15756878 (Train)\n",
            "Loss:  1.8047601 Accuracy:  0.083834134 (Test)\n"
          ]
        },
        {
          "name": "stderr",
          "output_type": "stream",
          "text": [
            "100%|██████████| 468/468 [00:07<00:00, 66.64it/s]\n"
          ]
        },
        {
          "name": "stdout",
          "output_type": "stream",
          "text": [
            "Epoch:  33\n",
            "Loss:  1.7993715 Accuracy:  0.16514757 (Train)\n",
            "Loss:  1.8041168 Accuracy:  0.35346556 (Test)\n"
          ]
        },
        {
          "name": "stderr",
          "output_type": "stream",
          "text": [
            "100%|██████████| 468/468 [00:07<00:00, 62.95it/s]\n"
          ]
        },
        {
          "name": "stdout",
          "output_type": "stream",
          "text": [
            "Epoch:  34\n",
            "Loss:  1.7989321 Accuracy:  0.18300948 (Train)\n",
            "Loss:  1.8050336 Accuracy:  0.0776242 (Test)\n"
          ]
        },
        {
          "name": "stderr",
          "output_type": "stream",
          "text": [
            "100%|██████████| 468/468 [00:07<00:00, 65.03it/s]\n"
          ]
        },
        {
          "name": "stdout",
          "output_type": "stream",
          "text": [
            "Epoch:  35\n",
            "Loss:  1.7990166 Accuracy:  0.1587707 (Train)\n",
            "Loss:  1.8050776 Accuracy:  0.35647035 (Test)\n"
          ]
        },
        {
          "name": "stderr",
          "output_type": "stream",
          "text": [
            "100%|██████████| 468/468 [00:07<00:00, 62.69it/s]\n"
          ]
        },
        {
          "name": "stdout",
          "output_type": "stream",
          "text": [
            "Epoch:  36\n",
            "Loss:  1.7990776 Accuracy:  0.17362781 (Train)\n",
            "Loss:  1.8047276 Accuracy:  0.07802484 (Test)\n"
          ]
        },
        {
          "name": "stderr",
          "output_type": "stream",
          "text": [
            "100%|██████████| 468/468 [00:07<00:00, 65.43it/s]\n"
          ]
        },
        {
          "name": "stdout",
          "output_type": "stream",
          "text": [
            "Epoch:  37\n",
            "Loss:  1.7989444 Accuracy:  0.15352897 (Train)\n",
            "Loss:  1.8047003 Accuracy:  0.083834134 (Test)\n"
          ]
        },
        {
          "name": "stderr",
          "output_type": "stream",
          "text": [
            "100%|██████████| 468/468 [00:06<00:00, 67.84it/s]\n"
          ]
        },
        {
          "name": "stdout",
          "output_type": "stream",
          "text": [
            "Epoch:  38\n",
            "Loss:  1.7986202 Accuracy:  0.15214343 (Train)\n",
            "Loss:  1.8039132 Accuracy:  0.081430286 (Test)\n"
          ]
        },
        {
          "name": "stderr",
          "output_type": "stream",
          "text": [
            "100%|██████████| 468/468 [00:07<00:00, 65.09it/s]\n"
          ]
        },
        {
          "name": "stdout",
          "output_type": "stream",
          "text": [
            "Epoch:  39\n",
            "Loss:  1.7983621 Accuracy:  0.17062299 (Train)\n",
            "Loss:  1.8034363 Accuracy:  0.35346556 (Test)\n"
          ]
        },
        {
          "name": "stderr",
          "output_type": "stream",
          "text": [
            "100%|██████████| 468/468 [00:07<00:00, 64.11it/s]\n"
          ]
        },
        {
          "name": "stdout",
          "output_type": "stream",
          "text": [
            "Epoch:  40\n",
            "Loss:  1.7982786 Accuracy:  0.18240853 (Train)\n",
            "Loss:  1.8054938 Accuracy:  0.07802484 (Test)\n"
          ]
        },
        {
          "name": "stderr",
          "output_type": "stream",
          "text": [
            "100%|██████████| 468/468 [00:07<00:00, 60.77it/s]\n"
          ]
        },
        {
          "name": "stdout",
          "output_type": "stream",
          "text": [
            "Epoch:  41\n",
            "Loss:  1.7983036 Accuracy:  0.16581531 (Train)\n",
            "Loss:  1.802666 Accuracy:  0.35346556 (Test)\n"
          ]
        },
        {
          "name": "stderr",
          "output_type": "stream",
          "text": [
            "100%|██████████| 468/468 [00:07<00:00, 61.82it/s]\n"
          ]
        },
        {
          "name": "stdout",
          "output_type": "stream",
          "text": [
            "Epoch:  42\n",
            "Loss:  1.7984818 Accuracy:  0.1663161 (Train)\n",
            "Loss:  1.8037851 Accuracy:  0.07311699 (Test)\n"
          ]
        },
        {
          "name": "stderr",
          "output_type": "stream",
          "text": [
            "100%|██████████| 468/468 [00:07<00:00, 62.44it/s]\n"
          ]
        },
        {
          "name": "stdout",
          "output_type": "stream",
          "text": [
            "Epoch:  43\n",
            "Loss:  1.7980335 Accuracy:  0.17284322 (Train)\n",
            "Loss:  1.8037995 Accuracy:  0.23287259 (Test)\n"
          ]
        },
        {
          "name": "stderr",
          "output_type": "stream",
          "text": [
            "100%|██████████| 468/468 [00:07<00:00, 65.52it/s]\n"
          ]
        },
        {
          "name": "stdout",
          "output_type": "stream",
          "text": [
            "Epoch:  44\n",
            "Loss:  1.7980385 Accuracy:  0.1758981 (Train)\n",
            "Loss:  1.8023492 Accuracy:  0.083834134 (Test)\n"
          ]
        },
        {
          "name": "stderr",
          "output_type": "stream",
          "text": [
            "100%|██████████| 468/468 [00:07<00:00, 66.69it/s]\n"
          ]
        },
        {
          "name": "stdout",
          "output_type": "stream",
          "text": [
            "Epoch:  45\n",
            "Loss:  1.7978562 Accuracy:  0.1759148 (Train)\n",
            "Loss:  1.8038651 Accuracy:  0.080629006 (Test)\n"
          ]
        },
        {
          "name": "stderr",
          "output_type": "stream",
          "text": [
            "100%|██████████| 468/468 [00:07<00:00, 64.06it/s]\n"
          ]
        },
        {
          "name": "stdout",
          "output_type": "stream",
          "text": [
            "Epoch:  46\n",
            "Loss:  1.7978084 Accuracy:  0.1494558 (Train)\n",
            "Loss:  1.804842 Accuracy:  0.08122997 (Test)\n"
          ]
        },
        {
          "name": "stderr",
          "output_type": "stream",
          "text": [
            "100%|██████████| 468/468 [00:07<00:00, 62.74it/s]\n"
          ]
        },
        {
          "name": "stdout",
          "output_type": "stream",
          "text": [
            "Epoch:  47\n",
            "Loss:  1.7975458 Accuracy:  0.15241052 (Train)\n",
            "Loss:  1.8035009 Accuracy:  0.081430286 (Test)\n"
          ]
        },
        {
          "name": "stderr",
          "output_type": "stream",
          "text": [
            "100%|██████████| 468/468 [00:07<00:00, 63.72it/s]\n"
          ]
        },
        {
          "name": "stdout",
          "output_type": "stream",
          "text": [
            "Epoch:  48\n",
            "Loss:  1.797823 Accuracy:  0.16376202 (Train)\n",
            "Loss:  1.8019049 Accuracy:  0.083834134 (Test)\n"
          ]
        },
        {
          "name": "stderr",
          "output_type": "stream",
          "text": [
            "100%|██████████| 468/468 [00:06<00:00, 67.01it/s]\n"
          ]
        },
        {
          "name": "stdout",
          "output_type": "stream",
          "text": [
            "Epoch:  49\n",
            "Loss:  1.7975069 Accuracy:  0.15998931 (Train)\n",
            "Loss:  1.8016461 Accuracy:  0.081430286 (Test)\n"
          ]
        },
        {
          "name": "stderr",
          "output_type": "stream",
          "text": [
            "100%|██████████| 468/468 [00:07<00:00, 66.74it/s]\n"
          ]
        },
        {
          "name": "stdout",
          "output_type": "stream",
          "text": [
            "Epoch:  50\n",
            "Loss:  1.7973409 Accuracy:  0.16230969 (Train)\n",
            "Loss:  1.8025831 Accuracy:  0.083834134 (Test)\n"
          ]
        }
      ],
      "source": [
        "\n",
        "optimizer = tf.keras.optimizers.Adam()\n",
        "loss_function = tf.keras.losses.CategoricalCrossentropy()\n",
        "cnn = CNN(input_shape=(window_size, 28, 28, 1))\n",
        "lstm_cell = LSTMCell()\n",
        "lstm_layer = tf.keras.layers.RNN(lstm_cell, return_sequences=True, unroll=True)\n",
        "model = OverallModel(cnn=cnn, lstm=lstm_layer, optimizer=optimizer, loss_function=loss_function)\n",
        "epochs = 50\n",
        "\n",
        "current_time = datetime.datetime.now().strftime(\"%Y%m%d-%H%M%S\")\n",
        "save_path = f\"models/{current_time}\"\n",
        "train_log_path = f\"logs/{current_time}/train\"\n",
        "test_log_path = f\"logs/{current_time}/test\"\n",
        "train_summary_writer = tf.summary.create_file_writer(train_log_path)\n",
        "test_summary_writer = tf.summary.create_file_writer(test_log_path)\n",
        "training_loop(model, train_ds, test_ds, epochs, train_summary_writer, test_summary_writer, save_path)"
      ]
    },
    {
      "cell_type": "code",
      "execution_count": 769,
      "metadata": {
        "id": "TY9WRpifWn0m"
      },
      "outputs": [],
      "source": [
        "# Initiating RNN model\n",
        "rnn = RNNModel()\n",
        "\n",
        "# Compiling the rnn model\n",
        "rnn.compile(optimizer, loss_function)"
      ]
    },
    {
      "cell_type": "code",
      "execution_count": 770,
      "metadata": {
        "id": "s6aqr0oUW38p"
      },
      "outputs": [],
      "source": [
        "# Training RNN Model \n",
        "EXPERIMENT_NAME = \"RNN_model\"\n",
        "current_time = datetime.datetime.now().strftime(\"%Y%m%d-%H%M%S\")\n",
        "logging_callback = tf.keras.callbacks.TensorBoard(log_dir=f\"./logs/{EXPERIMENT_NAME}/{current_time}\")"
      ]
    },
    {
      "cell_type": "code",
      "execution_count": 771,
      "metadata": {
        "colab": {
          "base_uri": "https://localhost:8080/",
          "height": 554
        },
        "id": "fcACZuLJaIiW",
        "outputId": "cae38ca8-3ab7-489e-b288-4c97b483637c"
      },
      "outputs": [
        {
          "ename": "ValueError",
          "evalue": "Data cardinality is ambiguous:\n  x sizes: 14976\n  y sizes: 32, 32, 32, 32, 32, 32, 32, 32, 32, 32, 32, 32, 32, 32, 32, 32, 32, 32, 32, 32, 32, 32, 32, 32, 32, 32, 32, 32, 32, 32, 32, 32, 32, 32, 32, 32, 32, 32, 32, 32, 32, 32, 32, 32, 32, 32, 32, 32, 32, 32, 32, 32, 32, 32, 32, 32, 32, 32, 32, 32, 32, 32, 32, 32, 32, 32, 32, 32, 32, 32, 32, 32, 32, 32, 32, 32, 32, 32, 32, 32, 32, 32, 32, 32, 32, 32, 32, 32, 32, 32, 32, 32, 32, 32, 32, 32, 32, 32, 32, 32, 32, 32, 32, 32, 32, 32, 32, 32, 32, 32, 32, 32, 32, 32, 32, 32, 32, 32, 32, 32, 32, 32, 32, 32, 32, 32, 32, 32, 32, 32, 32, 32, 32, 32, 32, 32, 32, 32, 32, 32, 32, 32, 32, 32, 32, 32, 32, 32, 32, 32, 32, 32, 32, 32, 32, 32, 32, 32, 32, 32, 32, 32, 32, 32, 32, 32, 32, 32, 32, 32, 32, 32, 32, 32, 32, 32, 32, 32, 32, 32, 32, 32, 32, 32, 32, 32, 32, 32, 32, 32, 32, 32, 32, 32, 32, 32, 32, 32, 32, 32, 32, 32, 32, 32, 32, 32, 32, 32, 32, 32, 32, 32, 32, 32, 32, 32, 32, 32, 32, 32, 32, 32, 32, 32, 32, 32, 32, 32, 32, 32, 32, 32, 32, 32, 32, 32, 32, 32, 32, 32, 32, 32, 32, 32, 32, 32, 32, 32, 32, 32, 32, 32, 32, 32, 32, 32, 32, 32, 32, 32, 32, 32, 32, 32, 32, 32, 32, 32, 32, 32, 32, 32, 32, 32, 32, 32, 32, 32, 32, 32, 32, 32, 32, 32, 32, 32, 32, 32, 32, 32, 32, 32, 32, 32, 32, 32, 32, 32, 32, 32, 32, 32, 32, 32, 32, 32, 32, 32, 32, 32, 32, 32, 32, 32, 32, 32, 32, 32, 32, 32, 32, 32, 32, 32, 32, 32, 32, 32, 32, 32, 32, 32, 32, 32, 32, 32, 32, 32, 32, 32, 32, 32, 32, 32, 32, 32, 32, 32, 32, 32, 32, 32, 32, 32, 32, 32, 32, 32, 32, 32, 32, 32, 32, 32, 32, 32, 32, 32, 32, 32, 32, 32, 32, 32, 32, 32, 32, 32, 32, 32, 32, 32, 32, 32, 32, 32, 32, 32, 32, 32, 32, 32, 32, 32, 32, 32, 32, 32, 32, 32, 32, 32, 32, 32, 32, 32, 32, 32, 32, 32, 32, 32, 32, 32, 32, 32, 32, 32, 32, 32, 32, 32, 32, 32, 32, 32, 32, 32, 32, 32, 32, 32, 32, 32, 32, 32, 32, 32, 32, 32, 32, 32, 32, 32, 32, 32, 32, 32, 32, 32, 32, 32, 32, 32, 32, 32, 32, 32, 32, 32, 32, 32, 32, 32, 32, 32, 32, 32\nMake sure all arrays contain the same number of samples.",
          "output_type": "error",
          "traceback": [
            "\u001b[0;31m---------------------------------------------------------------------------\u001b[0m",
            "\u001b[0;31mValueError\u001b[0m                                Traceback (most recent call last)",
            "Cell \u001b[0;32mIn [771], line 2\u001b[0m\n\u001b[1;32m      1\u001b[0m \u001b[39m# Training RNN Model using fit\u001b[39;00m\n\u001b[0;32m----> 2\u001b[0m history \u001b[39m=\u001b[39m rnn\u001b[39m.\u001b[39;49mfit(x\u001b[39m=\u001b[39;49m cnn_output_train,\n\u001b[1;32m      3\u001b[0m                   y \u001b[39m=\u001b[39;49m y_train,\n\u001b[1;32m      4\u001b[0m                   validation_data\u001b[39m=\u001b[39;49mtest_ds,\n\u001b[1;32m      5\u001b[0m                   initial_epoch\u001b[39m=\u001b[39;49m\u001b[39m2\u001b[39;49m,\n\u001b[1;32m      6\u001b[0m                   epochs\u001b[39m=\u001b[39;49m\u001b[39m6\u001b[39;49m,\n\u001b[1;32m      7\u001b[0m                   callbacks\u001b[39m=\u001b[39;49m[logging_callback])\n",
            "File \u001b[0;32m~/anaconda3/envs/wtf-gpu/lib/python3.9/site-packages/keras/utils/traceback_utils.py:70\u001b[0m, in \u001b[0;36mfilter_traceback.<locals>.error_handler\u001b[0;34m(*args, **kwargs)\u001b[0m\n\u001b[1;32m     67\u001b[0m     filtered_tb \u001b[39m=\u001b[39m _process_traceback_frames(e\u001b[39m.\u001b[39m__traceback__)\n\u001b[1;32m     68\u001b[0m     \u001b[39m# To get the full stack trace, call:\u001b[39;00m\n\u001b[1;32m     69\u001b[0m     \u001b[39m# `tf.debugging.disable_traceback_filtering()`\u001b[39;00m\n\u001b[0;32m---> 70\u001b[0m     \u001b[39mraise\u001b[39;00m e\u001b[39m.\u001b[39mwith_traceback(filtered_tb) \u001b[39mfrom\u001b[39;00m \u001b[39mNone\u001b[39m\n\u001b[1;32m     71\u001b[0m \u001b[39mfinally\u001b[39;00m:\n\u001b[1;32m     72\u001b[0m     \u001b[39mdel\u001b[39;00m filtered_tb\n",
            "File \u001b[0;32m~/anaconda3/envs/wtf-gpu/lib/python3.9/site-packages/keras/engine/data_adapter.py:1848\u001b[0m, in \u001b[0;36m_check_data_cardinality\u001b[0;34m(data)\u001b[0m\n\u001b[1;32m   1841\u001b[0m     msg \u001b[39m+\u001b[39m\u001b[39m=\u001b[39m \u001b[39m\"\u001b[39m\u001b[39m  \u001b[39m\u001b[39m{}\u001b[39;00m\u001b[39m sizes: \u001b[39m\u001b[39m{}\u001b[39;00m\u001b[39m\\n\u001b[39;00m\u001b[39m\"\u001b[39m\u001b[39m.\u001b[39mformat(\n\u001b[1;32m   1842\u001b[0m         label,\n\u001b[1;32m   1843\u001b[0m         \u001b[39m\"\u001b[39m\u001b[39m, \u001b[39m\u001b[39m\"\u001b[39m\u001b[39m.\u001b[39mjoin(\n\u001b[1;32m   1844\u001b[0m             \u001b[39mstr\u001b[39m(i\u001b[39m.\u001b[39mshape[\u001b[39m0\u001b[39m]) \u001b[39mfor\u001b[39;00m i \u001b[39min\u001b[39;00m tf\u001b[39m.\u001b[39mnest\u001b[39m.\u001b[39mflatten(single_data)\n\u001b[1;32m   1845\u001b[0m         ),\n\u001b[1;32m   1846\u001b[0m     )\n\u001b[1;32m   1847\u001b[0m msg \u001b[39m+\u001b[39m\u001b[39m=\u001b[39m \u001b[39m\"\u001b[39m\u001b[39mMake sure all arrays contain the same number of samples.\u001b[39m\u001b[39m\"\u001b[39m\n\u001b[0;32m-> 1848\u001b[0m \u001b[39mraise\u001b[39;00m \u001b[39mValueError\u001b[39;00m(msg)\n",
            "\u001b[0;31mValueError\u001b[0m: Data cardinality is ambiguous:\n  x sizes: 14976\n  y sizes: 32, 32, 32, 32, 32, 32, 32, 32, 32, 32, 32, 32, 32, 32, 32, 32, 32, 32, 32, 32, 32, 32, 32, 32, 32, 32, 32, 32, 32, 32, 32, 32, 32, 32, 32, 32, 32, 32, 32, 32, 32, 32, 32, 32, 32, 32, 32, 32, 32, 32, 32, 32, 32, 32, 32, 32, 32, 32, 32, 32, 32, 32, 32, 32, 32, 32, 32, 32, 32, 32, 32, 32, 32, 32, 32, 32, 32, 32, 32, 32, 32, 32, 32, 32, 32, 32, 32, 32, 32, 32, 32, 32, 32, 32, 32, 32, 32, 32, 32, 32, 32, 32, 32, 32, 32, 32, 32, 32, 32, 32, 32, 32, 32, 32, 32, 32, 32, 32, 32, 32, 32, 32, 32, 32, 32, 32, 32, 32, 32, 32, 32, 32, 32, 32, 32, 32, 32, 32, 32, 32, 32, 32, 32, 32, 32, 32, 32, 32, 32, 32, 32, 32, 32, 32, 32, 32, 32, 32, 32, 32, 32, 32, 32, 32, 32, 32, 32, 32, 32, 32, 32, 32, 32, 32, 32, 32, 32, 32, 32, 32, 32, 32, 32, 32, 32, 32, 32, 32, 32, 32, 32, 32, 32, 32, 32, 32, 32, 32, 32, 32, 32, 32, 32, 32, 32, 32, 32, 32, 32, 32, 32, 32, 32, 32, 32, 32, 32, 32, 32, 32, 32, 32, 32, 32, 32, 32, 32, 32, 32, 32, 32, 32, 32, 32, 32, 32, 32, 32, 32, 32, 32, 32, 32, 32, 32, 32, 32, 32, 32, 32, 32, 32, 32, 32, 32, 32, 32, 32, 32, 32, 32, 32, 32, 32, 32, 32, 32, 32, 32, 32, 32, 32, 32, 32, 32, 32, 32, 32, 32, 32, 32, 32, 32, 32, 32, 32, 32, 32, 32, 32, 32, 32, 32, 32, 32, 32, 32, 32, 32, 32, 32, 32, 32, 32, 32, 32, 32, 32, 32, 32, 32, 32, 32, 32, 32, 32, 32, 32, 32, 32, 32, 32, 32, 32, 32, 32, 32, 32, 32, 32, 32, 32, 32, 32, 32, 32, 32, 32, 32, 32, 32, 32, 32, 32, 32, 32, 32, 32, 32, 32, 32, 32, 32, 32, 32, 32, 32, 32, 32, 32, 32, 32, 32, 32, 32, 32, 32, 32, 32, 32, 32, 32, 32, 32, 32, 32, 32, 32, 32, 32, 32, 32, 32, 32, 32, 32, 32, 32, 32, 32, 32, 32, 32, 32, 32, 32, 32, 32, 32, 32, 32, 32, 32, 32, 32, 32, 32, 32, 32, 32, 32, 32, 32, 32, 32, 32, 32, 32, 32, 32, 32, 32, 32, 32, 32, 32, 32, 32, 32, 32, 32, 32, 32, 32, 32, 32, 32, 32, 32, 32, 32, 32, 32, 32, 32, 32, 32, 32, 32, 32, 32, 32, 32, 32, 32, 32, 32, 32, 32, 32, 32, 32, 32, 32, 32, 32, 32, 32\nMake sure all arrays contain the same number of samples."
          ]
        }
      ],
      "source": [
        "# Training RNN Model using fit\n",
        "history = rnn.fit(x= cnn_output_train,\n",
        "                  y = y_train,\n",
        "                  validation_data=test_ds,\n",
        "                  initial_epoch=2,\n",
        "                  epochs=6,\n",
        "                  callbacks=[logging_callback])"
      ]
    },
    {
      "cell_type": "markdown",
      "metadata": {
        "id": "TYCvZHtHxUgj"
      },
      "source": [
        "## Plotting the result"
      ]
    },
    {
      "cell_type": "code",
      "execution_count": null,
      "metadata": {
        "id": "3gO7lh9zxXEz"
      },
      "outputs": [],
      "source": [
        "# Plotting RNN model from History\n",
        "plt.plot(history.history[\"loss\"])\n",
        "plt.plot(history.history[\"val_loss\"])\n",
        "plt.legend(labels=[\"training\",\"validation\"])\n",
        "plt.xlabel(\"Epoch\")\n",
        "plt.ylabel(\"Categorical Crossentropy Loss\")\n",
        "plt.show()"
      ]
    }
  ],
  "metadata": {
    "colab": {
      "include_colab_link": true,
      "provenance": []
    },
    "kernelspec": {
      "display_name": "Python 3",
      "language": "python",
      "name": "python3"
    },
    "language_info": {
      "codemirror_mode": {
        "name": "ipython",
        "version": 3
      },
      "file_extension": ".py",
      "mimetype": "text/x-python",
      "name": "python",
      "nbconvert_exporter": "python",
      "pygments_lexer": "ipython3",
      "version": "3.9.13"
    },
    "orig_nbformat": 4,
    "vscode": {
      "interpreter": {
        "hash": "0f0d69c8c30e9dd8d5d9993603a334207417236334c8e6fdf3cd2ae360d39f34"
      }
    },
    "widgets": {
      "application/vnd.jupyter.widget-state+json": {
        "06f554fc183d4fb4b8f0783c9b39127d": {
          "model_module": "@jupyter-widgets/controls",
          "model_module_version": "1.5.0",
          "model_name": "HBoxModel",
          "state": {
            "_dom_classes": [],
            "_model_module": "@jupyter-widgets/controls",
            "_model_module_version": "1.5.0",
            "_model_name": "HBoxModel",
            "_view_count": null,
            "_view_module": "@jupyter-widgets/controls",
            "_view_module_version": "1.5.0",
            "_view_name": "HBoxView",
            "box_style": "",
            "children": [
              "IPY_MODEL_9e6f90b515404d45a911efdc612830fa",
              "IPY_MODEL_8be0a2807d3f4be297c50f61f383a041",
              "IPY_MODEL_5149677ca6e4457ea72ae94f1288b403"
            ],
            "layout": "IPY_MODEL_44067b8897914c0a876629e21a36d6d6"
          }
        },
        "0fdf7df1a1b94cf9b1aeca1ab57c6fcb": {
          "model_module": "@jupyter-widgets/controls",
          "model_module_version": "1.5.0",
          "model_name": "DescriptionStyleModel",
          "state": {
            "_model_module": "@jupyter-widgets/controls",
            "_model_module_version": "1.5.0",
            "_model_name": "DescriptionStyleModel",
            "_view_count": null,
            "_view_module": "@jupyter-widgets/base",
            "_view_module_version": "1.2.0",
            "_view_name": "StyleView",
            "description_width": ""
          }
        },
        "1e755d8e65604e8288932f236abb477b": {
          "model_module": "@jupyter-widgets/controls",
          "model_module_version": "1.5.0",
          "model_name": "DescriptionStyleModel",
          "state": {
            "_model_module": "@jupyter-widgets/controls",
            "_model_module_version": "1.5.0",
            "_model_name": "DescriptionStyleModel",
            "_view_count": null,
            "_view_module": "@jupyter-widgets/base",
            "_view_module_version": "1.2.0",
            "_view_name": "StyleView",
            "description_width": ""
          }
        },
        "44067b8897914c0a876629e21a36d6d6": {
          "model_module": "@jupyter-widgets/base",
          "model_module_version": "1.2.0",
          "model_name": "LayoutModel",
          "state": {
            "_model_module": "@jupyter-widgets/base",
            "_model_module_version": "1.2.0",
            "_model_name": "LayoutModel",
            "_view_count": null,
            "_view_module": "@jupyter-widgets/base",
            "_view_module_version": "1.2.0",
            "_view_name": "LayoutView",
            "align_content": null,
            "align_items": null,
            "align_self": null,
            "border": null,
            "bottom": null,
            "display": null,
            "flex": null,
            "flex_flow": null,
            "grid_area": null,
            "grid_auto_columns": null,
            "grid_auto_flow": null,
            "grid_auto_rows": null,
            "grid_column": null,
            "grid_gap": null,
            "grid_row": null,
            "grid_template_areas": null,
            "grid_template_columns": null,
            "grid_template_rows": null,
            "height": null,
            "justify_content": null,
            "justify_items": null,
            "left": null,
            "margin": null,
            "max_height": null,
            "max_width": null,
            "min_height": null,
            "min_width": null,
            "object_fit": null,
            "object_position": null,
            "order": null,
            "overflow": null,
            "overflow_x": null,
            "overflow_y": null,
            "padding": null,
            "right": null,
            "top": null,
            "visibility": null,
            "width": null
          }
        },
        "45b46edd7af543dd960b931ed9d28f88": {
          "model_module": "@jupyter-widgets/controls",
          "model_module_version": "1.5.0",
          "model_name": "ProgressStyleModel",
          "state": {
            "_model_module": "@jupyter-widgets/controls",
            "_model_module_version": "1.5.0",
            "_model_name": "ProgressStyleModel",
            "_view_count": null,
            "_view_module": "@jupyter-widgets/base",
            "_view_module_version": "1.2.0",
            "_view_name": "StyleView",
            "bar_color": null,
            "description_width": ""
          }
        },
        "5149677ca6e4457ea72ae94f1288b403": {
          "model_module": "@jupyter-widgets/controls",
          "model_module_version": "1.5.0",
          "model_name": "HTMLModel",
          "state": {
            "_dom_classes": [],
            "_model_module": "@jupyter-widgets/controls",
            "_model_module_version": "1.5.0",
            "_model_name": "HTMLModel",
            "_view_count": null,
            "_view_module": "@jupyter-widgets/controls",
            "_view_module_version": "1.5.0",
            "_view_name": "HTMLView",
            "description": "",
            "description_tooltip": null,
            "layout": "IPY_MODEL_a7658b2a3fd941928a10dc3520b08427",
            "placeholder": "​",
            "style": "IPY_MODEL_1e755d8e65604e8288932f236abb477b",
            "value": " 5/5 [00:00&lt;00:00, 15.69 file/s]"
          }
        },
        "8be0a2807d3f4be297c50f61f383a041": {
          "model_module": "@jupyter-widgets/controls",
          "model_module_version": "1.5.0",
          "model_name": "FloatProgressModel",
          "state": {
            "_dom_classes": [],
            "_model_module": "@jupyter-widgets/controls",
            "_model_module_version": "1.5.0",
            "_model_name": "FloatProgressModel",
            "_view_count": null,
            "_view_module": "@jupyter-widgets/controls",
            "_view_module_version": "1.5.0",
            "_view_name": "ProgressView",
            "bar_style": "success",
            "description": "",
            "description_tooltip": null,
            "layout": "IPY_MODEL_a06fe6a3375e4120aafe53521d84df31",
            "max": 5,
            "min": 0,
            "orientation": "horizontal",
            "style": "IPY_MODEL_45b46edd7af543dd960b931ed9d28f88",
            "value": 5
          }
        },
        "9e6f90b515404d45a911efdc612830fa": {
          "model_module": "@jupyter-widgets/controls",
          "model_module_version": "1.5.0",
          "model_name": "HTMLModel",
          "state": {
            "_dom_classes": [],
            "_model_module": "@jupyter-widgets/controls",
            "_model_module_version": "1.5.0",
            "_model_name": "HTMLModel",
            "_view_count": null,
            "_view_module": "@jupyter-widgets/controls",
            "_view_module_version": "1.5.0",
            "_view_name": "HTMLView",
            "description": "",
            "description_tooltip": null,
            "layout": "IPY_MODEL_f9c5065b730a4ddf975f1b4c3e1a630f",
            "placeholder": "​",
            "style": "IPY_MODEL_0fdf7df1a1b94cf9b1aeca1ab57c6fcb",
            "value": "Dl Completed...: 100%"
          }
        },
        "a06fe6a3375e4120aafe53521d84df31": {
          "model_module": "@jupyter-widgets/base",
          "model_module_version": "1.2.0",
          "model_name": "LayoutModel",
          "state": {
            "_model_module": "@jupyter-widgets/base",
            "_model_module_version": "1.2.0",
            "_model_name": "LayoutModel",
            "_view_count": null,
            "_view_module": "@jupyter-widgets/base",
            "_view_module_version": "1.2.0",
            "_view_name": "LayoutView",
            "align_content": null,
            "align_items": null,
            "align_self": null,
            "border": null,
            "bottom": null,
            "display": null,
            "flex": null,
            "flex_flow": null,
            "grid_area": null,
            "grid_auto_columns": null,
            "grid_auto_flow": null,
            "grid_auto_rows": null,
            "grid_column": null,
            "grid_gap": null,
            "grid_row": null,
            "grid_template_areas": null,
            "grid_template_columns": null,
            "grid_template_rows": null,
            "height": null,
            "justify_content": null,
            "justify_items": null,
            "left": null,
            "margin": null,
            "max_height": null,
            "max_width": null,
            "min_height": null,
            "min_width": null,
            "object_fit": null,
            "object_position": null,
            "order": null,
            "overflow": null,
            "overflow_x": null,
            "overflow_y": null,
            "padding": null,
            "right": null,
            "top": null,
            "visibility": null,
            "width": null
          }
        },
        "a7658b2a3fd941928a10dc3520b08427": {
          "model_module": "@jupyter-widgets/base",
          "model_module_version": "1.2.0",
          "model_name": "LayoutModel",
          "state": {
            "_model_module": "@jupyter-widgets/base",
            "_model_module_version": "1.2.0",
            "_model_name": "LayoutModel",
            "_view_count": null,
            "_view_module": "@jupyter-widgets/base",
            "_view_module_version": "1.2.0",
            "_view_name": "LayoutView",
            "align_content": null,
            "align_items": null,
            "align_self": null,
            "border": null,
            "bottom": null,
            "display": null,
            "flex": null,
            "flex_flow": null,
            "grid_area": null,
            "grid_auto_columns": null,
            "grid_auto_flow": null,
            "grid_auto_rows": null,
            "grid_column": null,
            "grid_gap": null,
            "grid_row": null,
            "grid_template_areas": null,
            "grid_template_columns": null,
            "grid_template_rows": null,
            "height": null,
            "justify_content": null,
            "justify_items": null,
            "left": null,
            "margin": null,
            "max_height": null,
            "max_width": null,
            "min_height": null,
            "min_width": null,
            "object_fit": null,
            "object_position": null,
            "order": null,
            "overflow": null,
            "overflow_x": null,
            "overflow_y": null,
            "padding": null,
            "right": null,
            "top": null,
            "visibility": null,
            "width": null
          }
        },
        "f9c5065b730a4ddf975f1b4c3e1a630f": {
          "model_module": "@jupyter-widgets/base",
          "model_module_version": "1.2.0",
          "model_name": "LayoutModel",
          "state": {
            "_model_module": "@jupyter-widgets/base",
            "_model_module_version": "1.2.0",
            "_model_name": "LayoutModel",
            "_view_count": null,
            "_view_module": "@jupyter-widgets/base",
            "_view_module_version": "1.2.0",
            "_view_name": "LayoutView",
            "align_content": null,
            "align_items": null,
            "align_self": null,
            "border": null,
            "bottom": null,
            "display": null,
            "flex": null,
            "flex_flow": null,
            "grid_area": null,
            "grid_auto_columns": null,
            "grid_auto_flow": null,
            "grid_auto_rows": null,
            "grid_column": null,
            "grid_gap": null,
            "grid_row": null,
            "grid_template_areas": null,
            "grid_template_columns": null,
            "grid_template_rows": null,
            "height": null,
            "justify_content": null,
            "justify_items": null,
            "left": null,
            "margin": null,
            "max_height": null,
            "max_width": null,
            "min_height": null,
            "min_width": null,
            "object_fit": null,
            "object_position": null,
            "order": null,
            "overflow": null,
            "overflow_x": null,
            "overflow_y": null,
            "padding": null,
            "right": null,
            "top": null,
            "visibility": null,
            "width": null
          }
        }
      }
    }
  },
  "nbformat": 4,
  "nbformat_minor": 0
}
